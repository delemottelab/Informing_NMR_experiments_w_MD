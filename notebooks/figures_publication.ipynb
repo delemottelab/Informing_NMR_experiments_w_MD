{
 "cells": [
  {
   "cell_type": "code",
   "execution_count": 1,
   "metadata": {},
   "outputs": [],
   "source": [
    "import os\n",
    "import sys\n",
    "sys.path.append(\"..\")\n",
    "import numpy as np \n",
    "import pandas as pd\n",
    "import MDAnalysis as mda\n",
    "import arviz as az\n",
    "import pymc3 as pm\n",
    "import src.spc_utils.spc_os\n",
    "import src.spc_utils.spc_analysis\n",
    "from src.spc_utils.spc_vis import format_plus_minus_error\n",
    "from src.spc_utils.fetch_data import df_to_data_sheet\n",
    "import pickle\n",
    "import seaborn as sns\n",
    "import cellbell\n",
    "import matplotlib.pyplot as plt\n",
    "import subprocess as sp\n",
    "from src.features.build_features import get_significant\n",
    "from src.visualization.handle_data import combine_posterior_variables\n",
    "RANDOM_SEED = 281090"
   ]
  },
  {
   "cell_type": "code",
   "execution_count": 2,
   "metadata": {},
   "outputs": [
    {
     "name": "stdout",
     "output_type": "stream",
     "text": [
      "mkdir: cannot create directory ‘../reports/for_print’: File exists\n"
     ]
    }
   ],
   "source": [
    "%mkdir ../reports/for_print"
   ]
  },
  {
   "cell_type": "markdown",
   "metadata": {},
   "source": [
    "# Load Functions and varibles"
   ]
  },
  {
   "cell_type": "code",
   "execution_count": 3,
   "metadata": {},
   "outputs": [],
   "source": [
    "method = 'sparta_plus' # sparta_plus or ppm\n",
    "nucleus = 'CA' # CA C CB N\n",
    "data_size = 2000  # 70000 max data_size\n",
    "model_name = 'skew_model'\n",
    "infer = False"
   ]
  },
  {
   "cell_type": "code",
   "execution_count": 4,
   "metadata": {},
   "outputs": [],
   "source": [
    "raw_data_dir = '../data/raw/'\n",
    "interim_data_dir = '../data/interim/'\n",
    "processed_data_dir = '../data/processed/'\n",
    "external_data_dir = '../data/external/'\n",
    "models_dir = '../models/bayesian/'\n",
    "reports_dir = '../reports/'"
   ]
  },
  {
   "cell_type": "code",
   "execution_count": 5,
   "metadata": {},
   "outputs": [],
   "source": [
    "with open('../data/aa_resid_dic.pkl', 'rb') as my_file:\n",
    "    aa_dic = pickle.load(my_file)"
   ]
  },
  {
   "cell_type": "code",
   "execution_count": 6,
   "metadata": {},
   "outputs": [],
   "source": [
    "def load_data_frames(processed_data_dir, method, nucleus, data_size, model_name, RANDOM_SEED, xrd = False):\n",
    "    if xrd:\n",
    "        xrd = '_xrd'\n",
    "    else:\n",
    "        xrd = ''\n",
    "    df_diff = pd.read_pickle(processed_data_dir + 'diff_CS.pkl')\n",
    "    mask = df_diff.dropna(axis=1).columns\n",
    "    df_diff = df_diff.reindex(columns=mask).xs(nucleus, level='nuclei', axis=1).drop([33, 34, 111, 112], axis=1,errors='ignore')\n",
    "    \n",
    "    df_exp_o = pd.read_pickle(processed_data_dir + 'open_CS.pkl')\n",
    "\n",
    "    df_exp_o = df_exp_o.reindex(columns=mask).xs(nucleus, level='nuclei', axis=1).drop([33, 34, 111, 112], axis=1,errors='ignore')\n",
    "\n",
    "    df_3fb5 = pd.read_pickle(processed_data_dir +\n",
    "                             f'3FB5_lb/CS_{method}_3FB5_lb{xrd}.pkl')\n",
    "\n",
    "    df_3fb5 = df_3fb5.reindex(columns=mask)#.sample(data_size,\n",
    "                                          #random_state=RANDOM_SEED)\n",
    "    df_3fb5 = df_3fb5.xs(nucleus, level='nuclei', axis=1).drop([33, 34, 111, 112], axis=1,errors='ignore')\n",
    "\n",
    "    df_5vk6 = pd.read_pickle(processed_data_dir +\n",
    "                             f'5VK6_lb/CS_{method}_5VK6_lb{xrd}.pkl')\n",
    "\n",
    "    df_5vk6 = df_5vk6.reindex(columns=mask)#.sample(data_size,\n",
    "                                          #random_state=RANDOM_SEED)\n",
    "    df_5vk6 = df_5vk6.xs(nucleus, level='nuclei', axis=1).drop([33, 34, 111, 112], axis=1,errors='ignore')\n",
    "\n",
    "    df_5vkh = pd.read_pickle(processed_data_dir +\n",
    "                             f'5VKH_lb/CS_{method}_5VKH_lb{xrd}.pkl')\n",
    "\n",
    "    df_5vkh = df_5vkh.reindex(columns=mask)#.sample(data_size,\n",
    "                                          #random_state=RANDOM_SEED)\n",
    "    df_5vkh = df_5vkh.xs(nucleus, level='nuclei', axis=1).drop([33, 34, 111, 112], axis=1,errors='ignore')\n",
    "\n",
    "    return df_exp_o,df_3fb5, df_5vk6, df_5vkh, df_diff, mask"
   ]
  },
  {
   "cell_type": "markdown",
   "metadata": {},
   "source": [
    "# Make histograms"
   ]
  },
  {
   "cell_type": "code",
   "execution_count": 7,
   "metadata": {},
   "outputs": [],
   "source": [
    "method_to_name = {\n",
    "    'sparta_plus': 'SPARTA+',\n",
    "    'shiftx2': 'SHIFTX2'\n",
    "}"
   ]
  },
  {
   "cell_type": "code",
   "execution_count": 8,
   "metadata": {},
   "outputs": [],
   "source": [
    "nuclei_to_name = {\n",
    "    'CA': r'C$_\\alpha$',\n",
    "    'CB': r'C$_\\beta$',\n",
    "    'C': 'C',\n",
    "    'N': 'N',\n",
    "}"
   ]
  },
  {
   "cell_type": "code",
   "execution_count": null,
   "metadata": {},
   "outputs": [],
   "source": [
    "for nucleus in ['CA', 'CB', 'C', 'N']:\n",
    "    for method in ['shiftx2', 'sparta_plus']:\n",
    "        df_exp_o, df_3fb5, df_5vk6, df_5vkh, df_diff, mask = load_data_frames(processed_data_dir, method, nucleus, data_size, model_name, RANDOM_SEED)\n",
    "        n = df_3fb5.shape[1]\n",
    "        fig, ax = plt.subplots(n // 6 + 1, 6, figsize=(13, 15))\n",
    "        ax = ax.flatten()\n",
    "        for i, resid in enumerate(df_3fb5):\n",
    "            sns.kdeplot(df_3fb5[resid], ax=ax[i], label='po')\n",
    "            sns.kdeplot(df_5vk6[resid], ax=ax[i], label='fo')\n",
    "            sns.kdeplot(df_5vkh[resid], ax=ax[i], label='c')\n",
    "            ax[i].set_title(f'{aa_dic[resid]}{resid}')\n",
    "            #ax[i].set_xlabel(f'Raw CS$_{sim}$ {nucleus}')\n",
    "            ax[i].set_ylabel(f'')\n",
    "            ax[i].set_xlabel(f'')\n",
    "            ax[i].axvline(x=df_exp_o[resid][0], c=\"black\")\n",
    "        for i in range(6 - n % 6):\n",
    "            fig.delaxes(ax[-i-1])\n",
    "        fig.tight_layout()\n",
    "        fig.suptitle(r'Raw CS$_{sim}$' + f' {method_to_name[method]} {nuclei_to_name[nucleus]} Distributions', y =1.03, size =20)\n",
    "        fig.savefig(reports_dir + f'for_print/hist_{method}_{nucleus}.png')"
   ]
  },
  {
   "cell_type": "markdown",
   "metadata": {},
   "source": [
    "# Compare methods"
   ]
  },
  {
   "cell_type": "code",
   "execution_count": null,
   "metadata": {},
   "outputs": [],
   "source": [
    "nucleus = 'CA'"
   ]
  },
  {
   "cell_type": "code",
   "execution_count": null,
   "metadata": {},
   "outputs": [],
   "source": [
    "df_exp_o, df_3fb5_sparta, df_5vk6_sparta, df_5vkh_sparta, df_diff, mask = load_data_frames(processed_data_dir, 'sparta_plus', nucleus, data_size, model_name, RANDOM_SEED)"
   ]
  },
  {
   "cell_type": "code",
   "execution_count": null,
   "metadata": {},
   "outputs": [],
   "source": [
    "df_exp_o, df_3fb5_shiftx, df_5vk6_shiftx, df_5vkh_shiftx, df_diff, mask = load_data_frames(processed_data_dir, 'shiftx2', nucleus, data_size, model_name, RANDOM_SEED)"
   ]
  },
  {
   "cell_type": "code",
   "execution_count": null,
   "metadata": {},
   "outputs": [],
   "source": [
    "fig, ax = plt.subplots(df_3fb5.shape[1] // 6 + 1, 6, figsize=(20, 15))\n",
    "ax = ax.flatten()\n",
    "for i, resid in enumerate(df_3fb5_ppm):\n",
    "    sns.kdeplot(df_3fb5_sparta[resid], ax=ax[i], label='sparta+')\n",
    "    sns.kdeplot(df_3fb5_shiftx[resid], ax=ax[i], label='shifx2')\n",
    "    ax[i].set_title(f'Resid {resid}')\n",
    "    ax[i].set_xlabel(f'CS {nucleus}')\n",
    "    ax[i].set_ylabel('p(CS)')\n",
    "    ax[i].axvline(x=df_exp_o[resid][0], c=\"black\")\n",
    "fig.legend(labels = ['shiftx2', 'sparta+'])\n",
    "fig.tight_layout()\n",
    "fig.savefig(reports_dir + f'for_print/hist_all_open_{nucleus}.png')"
   ]
  },
  {
   "cell_type": "markdown",
   "metadata": {},
   "source": [
    "# Study Inference"
   ]
  },
  {
   "cell_type": "markdown",
   "metadata": {},
   "source": [
    "## Load Data "
   ]
  },
  {
   "cell_type": "code",
   "execution_count": null,
   "metadata": {},
   "outputs": [],
   "source": [
    "methods = {}"
   ]
  },
  {
   "cell_type": "code",
   "execution_count": null,
   "metadata": {},
   "outputs": [],
   "source": [
    "nuclei = ['CA','CB','C','N']"
   ]
  },
  {
   "cell_type": "code",
   "execution_count": null,
   "metadata": {},
   "outputs": [],
   "source": [
    "for nucleus in nuclei:\n",
    "    methods[nucleus] = {}\n",
    "    for method in [ 'sparta_plus', 'shiftx2']:\n",
    "        model_path = models_dir + f\"{model_name}_{method}_{nucleus}.nc\"\n",
    "        my_model = az.from_netcdf(model_path)\n",
    "        my_model.posterior = combine_posterior_variables(\n",
    "        my_model.posterior, ['mean_o_c', 'mean_fo_c'], 'delta_delta', 'state',\n",
    "        ['PartiallyOpen', 'Fully Open'])\n",
    "        my_model.posterior = my_model.posterior.drop(['T33', 'V34','A111', 'T112'], dim='resid')\n",
    "        methods[nucleus][method]= { 'data': my_model}"
   ]
  },
  {
   "cell_type": "code",
   "execution_count": null,
   "metadata": {},
   "outputs": [],
   "source": [
    "for m in [ 'sparta_plus', 'shiftx2']:\n",
    "    for c, a in zip([0.2, 0.2, 0.2, 0.5], nuclei):\n",
    "        l = get_significant( models_dir + f\"{model_name}_{m}_{a}.nc\", ppm_cutoff=c)\n",
    "        [ l.remove(amino_acid) for amino_acid in ['T33', 'V34','A111', 'T112'] if amino_acid in l ]\n",
    "        methods[a][m]['aa'] = l"
   ]
  },
  {
   "cell_type": "code",
   "execution_count": null,
   "metadata": {},
   "outputs": [],
   "source": [
    "plt.rcParams[\"text.usetex\"] = False"
   ]
  },
  {
   "cell_type": "code",
   "execution_count": null,
   "metadata": {},
   "outputs": [],
   "source": [
    "plt.rcParams[\"axes.facecolor\"] = \"white\" #\"#EAEAF2\""
   ]
  },
  {
   "cell_type": "markdown",
   "metadata": {},
   "source": [
    "## Statical filtering"
   ]
  },
  {
   "cell_type": "markdown",
   "metadata": {},
   "source": [
    "### SPARTA+"
   ]
  },
  {
   "cell_type": "code",
   "execution_count": null,
   "metadata": {},
   "outputs": [],
   "source": [
    "method = 'sparta_plus'"
   ]
  },
  {
   "cell_type": "code",
   "execution_count": null,
   "metadata": {},
   "outputs": [],
   "source": [
    "fig, ax = plt.subplots(2,4, figsize=(18,25), sharex=True)\n",
    "ax = ax.flatten()\n",
    "nucleus = 'CA'\n",
    "my_model = methods[nucleus][method]['data']\n",
    "az.plot_forest(my_model.posterior.rename({'diff_means':''})[''], rope=(-0.2, 0.2), combined=True,\n",
    "              var_names=[''], colors='black', ax=ax[0])\n",
    "az.plot_forest(my_model.posterior.rename({'effect_size':''})[''], combined=True, var_names=[''], rope=(-0.5, 0.5), colors='black', ax=ax[1])\n",
    "ax[0].set_xlabel(r'CS$^\\mathrm{FO}_\\mathrm{sim}$ - CS$^\\mathrm{PO}_\\mathrm{sim}$ (ppm)', size=15)\n",
    "ax[0].set_title(r'Difference (C$_\\alpha$, SPARTA+)', size=15)\n",
    "ax[1].set_xlabel(r'(CS$^\\mathrm{FO}_\\mathrm{sim}$ - CS$^\\mathrm{PO}_\\mathrm{sim})/$std$_\\mathrm{pool}$',size=15)\n",
    "ax[1].set_title(r'Effect Size (C$_\\alpha$, SPARTA+)', size=15)\n",
    "\n",
    "nucleus = 'CB'\n",
    "my_model = methods[nucleus][method]['data']\n",
    "az.plot_forest(my_model.posterior.rename({'diff_means':''})[''], rope=(-0.2, 0.2), combined=True,\n",
    "              var_names=[''], colors='black', ax=ax[2])\n",
    "az.plot_forest(my_model.posterior.rename({'effect_size':''})[''], combined=True, var_names=[''], rope=(-0.5, 0.5), colors='black', ax=ax[3])\n",
    "ax[2].set_xlabel(r'CS$^\\mathrm{FO}_\\mathrm{sim}$ - CS$^\\mathrm{PO}_\\mathrm{sim}$ (ppm)', size=15)\n",
    "ax[2].set_title(r'Difference (C$_\\beta$, SPARTA+)', size=15)\n",
    "ax[3].set_xlabel(r'(CS$^\\mathrm{FO}_\\mathrm{sim}$ - CS$^\\mathrm{PO}_\\mathrm{sim})/$std$_\\mathrm{pool}$',size=15)\n",
    "ax[3].set_title(r'Effect Size (C$_\\beta$, SPARTA+)', size=15)\n",
    "\n",
    "nucleus = 'C'\n",
    "my_model = methods[nucleus][method]['data']\n",
    "az.plot_forest(my_model.posterior.rename({'diff_means':''})[''], rope=(-0.2, 0.2), combined=True,\n",
    "              var_names=[''], colors='black', ax=ax[4])\n",
    "az.plot_forest(my_model.posterior.rename({'effect_size':''})[''], combined=True, var_names=[''], rope=(-0.5, 0.5), colors='black', ax=ax[5])\n",
    "ax[4].set_xlabel(r'CS$^\\mathrm{FO}_\\mathrm{sim}$ - CS$^\\mathrm{PO}_\\mathrm{sim}$ (ppm)', size=15)\n",
    "ax[4].set_title(r'Difference (C, SPARTA+)', size=15)\n",
    "ax[5].set_xlabel(r'(CS$^\\mathrm{FO}_\\mathrm{sim}$ - CS$^\\mathrm{PO}_\\mathrm{sim})/$std$_\\mathrm{pool}$',size=15)\n",
    "ax[5].set_title(r'Effect Size (C, SPARTA+)', size=15)\n",
    "\n",
    "nucleus = 'N'\n",
    "my_model = methods[nucleus][method]['data']\n",
    "az.plot_forest(my_model.posterior.rename({'diff_means':''})[''], rope=(-0.5, 0.5), combined=True,\n",
    "              var_names=[''], colors='black', ax=ax[6])\n",
    "az.plot_forest(my_model.posterior.rename({'effect_size':''})[''], combined=True, var_names=[''], rope=(-0.5, 0.5), colors='black', ax=ax[7])\n",
    "ax[6].set_xlabel(r'CS$^\\mathrm{FO}_\\mathrm{sim}$ - CS$^\\mathrm{PO}_\\mathrm{sim}$ (ppm)', size=15)\n",
    "ax[6].set_title(r'Difference (N, SPARTA+)', size=15)\n",
    "ax[7].set_xlabel(r'(CS$^\\mathrm{FO}_\\mathrm{sim}$ - CS$^\\mathrm{PO}_\\mathrm{sim})/$std$_\\mathrm{pool}$',size=15)\n",
    "ax[7].set_title(r'Effect Size (N, SPARTA+)', size=15)\n",
    "fig.tight_layout()\n",
    "plt.savefig(f'{reports_dir}for_print/statistical_filtering_{model_name}_{method}_all.png')"
   ]
  },
  {
   "cell_type": "code",
   "execution_count": null,
   "metadata": {},
   "outputs": [],
   "source": [
    "fig, ax = plt.subplots(1,2, figsize=(10,12), sharex=True)\n",
    "ax = ax.flatten()\n",
    "nucleus = 'CA'\n",
    "my_model = methods[nucleus][method]['data']\n",
    "az.plot_forest(my_model.posterior.rename({'diff_means':''})[''], rope=(-0.2, 0.2), combined=True,\n",
    "              var_names=[''], colors='black', ax=ax[0])\n",
    "az.plot_forest(my_model.posterior.rename({'effect_size':''})[''], combined=True, var_names=[''], rope=(-0.5, 0.5), colors='black', ax=ax[1])\n",
    "ax[0].set_xlabel(r'CS$^\\mathrm{FO}_\\mathrm{sim}$ - CS$^\\mathrm{PO}_\\mathrm{sim}$ (ppm)', size=15)\n",
    "ax[0].set_title(r'Difference (C$_\\alpha$, SPARTA+)', size=15)\n",
    "ax[1].set_xlabel(r'(CS$^\\mathrm{FO}_\\mathrm{sim}$ - CS$^\\mathrm{PO}_\\mathrm{sim})/$std$_\\mathrm{pool}$',size=15)\n",
    "ax[1].set_title(r'Effect Size (C$_\\alpha$, SPARTA+)', size=15)\n",
    "\n",
    "fig.tight_layout()\n",
    "plt.savefig(f'{reports_dir}for_print/statistical_filtering_{model_name}_{method}_main.pdf', bbox_inches='tight')"
   ]
  },
  {
   "cell_type": "markdown",
   "metadata": {},
   "source": [
    "### SHIFTX2"
   ]
  },
  {
   "cell_type": "code",
   "execution_count": null,
   "metadata": {},
   "outputs": [],
   "source": [
    "method = 'shiftx2'"
   ]
  },
  {
   "cell_type": "code",
   "execution_count": null,
   "metadata": {},
   "outputs": [],
   "source": [
    "fig, ax = plt.subplots(2,4, figsize=(18,25), sharex=True)\n",
    "ax = ax.flatten()\n",
    "nucleus = 'CA'\n",
    "my_model = methods[nucleus][method]['data']\n",
    "az.plot_forest(my_model.posterior.rename({'diff_means':''})[''], rope=(-0.2, 0.2), combined=True,\n",
    "              var_names=[''], colors='black', ax=ax[0])\n",
    "az.plot_forest(my_model.posterior.rename({'effect_size':''})[''], combined=True, var_names=[''], rope=(-0.5, 0.5), colors='black', ax=ax[1])\n",
    "ax[0].set_xlabel(r'CS$^\\mathrm{FO}_\\mathrm{sim}$ - CS$^\\mathrm{PO}_\\mathrm{sim}$ (ppm)', size=15)\n",
    "ax[0].set_title(r'Difference (C$_\\alpha$, SPARTA+)', size=15)\n",
    "ax[1].set_xlabel(r'(CS$^\\mathrm{FO}_\\mathrm{sim}$ - CS$^\\mathrm{PO}_\\mathrm{sim})/$std$_\\mathrm{pool}$',size=15)\n",
    "ax[1].set_title(r'Effect Size (C$_\\alpha$, SPARTA+)', size=15)\n",
    "\n",
    "nucleus = 'CB'\n",
    "my_model = methods[nucleus][method]['data']\n",
    "az.plot_forest(my_model.posterior.rename({'diff_means':''})[''], rope=(-0.2, 0.2), combined=True,\n",
    "              var_names=[''], colors='black', ax=ax[2])\n",
    "az.plot_forest(my_model.posterior.rename({'effect_size':''})[''], combined=True, var_names=[''], rope=(-0.5, 0.5), colors='black', ax=ax[3])\n",
    "ax[2].set_xlabel(r'CS$^\\mathrm{FO}_\\mathrm{sim}$ - CS$^\\mathrm{PO}_\\mathrm{sim}$ (ppm)', size=15)\n",
    "ax[2].set_title(r'Difference (C$_\\beta$, SPARTA+)', size=15)\n",
    "ax[3].set_xlabel(r'(CS$^\\mathrm{FO}_\\mathrm{sim}$ - CS$^\\mathrm{PO}_\\mathrm{sim})/$std$_\\mathrm{pool}$',size=15)\n",
    "ax[3].set_title(r'Effect Size (C$_\\beta$, SPARTA+)', size=15)\n",
    "\n",
    "nucleus = 'C'\n",
    "my_model = methods[nucleus][method]['data']\n",
    "az.plot_forest(my_model.posterior.rename({'diff_means':''})[''], rope=(-0.2, 0.2), combined=True,\n",
    "              var_names=[''], colors='black', ax=ax[4])\n",
    "az.plot_forest(my_model.posterior.rename({'effect_size':''})[''], combined=True, var_names=[''], rope=(-0.5, 0.5), colors='black', ax=ax[5])\n",
    "ax[4].set_xlabel(r'CS$^\\mathrm{FO}_\\mathrm{sim}$ - CS$^\\mathrm{PO}_\\mathrm{sim}$ (ppm)', size=15)\n",
    "ax[4].set_title(r'Difference (C, SPARTA+)', size=15)\n",
    "ax[5].set_xlabel(r'(CS$^\\mathrm{FO}_\\mathrm{sim}$ - CS$^\\mathrm{PO}_\\mathrm{sim})/$std$_\\mathrm{pool}$',size=15)\n",
    "ax[5].set_title(r'Effect Size (C, SPARTA+)', size=15)\n",
    "\n",
    "nucleus = 'N'\n",
    "my_model = methods[nucleus][method]['data']\n",
    "az.plot_forest(my_model.posterior.rename({'diff_means':''})[''], rope=(-0.5, 0.5), combined=True,\n",
    "              var_names=[''], colors='black', ax=ax[6])\n",
    "az.plot_forest(my_model.posterior.rename({'effect_size':''})[''], combined=True, var_names=[''], rope=(-0.5, 0.5), colors='black', ax=ax[7])\n",
    "ax[6].set_xlabel(r'CS$^\\mathrm{FO}_\\mathrm{sim}$ - CS$^\\mathrm{PO}_\\mathrm{sim}$ (ppm)', size=15)\n",
    "ax[6].set_title(r'Difference (N, SPARTA+)', size=15)\n",
    "ax[7].set_xlabel(r'(CS$^\\mathrm{FO}_\\mathrm{sim}$ - CS$^\\mathrm{PO}_\\mathrm{sim})/$std$_\\mathrm{pool}$',size=15)\n",
    "ax[7].set_title(r'Effect Size (N, SPARTA+)', size=15)\n",
    "fig.tight_layout()\n",
    "plt.savefig(f'{reports_dir}for_print/statistical_filtering_{model_name}_{method}_all.png')"
   ]
  },
  {
   "cell_type": "markdown",
   "metadata": {},
   "source": [
    "### T61 4 vs 3 SubUnits"
   ]
  },
  {
   "cell_type": "code",
   "execution_count": null,
   "metadata": {},
   "outputs": [],
   "source": [
    "data = {}"
   ]
  },
  {
   "cell_type": "code",
   "execution_count": null,
   "metadata": {},
   "outputs": [],
   "source": [
    "nuclei = ['CA','CB','C','N']"
   ]
  },
  {
   "cell_type": "code",
   "execution_count": null,
   "metadata": {},
   "outputs": [],
   "source": [
    "nuclei_latex = [r'C$_\\alpha$', r'C$_\\beta$', 'C', 'N']"
   ]
  },
  {
   "cell_type": "code",
   "execution_count": null,
   "metadata": {},
   "outputs": [],
   "source": [
    "methods = [ 'sparta_plus', 'shiftx2']"
   ]
  },
  {
   "cell_type": "code",
   "execution_count": null,
   "metadata": {},
   "outputs": [],
   "source": [
    "methods_latex = ['SPARTA+', 'SHIFTX2']"
   ]
  },
  {
   "cell_type": "code",
   "execution_count": null,
   "metadata": {},
   "outputs": [],
   "source": [
    "for nucleus in nuclei:\n",
    "    data[nucleus] = {}\n",
    "    for method in methods:\n",
    "        model_path = models_dir + f\"{model_name}_{method}_{nucleus}.nc\"\n",
    "        my_model = az.from_netcdf(model_path)\n",
    "        my_model.posterior = combine_posterior_variables(\n",
    "        my_model.posterior, ['mean_o_c', 'mean_fo_c'], 'delta_delta', 'state',\n",
    "        ['PartiallyOpen', 'Fully Open'])\n",
    "        data[nucleus][method]= { 'data': my_model}\n",
    "    for method in [ 'sparta_plus', 'shiftx2']:\n",
    "        model_path = models_dir + f\"skew_model_T61_{method}_{nucleus}.nc\"\n",
    "        my_model = az.from_netcdf(model_path)\n",
    "        my_model.posterior = combine_posterior_variables(\n",
    "        my_model.posterior, ['mean_o_c', 'mean_fo_c'], 'delta_delta', 'state',\n",
    "        ['PartiallyOpen', 'Fully Open'])\n",
    "        data[nucleus][method]['data2'] = my_model"
   ]
  },
  {
   "cell_type": "code",
   "execution_count": null,
   "metadata": {},
   "outputs": [],
   "source": [
    "diff_4SU =[\n",
    "    data[nucleus][method]['data'].posterior.rename({'diff_means': nucleus_latex})[nucleus_latex].loc[:,:,'T61']\n",
    "    for nucleus, nucleus_latex in zip(nuclei, nuclei_latex) for method in methods\n",
    "]"
   ]
  },
  {
   "cell_type": "code",
   "execution_count": null,
   "metadata": {},
   "outputs": [],
   "source": [
    "effect_4SU =[\n",
    "    data[nucleus][method]['data'].posterior.rename({'effect_size': nucleus_latex})[nucleus_latex].loc[:,:,'T61']\n",
    "    for nucleus, nucleus_latex in zip(nuclei, nuclei_latex) for method in methods\n",
    "]"
   ]
  },
  {
   "cell_type": "code",
   "execution_count": null,
   "metadata": {},
   "outputs": [],
   "source": [
    "diff_3SU =[\n",
    "    data[nucleus][method]['data2'].posterior.rename({'diff_means': nucleus_latex})[nucleus_latex].loc[:,:,'T61']\n",
    "    for nucleus, nucleus_latex in zip(nuclei, nuclei_latex) for method in methods\n",
    "]"
   ]
  },
  {
   "cell_type": "code",
   "execution_count": null,
   "metadata": {},
   "outputs": [],
   "source": [
    "effect_3SU =[\n",
    "    data[nucleus][method]['data2'].posterior.rename({'effect_size': nucleus_latex})[nucleus_latex].loc[:,:,'T61']\n",
    "    for nucleus, nucleus_latex in zip(nuclei, nuclei_latex) for method in methods\n",
    "]"
   ]
  },
  {
   "cell_type": "code",
   "execution_count": null,
   "metadata": {},
   "outputs": [],
   "source": [
    "fig, ax = plt.subplots(2,2, figsize=(10,12), sharex=True)\n",
    "ax = ax.flatten()\n",
    "az.plot_forest(diff_4SU, rope=(-0.2, 0.2), combined=True,\n",
    "              var_names=nuclei_latex, colors='black', ax=ax[0], model_names=methods_latex*4)\n",
    "az.plot_forest(effect_4SU, rope=(-0.5, 0.5), combined=True,\n",
    "              var_names=nuclei_latex, colors='black', ax=ax[1], model_names=methods_latex*4)\n",
    "ax[0].set_xlabel(r'CS$^\\mathrm{FO}_\\mathrm{sim}$ - CS$^\\mathrm{PO}_\\mathrm{sim}$ (ppm)', size=15)\n",
    "ax[0].set_title(r'Difference (C$_\\alpha$, SPARTA+)', size=15)\n",
    "ax[1].set_xlabel(r'(CS$^\\mathrm{FO}_\\mathrm{sim}$ - CS$^\\mathrm{PO}_\\mathrm{sim})/$std$_\\mathrm{pool}$',size=15)\n",
    "ax[1].set_title(r'Effect Size (C$_\\alpha$, SPARTA+)', size=15)\n",
    "\n",
    "ax[0].set_xlabel(r'CS$^\\mathrm{FO}_\\mathrm{sim}$ - CS$^\\mathrm{PO}_\\mathrm{sim}$ (ppm)', size=15)\n",
    "ax[0].set_title(r'Difference (Subunits ABCD)', size=15)\n",
    "ax[1].set_xlabel(r'(CS$^\\mathrm{FO}_\\mathrm{sim}$ - CS$^\\mathrm{PO}_\\mathrm{sim})/$std$_\\mathrm{pool}$',size=15)\n",
    "ax[1].set_title(r'Effect Size (Subunits ABCD)', size=15)\n",
    "\n",
    "az.plot_forest(diff_3SU, rope=(-0.2, 0.2), combined=True,\n",
    "              var_names=nuclei_latex, colors='black', ax=ax[2], model_names=methods_latex*4)\n",
    "az.plot_forest(effect_3SU, rope=(-0.5, 0.5), combined=True,\n",
    "              var_names=nuclei_latex, colors='black', ax=ax[3], model_names=methods_latex*4)\n",
    "ax[2].set_xlabel(r'CS$^\\mathrm{FO}_\\mathrm{sim}$ - CS$^\\mathrm{PO}_\\mathrm{sim}$ (ppm)', size=15)\n",
    "ax[2].set_title(r'Difference (C$_\\alpha$, SPARTA+)', size=15)\n",
    "ax[3].set_xlabel(r'(CS$^\\mathrm{FO}_\\mathrm{sim}$ - CS$^\\mathrm{PO}_\\mathrm{sim})/$std$_\\mathrm{pool}$',size=15)\n",
    "ax[3].set_title(r'Effect Size (C$_\\alpha$, SPARTA+)', size=15)\n",
    "\n",
    "ax[2].set_xlabel(r'CS$^\\mathrm{FO}_\\mathrm{sim}$ - CS$^\\mathrm{PO}_\\mathrm{sim}$ (ppm)', size=15)\n",
    "ax[2].set_title(r'Difference (Subunits ABC)', size=15)\n",
    "ax[3].set_xlabel(r'(CS$^\\mathrm{FO}_\\mathrm{sim}$ - CS$^\\mathrm{PO}_{sim})/$std$_\\mathrm{pool}$',size=15)\n",
    "ax[3].set_title(r'Effect Size (Subunits ABC)', size=15)\n",
    "\n",
    "fig.tight_layout()\n",
    "plt.savefig(f'{reports_dir}for_print/statistical_filtering_{model_name}_{method}_T61.png')"
   ]
  },
  {
   "cell_type": "markdown",
   "metadata": {},
   "source": [
    "## Markers"
   ]
  },
  {
   "cell_type": "markdown",
   "metadata": {},
   "source": [
    "## Final"
   ]
  },
  {
   "cell_type": "markdown",
   "metadata": {},
   "source": [
    "### All residues"
   ]
  },
  {
   "cell_type": "code",
   "execution_count": null,
   "metadata": {},
   "outputs": [],
   "source": [
    "methods = {}"
   ]
  },
  {
   "cell_type": "code",
   "execution_count": null,
   "metadata": {},
   "outputs": [],
   "source": [
    "nuclei = ['CA','CB','C','N']"
   ]
  },
  {
   "cell_type": "code",
   "execution_count": null,
   "metadata": {},
   "outputs": [],
   "source": [
    "for nucleus in nuclei:\n",
    "    print(nucleus)\n",
    "    methods[nucleus] = {}\n",
    "    for method in ['sparta_plus', 'shiftx2']:\n",
    "        model_path = models_dir + f\"{model_name}_{method}_{nucleus}.nc\"\n",
    "        my_model = az.from_netcdf(model_path)\n",
    "        my_model.posterior = my_model.posterior.drop(['T33', 'V34','A111', 'T112'], dim='resid')\n",
    "        my_model.posterior = combine_posterior_variables(\n",
    "        my_model.posterior, ['mean_o_c', 'mean_fo_c'], 'delta_delta', 'state',\n",
    "        ['Partially Open', 'Fully Open'])\n",
    "        methods[nucleus][method]= { 'data': my_model}"
   ]
  },
  {
   "cell_type": "code",
   "execution_count": null,
   "metadata": {},
   "outputs": [],
   "source": [
    "for m in [ 'sparta_plus', 'shiftx2']:\n",
    "    for c, a in zip([0.2, 0.2, 0.2, 0.5], nuclei):\n",
    "        l = get_significant( models_dir + f\"{model_name}_{m}_{a}.nc\", ppm_cutoff=c)\n",
    "        [ l.remove(amino_acid) for amino_acid in ['T33', 'V34','A111', 'T112'] if amino_acid in l ]\n",
    "        methods[a][m]['aa'] = l"
   ]
  },
  {
   "cell_type": "code",
   "execution_count": null,
   "metadata": {},
   "outputs": [],
   "source": [
    "resids = list(set(methods['CA']['sparta_plus']['data'].posterior.resid.to_index()) |\n",
    "              set(methods['CB']['sparta_plus']['data'].posterior.resid.to_index()) |\n",
    "              set(methods['N']['sparta_plus']['data'].posterior.resid.to_index()) |\n",
    "              set(methods['C']['sparta_plus']['data'].posterior.resid.to_index()) \n",
    "             )"
   ]
  },
  {
   "cell_type": "code",
   "execution_count": null,
   "metadata": {},
   "outputs": [],
   "source": [
    "fig, ax = plt.subplots(4, 1, figsize=(35,16))\n",
    " \n",
    "nuclei = ['CA','CB','C','N']\n",
    "nuclei_to_name = {\n",
    "    'CA': r'C$_\\alpha$',\n",
    "    'CB': r'C$_\\beta$',\n",
    "    'C': 'C',\n",
    "    'N': 'N',\n",
    "}\n",
    "color_grey = 'gainsboro'\n",
    "\n",
    "resids = list(set(methods['CA']['sparta_plus']['data'].posterior.resid.to_index()) |\n",
    "              set(methods['CB']['sparta_plus']['data'].posterior.resid.to_index()) |\n",
    "              set(methods['N']['sparta_plus']['data'].posterior.resid.to_index()) |\n",
    "              set(methods['C']['sparta_plus']['data'].posterior.resid.to_index()) \n",
    "             )\n",
    "\n",
    "resids = [ aa_dic[r]+str(r) for r in sorted([ int(r[1:]) for r in resids]) ]\n",
    "x_to_aa = { a:j for j,a in enumerate(resids) }\n",
    "\n",
    "\n",
    "for method, method_name, marker,shift in zip(['sparta_plus', 'shiftx2'],\n",
    "                               ['SPARTA+', 'SHIFTX2'],\n",
    "                               ['^','s'],\n",
    "                                [+0.25, -0.25]\n",
    "                                     ):\n",
    "    for cutoff, i, nucleus in zip([0.2, 0.2, 0.2, 0.5], range(len(nuclei)) , nuclei): \n",
    "        aa = methods[nucleus][method]['aa']\n",
    "        data = az.summary(methods[nucleus][method]['data'].posterior.sel(state=\"Partially Open\").delta_delta.loc[:,:,aa])\n",
    "        err = data['hdi_97%']-(data['hdi_97%'] + data['hdi_3%'])/2.\n",
    "        data = (data['hdi_97%'] + data['hdi_3%'])/2.\n",
    "        x = np.array([x_to_aa[a] for a in aa])\n",
    "        ax[i].errorbar(x+shift,data, yerr=err, ls ='', marker=marker, color='blue', label = f'Partially Open {method_name}')\n",
    "        \n",
    "        aa = methods[nucleus][method]['aa']\n",
    "        data = az.summary(methods[nucleus][method]['data'].posterior.sel(state=\"Fully Open\").delta_delta.loc[:,:,aa])\n",
    "        err = data['hdi_97%']-(data['hdi_97%'] + data['hdi_3%'])/2.\n",
    "        data = (data['hdi_97%'] + data['hdi_3%'])/2.\n",
    "        x = np.array([x_to_aa[a] for a in aa])\n",
    "        ax[i].errorbar(x+shift,data, yerr=err, ls ='', marker=marker, color='orange', label = f'Fully Open {method_name}')\n",
    "        \n",
    "        aa = methods[nucleus][method]['aa']\n",
    "        aa = list(set(methods[nucleus][method]['data'].posterior.resid.to_index())-set(aa))\n",
    "        data = az.summary(methods[nucleus][method]['data'].posterior.sel(state=\"Partially Open\").delta_delta.loc[:,:,aa])\n",
    "        err = data['hdi_97%']-(data['hdi_97%'] + data['hdi_3%'])/2.\n",
    "        data = (data['hdi_97%'] + data['hdi_3%'])/2.\n",
    "        x = np.array([x_to_aa[a] for a in aa])\n",
    "        ax[i].errorbar(x+shift,data, yerr=err, ls ='', marker=marker, color=color_grey, label = f'Stat. Indistinguishable {method_name}')\n",
    "        \n",
    "        aa = methods[nucleus][method]['aa']\n",
    "        aa = list(set(methods[nucleus][method]['data'].posterior.resid.to_index())-set(aa))\n",
    "        data = az.summary(methods[nucleus][method]['data'].posterior.sel(state=\"Fully Open\").delta_delta.loc[:,:,aa])\n",
    "        err = data['hdi_97%']-(data['hdi_97%'] + data['hdi_3%'])/2.\n",
    "        data = (data['hdi_97%'] + data['hdi_3%'])/2.\n",
    "        x = np.array([x_to_aa[a] for a in aa])\n",
    "        ax[i].errorbar(x+shift,data, yerr=err, ls ='', marker=marker, color=color_grey)\n",
    "\n",
    "        x = np.arange(len(resids))\n",
    "        ax[i].set_xticks(x) # Set tick positions and corresponding labels\n",
    "        _ = ax[i].set_xticklabels(resids, size=10)\n",
    "        ax[i].set_ylabel(nuclei_to_name[nucleus], size=30, labelpad=10)\n",
    "        ax[i].tick_params(axis='y', which='major', labelsize=15)\n",
    "        ax[i].set_xlim([-0.5,len(x)-0.5])\n",
    "        ax[i].axhspan(0,cutoff, facecolor='palegreen', alpha=.1)\n",
    "        \n",
    "ax[0].set_title(r'$\\Delta$CS$_\\mathrm{sim}^\\mathrm{X}$-$\\Delta$CS$_\\mathrm{exp}$  ( ppm )', size = 30, pad=20)\n",
    "ax[-1].set_xlabel('Residues Spectroscopically Assigned', size=25, labelpad=10)\n",
    "ax[0].legend()\n",
    "plt.savefig(f'{reports_dir}for_print/assignment_{model_name}_all_print.png', bbox_inches='tight')"
   ]
  },
  {
   "cell_type": "markdown",
   "metadata": {},
   "source": [
    "### Residues  in Common"
   ]
  },
  {
   "cell_type": "code",
   "execution_count": null,
   "metadata": {},
   "outputs": [],
   "source": [
    "methods = {}"
   ]
  },
  {
   "cell_type": "code",
   "execution_count": null,
   "metadata": {},
   "outputs": [],
   "source": [
    "nuclei = ['CA','CB','C','N']"
   ]
  },
  {
   "cell_type": "code",
   "execution_count": null,
   "metadata": {},
   "outputs": [],
   "source": [
    "for nucleus in nuclei:\n",
    "    methods[nucleus] = {}\n",
    "    print(nucleus)\n",
    "    for method in [ 'sparta_plus', 'shiftx2']:\n",
    "        model_path = models_dir + f\"{model_name}_{method}_{nucleus}.nc\"\n",
    "        my_model = az.from_netcdf(model_path)\n",
    "        my_model.posterior = combine_posterior_variables(\n",
    "        my_model.posterior, ['mean_o_c_abs', 'mean_fo_c_abs'], 'delta_delta_abs', 'state',\n",
    "        ['Partially Open', 'Fully Open'])\n",
    "        my_model.posterior = combine_posterior_variables(\n",
    "        my_model.posterior, ['mean_o_o_abs', 'mean_fo_o_abs'], 'delta_delta_o_abs', 'state',\n",
    "        ['Partially Open', 'Fully Open'])\n",
    "        my_model.posterior = my_model.posterior.drop(['T33', 'V34','A111', 'T112'], dim='resid')\n",
    "        methods[nucleus][method]= { 'data': my_model}"
   ]
  },
  {
   "cell_type": "code",
   "execution_count": null,
   "metadata": {},
   "outputs": [],
   "source": [
    "for m in [ 'sparta_plus', 'shiftx2']:\n",
    "    for c, a in zip([0.2, 0.2, 0.2, 0.5], nuclei):\n",
    "        l = get_significant( models_dir + f\"{model_name}_{m}_{a}.nc\", ppm_cutoff=c)\n",
    "        [ l.remove(amino_acid) for amino_acid in ['T33', 'V34','A111', 'T112'] if amino_acid in l ]\n",
    "        methods[a][m]['aa'] = l"
   ]
  },
  {
   "cell_type": "code",
   "execution_count": null,
   "metadata": {},
   "outputs": [],
   "source": [
    "from matplotlib import rcParams\n",
    "#rcParams['font.family'] = ''"
   ]
  },
  {
   "cell_type": "code",
   "execution_count": null,
   "metadata": {},
   "outputs": [],
   "source": [
    "fig, ax = plt.subplots(4, 1, figsize=(35,15.))\n",
    " \n",
    "nuclei = ['CA','CB','C','N']\n",
    "nuclei_to_name = {\n",
    "    'CA': r'C$_\\alpha$',\n",
    "    'CB': r'C$_\\beta$',\n",
    "    'C': 'C',\n",
    "    'N': 'N',\n",
    "}\n",
    "color_grey = 'gainsboro'\n",
    "\n",
    "resids = list(set(methods['CA']['shiftx2']['aa']) | \n",
    "              set(methods['CA']['sparta_plus']['aa']) | \n",
    "              set(methods['CB']['shiftx2']['aa']) | \n",
    "              set(methods['CB']['sparta_plus']['aa']) | \n",
    "              set(methods['C']['shiftx2']['aa']) | \n",
    "              set(methods['C']['sparta_plus']['aa']) | \n",
    "              set(methods['N']['shiftx2']['aa']) | \n",
    "              set(methods['N']['sparta_plus']['aa']) \n",
    ")\n",
    "\n",
    "resids = [ aa_dic[r]+str(r) for r in sorted([ int(r[1:]) for r in resids]) ]\n",
    "x_to_aa = { a:j for j,a in enumerate(resids) }\n",
    "\n",
    "for cutoff, i, nucleus in zip([0.2, 0.2, 0.2, 0.5], range(len(nuclei)) , nuclei): \n",
    "        ax[i].axhspan(0,cutoff, facecolor='palegreen', alpha=.3)\n",
    "for method, method_name, pattern, shift in zip(['sparta_plus', 'shiftx2'],\n",
    "                               ['SPARTA+', 'SHIFTX2'],\n",
    "                               [None, '.'],\n",
    "                                [-0.125, +0.125]\n",
    "                                     ):\n",
    "    for cutoff, i, nucleus in zip([0.2, 0.2, 0.2, 0.5], range(len(nuclei)) , nuclei): \n",
    "        if i == 0:\n",
    "            my_label = f'Fully Open {method_name}'\n",
    "        else:\n",
    "            my_label = None\n",
    "\n",
    "        \n",
    "        aa = methods[nucleus][method]['aa']\n",
    "        data = az.summary(methods[nucleus][method]['data'].posterior.sel(state=\"Fully Open\").delta_delta_abs.loc[:,:,aa])\n",
    "        err0 = data['hdi_97%']-(data['hdi_97%'] + data['hdi_3%'])/2.\n",
    "        data0 = (data['hdi_97%'] + data['hdi_3%'])/2\n",
    "        x0 = np.array([x_to_aa[a] for a in aa])\n",
    "        ax[i].bar(x0+shift,data0, yerr=err0, color='orange', label = my_label, hatch=pattern, edgecolor='w', width =0.25)\n",
    "        \n",
    "        if i == 0:\n",
    "            my_label = f'Partially Open {method_name}'\n",
    "        else:\n",
    "            my_label = None\n",
    "                \n",
    "        aa = methods[nucleus][method]['aa']\n",
    "        data = az.summary(methods[nucleus][method]['data'].posterior.sel(state=\"Partially Open\").delta_delta_abs.loc[:,:,aa])\n",
    "        err = data['hdi_97%']-(data['hdi_97%'] + data['hdi_3%'])/2.\n",
    "        data = (data['hdi_97%'] + data['hdi_3%'])/2.\n",
    "        x = np.array([x_to_aa[a] for a in aa])\n",
    "        ax[i].bar(x+shift,data, yerr=err, color='cornflowerblue', label = my_label, hatch=pattern, edgecolor='w', width =0.25)\n",
    "        \n",
    "        mask = data0 < data\n",
    "        ax[i].bar(x0[mask]+shift,data0[mask], yerr=err0[mask], color='orange', hatch=pattern, edgecolor='w', width =0.25)\n",
    "        \n",
    "        x = np.arange(len(resids))\n",
    "        ax[i].set_xticks(x) # Set tick positions and corresponding labels\n",
    "        _ = ax[i].set_xticklabels(resids, size=20)\n",
    "        ax[i].set_ylabel(nuclei_to_name[nucleus], size=30, labelpad=10)\n",
    "        ax[i].tick_params(axis='y', which='both', labelsize=15)\n",
    "        ax[i].set_xlim([-1,len(x)])\n",
    "        #o_ax[i].set_ylim(bottom=0)\n",
    "        \n",
    "ax[0].set_ylim([0,0.5])\n",
    "ax[1].set_ylim([0,0.5])        \n",
    "ax[2].set_ylim([0,0.5])\n",
    "ax[3].set_ylim([0,1.5])        \n",
    "ax[0].set_title(r'$|\\Delta$CS$_\\mathrm{sim}^\\mathrm{X}$-$\\Delta$CS$_\\mathrm{exp}|$  ( ppm )', size = 25, pad=20)\n",
    "ax[-1].set_xlabel('Significant Residues', size=20, labelpad=20)\n",
    "fig.legend(bbox_to_anchor=(1.05,0.82), fontsize=25)\n",
    "plt.savefig(f'{reports_dir}for_print/assignment_{model_name}_markers_print.png', bbox_inches='tight')"
   ]
  },
  {
   "cell_type": "code",
   "execution_count": null,
   "metadata": {},
   "outputs": [],
   "source": [
    "fig, ax = plt.subplots(4, 1, figsize=(35,15.))\n",
    " \n",
    "nuclei = ['CA','CB','C','N']\n",
    "nuclei_to_name = {\n",
    "    'CA': r'C$_\\alpha$',\n",
    "    'CB': r'C$_\\beta$',\n",
    "    'C': 'C',\n",
    "    'N': 'N',\n",
    "}\n",
    "color_grey = 'gainsboro'\n",
    "\n",
    "resids = list(set(methods['CA']['shiftx2']['aa']) | \n",
    "              set(methods['CA']['sparta_plus']['aa']) | \n",
    "              set(methods['CB']['shiftx2']['aa']) | \n",
    "              set(methods['CB']['sparta_plus']['aa']) | \n",
    "              set(methods['C']['shiftx2']['aa']) | \n",
    "              set(methods['C']['sparta_plus']['aa']) | \n",
    "              set(methods['N']['shiftx2']['aa']) | \n",
    "              set(methods['N']['sparta_plus']['aa']) \n",
    ")\n",
    "\n",
    "resids = [ aa_dic[r]+str(r) for r in sorted([ int(r[1:]) for r in resids]) ]\n",
    "x_to_aa = { a:j for j,a in enumerate(resids) }\n",
    "\n",
    "for cutoff, i, nucleus in zip([0.2, 0.2, 0.2, 0.5], range(len(nuclei)) , nuclei): \n",
    "        ax[i].axhspan(0,cutoff, facecolor='palegreen', alpha=.3)\n",
    "        \n",
    "for method, method_name, pattern, shift in zip(['sparta_plus', 'shiftx2'],\n",
    "                               ['SPARTA+', 'SHIFTX2'],\n",
    "                               [None, '.'],\n",
    "                                [-0.125, +0.125]\n",
    "                                     ):\n",
    "    for cutoff, i, nucleus in zip([0.2, 0.2, 0.2, 0.5], range(len(nuclei)) , nuclei): \n",
    "        if i == 0:\n",
    "            my_label = f'Fully Open {method_name}'\n",
    "        else:\n",
    "            my_label = None\n",
    "\n",
    "        \n",
    "        aa = methods[nucleus][method]['aa']\n",
    "        data = az.summary(methods[nucleus][method]['data'].posterior.sel(state=\"Fully Open\").delta_delta_o_abs.loc[:,:,aa])\n",
    "        err0 = data['hdi_97%']-(data['hdi_97%'] + data['hdi_3%'])/2.\n",
    "        data0 = (data['hdi_97%'] + data['hdi_3%'])/2\n",
    "        x0 = np.array([x_to_aa[a] for a in aa])\n",
    "        ax[i].bar(x0+shift,data0, yerr=err0, color='orange', label = my_label, hatch=pattern, edgecolor='w', width =0.25)\n",
    "        \n",
    "        if i == 0:\n",
    "            my_label = f'Partially Open {method_name}'\n",
    "        else:\n",
    "            my_label = None\n",
    "                \n",
    "        aa = methods[nucleus][method]['aa']\n",
    "        data = az.summary(methods[nucleus][method]['data'].posterior.sel(state=\"Partially Open\").delta_delta_o_abs.loc[:,:,aa])\n",
    "        err = data['hdi_97%']-(data['hdi_97%'] + data['hdi_3%'])/2.\n",
    "        data = (data['hdi_97%'] + data['hdi_3%'])/2.\n",
    "        x = np.array([x_to_aa[a] for a in aa])\n",
    "        ax[i].bar(x+shift,data, yerr=err, color='cornflowerblue', label = my_label, hatch=pattern, edgecolor='w', width =0.25)\n",
    "        \n",
    "        mask = data0 < data\n",
    "        ax[i].bar(x0[mask]+shift,data0[mask], yerr=err0[mask], color='orange', hatch=pattern, edgecolor='w', width =0.25)\n",
    "        \n",
    "        x = np.arange(len(resids))\n",
    "        ax[i].set_xticks(x) # Set tick positions and corresponding labels\n",
    "        _ = ax[i].set_xticklabels(resids, size=20)\n",
    "        ax[i].set_ylabel(nuclei_to_name[nucleus], size=30, labelpad=10)\n",
    "        ax[i].tick_params(axis='y', which='both', labelsize=15)\n",
    "        ax[i].set_xlim([-1,len(x)])\n",
    "        #o_ax[i].set_ylim(bottom=0)\n",
    "        \n",
    "ax[0].set_ylim([0,3])\n",
    "ax[1].set_ylim([0,1.5])        \n",
    "ax[2].set_ylim([0,2.25])\n",
    "ax[3].set_ylim([0,11.])        \n",
    "ax[0].set_title(r'$|$CS$_\\mathrm{sim}^\\mathrm{X}$-CS$_\\mathrm{exp}|$  ( ppm )', size = 25, pad=20)\n",
    "ax[-1].set_xlabel('Significant Residues', size=20, labelpad=20)\n",
    "fig.legend(bbox_to_anchor=(1.05,0.82), fontsize=25)\n",
    "plt.savefig(f'{reports_dir}for_print/assignment_{model_name}_markers_no_refernce_print.png', bbox_inches='tight')"
   ]
  },
  {
   "cell_type": "markdown",
   "metadata": {},
   "source": [
    "### XRD"
   ]
  },
  {
   "cell_type": "code",
   "execution_count": null,
   "metadata": {},
   "outputs": [],
   "source": [
    "nuclei = ['CA', 'CB', 'C', 'N']"
   ]
  },
  {
   "cell_type": "code",
   "execution_count": null,
   "metadata": {},
   "outputs": [],
   "source": [
    "methods = ['sparta_plus', 'shiftx2']"
   ]
  },
  {
   "cell_type": "code",
   "execution_count": null,
   "metadata": {},
   "outputs": [],
   "source": [
    "data = {}\n",
    "for nucleus in nuclei:\n",
    "    data[nucleus] = {}\n",
    "    for method in methods:\n",
    "        data[nucleus][method] = {}\n",
    "        df_exp_o, df_3fb5, df_5vk6, df_5vkh, df_diff, mask = load_data_frames(processed_data_dir, method, nucleus, 1, model_name, RANDOM_SEED)\n",
    "        for df in [df_exp_o,df_3fb5, df_5vk6, df_5vkh, df_diff]:\n",
    "            df = df.drop([33, 34, 111, 112], axis=1,errors='ignore')\n",
    "        data[nucleus][method]['Open'] = df_3fb5\n",
    "        data[nucleus][method]['Fully Open'] = df_5vk6\n",
    "        data[nucleus][method]['Closed'] = df_5vkh\n",
    "        data[nucleus][method]['Open exp'] = df_exp_o\n",
    "        data[nucleus][method]['Diff exp'] = df_diff\n",
    "        data[nucleus][method]['resids'] = [ aa_dic[a]+str(a) for a in df_5vkh.columns]"
   ]
  },
  {
   "cell_type": "code",
   "execution_count": null,
   "metadata": {},
   "outputs": [],
   "source": [
    "fig, ax = plt.subplots(4, 1, figsize=(35,16))\n",
    " \n",
    "\n",
    "nuclei_to_name = {\n",
    "    'CA': r'C$_\\alpha$',\n",
    "    'CB': r'C$_\\beta$',\n",
    "    'C': 'C',\n",
    "    'N': 'N',\n",
    "}\n",
    "color_grey = 'gainsboro'\n",
    "\n",
    "resids = list(set(data['CA']['sparta_plus']['resids']) |\n",
    "              set(data['CB']['sparta_plus']['resids']) |\n",
    "              set(data['N']['sparta_plus']['resids']) |\n",
    "              set(data['C']['sparta_plus']['resids']) \n",
    "             )\n",
    "\n",
    "resids = [ aa_dic[r]+str(r) for r in sorted([ int(r[1:]) for r in resids]) ]\n",
    "x_to_aa = { a:j for j,a in enumerate(resids) }\n",
    "\n",
    "\n",
    "for method, method_name, marker,shift in zip(methods,\n",
    "                               ['SPARTA+', 'SHIFTX2'],\n",
    "                               ['^','s'],\n",
    "                                [+0.25, -0.25]\n",
    "                                     ):\n",
    "    for cutoff, i, nucleus in zip([0.2, 0.2, 0.2, 0.5], range(len(nuclei)) , nuclei): \n",
    "        aa = data[nucleus][method]['resids']\n",
    "        y = data[nucleus][method]['Open'].mean() - data[nucleus][method]['Closed'].mean() - (data[nucleus][method]['Diff exp'].mean())\n",
    "        y = np.abs(y)\n",
    "        x = np.array([x_to_aa[a] for a in aa])\n",
    "        ax[i].plot(x+shift,y, ls ='', marker=marker, color='blue', label = f'Partially Open {method_name}')\n",
    "        y = data[nucleus][method]['Fully Open'].mean() - data[nucleus][method]['Closed'].mean() - (data[nucleus][method]['Diff exp'].mean())\n",
    "        y = np.abs(y)\n",
    "        ax[i].plot(x+shift,y, ls ='', marker=marker, color='Orange', label = f'Fully Open {method_name}')\n",
    "        \n",
    "\n",
    "        x = np.arange(len(resids))\n",
    "        ax[i].set_xticks(x) # Set tick positions and corresponding labels\n",
    "        _ = ax[i].set_xticklabels(resids, size=10)\n",
    "        ax[i].set_ylabel(nuclei_to_name[nucleus], size=30, labelpad=10)\n",
    "        ax[i].tick_params(axis='y', which='major', labelsize=15)\n",
    "        ax[i].set_xlim([-0.5,len(x)-0.5])\n",
    "        ax[i].axhspan(0,cutoff, facecolor='palegreen', alpha=.1)\n",
    "        \n",
    "ax[0].set_title(r'$|\\Delta$CS$_\\mathrm{XRD}^\\mathrm{X}$-$\\Delta$CS$_\\mathrm{exp}|$  ( ppm )', size = 30, pad=20)\n",
    "ax[-1].set_xlabel('Residues Spectroscopically Assigned', size=25, labelpad=10)\n",
    "ax[0].legend()\n",
    "plt.savefig(f'{reports_dir}for_print/assignment_{model_name}_all_print_XRD.png', bbox_inches='tight')"
   ]
  },
  {
   "cell_type": "code",
   "execution_count": null,
   "metadata": {},
   "outputs": [],
   "source": [
    "fig, ax = plt.subplots(4, 1, figsize=(35,16))\n",
    " \n",
    "\n",
    "nuclei_to_name = {\n",
    "    'CA': r'C$_\\alpha$',\n",
    "    'CB': r'C$_\\beta$',\n",
    "    'C': 'C',\n",
    "    'N': 'N',\n",
    "}\n",
    "color_grey = 'gainsboro'\n",
    "\n",
    "resids = list(set(data['CA']['sparta_plus']['resids']) |\n",
    "              set(data['CB']['sparta_plus']['resids']) |\n",
    "              set(data['N']['sparta_plus']['resids']) |\n",
    "              set(data['C']['sparta_plus']['resids']) \n",
    "             )\n",
    "\n",
    "resids = [ aa_dic[r]+str(r) for r in sorted([ int(r[1:]) for r in resids]) ]\n",
    "x_to_aa = { a:j for j,a in enumerate(resids) }\n",
    "\n",
    "\n",
    "for method, method_name, marker,shift in zip(['sparta_plus', 'shiftx2'],\n",
    "                               ['SPARTA+', 'SHIFTX2'],\n",
    "                               ['^','s'],\n",
    "                                [+0.25, -0.25]\n",
    "                                     ):\n",
    "    for cutoff, i, nucleus in zip([0.2, 0.2, 0.2, 0.5], range(len(nuclei)) , nuclei): \n",
    "        aa = data[nucleus][method]['resids']\n",
    "        y = data[nucleus][method]['Open'].mean() - data[nucleus][method]['Open exp'].mean()\n",
    "        y = np.abs(y)\n",
    "        x = np.array([x_to_aa[a] for a in aa])\n",
    "        ax[i].plot(x+shift,y, ls ='', marker=marker, color='blue', label = f'Partially Open {method_name}')\n",
    "        y = data[nucleus][method]['Fully Open'].mean() - data[nucleus][method]['Open exp'].mean()\n",
    "        y = np.abs(y)\n",
    "        ax[i].plot(x+shift,y, ls ='', marker=marker, color='Orange', label = f'Fully Open {method_name}')\n",
    "        \n",
    "\n",
    "        x = np.arange(len(resids))\n",
    "        ax[i].set_xticks(x) # Set tick positions and corresponding labels\n",
    "        _ = ax[i].set_xticklabels(resids, size=10)\n",
    "        ax[i].set_ylabel(nuclei_to_name[nucleus], size=30, labelpad=10)\n",
    "        ax[i].tick_params(axis='y', which='major', labelsize=15)\n",
    "        ax[i].set_xlim([-0.5,len(x)-0.5])\n",
    "        ax[i].axhspan(0,cutoff, facecolor='palegreen', alpha=.1)\n",
    "        \n",
    "ax[0].set_title(r'$|$CS$_\\mathrm{XRD}^\\mathrm{X}$-CS$_\\mathrm{exp}|$  ( ppm )', size = 30, pad=20)\n",
    "ax[-1].set_xlabel('Residues Spectroscopically Assigned', size=25, labelpad=10)\n",
    "ax[0].legend()\n",
    "plt.savefig(f'{reports_dir}for_print/assignment_{model_name}_all_print_no_ref_XRD.png', bbox_inches='tight')"
   ]
  },
  {
   "cell_type": "markdown",
   "metadata": {},
   "source": [
    "## Correlation plots"
   ]
  },
  {
   "cell_type": "code",
   "execution_count": null,
   "metadata": {},
   "outputs": [],
   "source": [
    "methods = {}"
   ]
  },
  {
   "cell_type": "code",
   "execution_count": null,
   "metadata": {},
   "outputs": [],
   "source": [
    "nuclei = ['CA','CB','C','N']"
   ]
  },
  {
   "cell_type": "code",
   "execution_count": null,
   "metadata": {},
   "outputs": [],
   "source": [
    "for nucleus in nuclei:\n",
    "    methods[nucleus] = {}\n",
    "    for method in ['sparta_plus', 'shiftx2']:\n",
    "        model_path = models_dir + f\"{model_name}_{method}_{nucleus}.nc\"\n",
    "        my_model = az.from_netcdf(model_path)\n",
    "        my_model.posterior = combine_posterior_variables(\n",
    "        my_model.posterior, ['mean_o', 'mean_fo'], 'my_mean', 'state',\n",
    "        ['Open', 'Fully Open'])\n",
    "        my_model.posterior = my_model.posterior.drop(['T33', 'V34','A111', 'T112'], dim='resid')\n",
    "        methods[nucleus][method]= { 'data': my_model}"
   ]
  },
  {
   "cell_type": "code",
   "execution_count": null,
   "metadata": {},
   "outputs": [],
   "source": [
    "method_to_name = {\n",
    "    'sparta_plus': 'SPARTA+',\n",
    "    'shiftx2': 'SHIFTX2'\n",
    "}"
   ]
  },
  {
   "cell_type": "code",
   "execution_count": null,
   "metadata": {},
   "outputs": [],
   "source": [
    "nuclei_to_name = {\n",
    "    'CA': r'C$_\\alpha$',\n",
    "    'CB': r'C$_\\beta$',\n",
    "    'C': 'C',\n",
    "    'N': 'N',\n",
    "}"
   ]
  },
  {
   "cell_type": "code",
   "execution_count": null,
   "metadata": {},
   "outputs": [],
   "source": [
    "plt.rcParams[\"text.usetex\"] = False"
   ]
  },
  {
   "cell_type": "code",
   "execution_count": null,
   "metadata": {},
   "outputs": [],
   "source": [
    "plt.rcParams[\"axes.facecolor\"] = \"white\" #\"#EAEAF2\""
   ]
  },
  {
   "cell_type": "code",
   "execution_count": null,
   "metadata": {},
   "outputs": [],
   "source": [
    "df = pd.DataFrame()\n",
    "for method in [ 'sparta_plus', 'shiftx2']:\n",
    "    for nucleus in nuclei[:]:\n",
    "        df_exp_o, df_3fb5, df_5vk6, df_5vkh, df_diff, mask = load_data_frames(processed_data_dir, method, nucleus, data_size, model_name, RANDOM_SEED)\n",
    "        df0 = pd.DataFrame()\n",
    "        sim=az.summary(methods[nucleus][method]['data'])\n",
    "        sim = (sim['hdi_97%'] + sim['hdi_3%'])/2.\n",
    "        sim = sim.filter(axis=0,regex='my_mean')\n",
    "        df0[r'CS$_{sim}$'] = sim\n",
    "        df0.index = list(methods[nucleus][method]['data'].posterior.resid.to_series())*2\n",
    "        df0 = df0.drop('W113', errors='ignore')\n",
    "        resnum = [ int(res[1:]) for res in df0.index]\n",
    "        df0[r'CS$_{exp}$'] = df_exp_o.T.loc[resnum].to_numpy()\n",
    "        df0['State'] = 'Partially Open'\n",
    "        df0['State'][df0.shape[0]//2+1:] = 'Fully Open'\n",
    "        df0['method'] = method\n",
    "        df0['Nucleus'] = nucleus\n",
    "        df = pd.concat([df, df0])\n",
    "df['Nucleus'] = df['Nucleus'].transform(lambda x: nuclei_to_name[x])"
   ]
  },
  {
   "cell_type": "code",
   "execution_count": null,
   "metadata": {},
   "outputs": [],
   "source": [
    "method = 'sparta_plus'\n",
    "g = sns.lmplot(x=r'CS$_{sim}$', y=r'CS$_{exp}$', col=\"Nucleus\", hue=\"State\", data=df[df.method == method],\n",
    "           col_wrap=2, palette=\"muted\", height=4,\n",
    "           scatter_kws={\"s\": 50, \"alpha\": 1}\n",
    "           ,sharex=False,sharey=False, size = 5\n",
    "              )\n",
    "ax = g.axes\n",
    "ax[0].set_ylim([40,72])\n",
    "ax[0].set_xlim([40,72])\n",
    "ax[1].set_ylim([10,80])\n",
    "ax[1].set_xlim([10,80])\n",
    "ax[2].set_ylim([170,183])\n",
    "ax[2].set_xlim([170,183])\n",
    "ax[3].set_ylim([95,130])\n",
    "ax[3].set_xlim([95,130])\n",
    "for a in ax:\n",
    "    a.plot(np.arange(0,200,10),np.arange(0,200,10), color='k', ls = ':')\n",
    "    a.set_xlabel(r'CS$_\\mathrm{sim}$', size=20)\n",
    "    a.set_ylabel(r'CS$_\\mathrm{exp}$', size=20)\n",
    "    a.title.set_size(20)\n",
    "g.tight_layout()\n",
    "g.legend.set_title(\"\")\n",
    "g.fig.suptitle(method_to_name[method], y=1.05, size = 25)\n",
    "plt.savefig(f'{reports_dir}for_print/correlation_{method}_print.png')"
   ]
  },
  {
   "cell_type": "code",
   "execution_count": null,
   "metadata": {},
   "outputs": [],
   "source": [
    "method = 'shiftx2'\n",
    "g = sns.lmplot(x=r'CS$_{sim}$', y=r'CS$_{exp}$', col=\"Nucleus\", hue=\"State\", data=df[df.method == method],\n",
    "           col_wrap=2, palette=\"muted\", height=4,\n",
    "           scatter_kws={\"s\": 50, \"alpha\": 1}\n",
    "           ,sharex=False,sharey=False, size = 5\n",
    "              )\n",
    "ax = g.axes\n",
    "ax[0].set_ylim([40,72])\n",
    "ax[0].set_xlim([40,72])\n",
    "ax[1].set_ylim([10,80])\n",
    "ax[1].set_xlim([10,80])\n",
    "ax[2].set_ylim([170,183])\n",
    "ax[2].set_xlim([170,183])\n",
    "ax[3].set_ylim([95,130])\n",
    "ax[3].set_xlim([95,130])\n",
    "for a in ax:\n",
    "    a.plot(np.arange(0,200,10),np.arange(0,200,10), color='k', ls = ':')\n",
    "    a.set_xlabel(r'CS$_\\mathrm{sim}$', size=20)\n",
    "    a.set_ylabel(r'CS$_\\mathrm{exp}$', size=20)\n",
    "    a.title.set_size(20)\n",
    "g.tight_layout()\n",
    "g.legend.set_title(\"\")\n",
    "g.fig.suptitle(method_to_name[method], y=1.05, size = 25)\n",
    "plt.savefig(f'{reports_dir}for_print/correlation_{method}_print.png')"
   ]
  },
  {
   "cell_type": "markdown",
   "metadata": {},
   "source": [
    "## Distribution of errors"
   ]
  },
  {
   "cell_type": "code",
   "execution_count": null,
   "metadata": {},
   "outputs": [],
   "source": [
    "methods = {}"
   ]
  },
  {
   "cell_type": "code",
   "execution_count": null,
   "metadata": {},
   "outputs": [],
   "source": [
    "nuclei = ['CA','CB','C','N']"
   ]
  },
  {
   "cell_type": "code",
   "execution_count": null,
   "metadata": {},
   "outputs": [],
   "source": [
    "for nucleus in nuclei:\n",
    "    methods[nucleus] = {}\n",
    "    print(nucleus)\n",
    "    for method in [ 'sparta_plus', 'shiftx2']:\n",
    "        model_path = models_dir + f\"{model_name}_{method}_{nucleus}.nc\"\n",
    "        my_model = az.from_netcdf(model_path)\n",
    "        my_model.posterior = combine_posterior_variables(\n",
    "        my_model.posterior, ['mean_o_c_abs', 'mean_fo_c_abs'], 'delta_delta_abs', 'state',\n",
    "        ['Partially Open', 'Fully Open'])\n",
    "        my_model.posterior = combine_posterior_variables(\n",
    "        my_model.posterior, ['mean_o_o_abs', 'mean_fo_o_abs'], 'delta_delta_o_abs', 'state',\n",
    "        ['Partially Open', 'Fully Open'])\n",
    "        my_model.posterior = my_model.posterior.drop(['T33', 'V34','A111', 'T112'], dim='resid')\n",
    "        methods[nucleus][method]= { 'data': my_model}"
   ]
  },
  {
   "cell_type": "code",
   "execution_count": null,
   "metadata": {},
   "outputs": [],
   "source": [
    "nuclei_to_name = {\n",
    "    'CA': r'C$_\\alpha$',\n",
    "    'CB': r'C$_\\beta$',\n",
    "    'C': 'C',\n",
    "    'N': 'N',\n",
    "}"
   ]
  },
  {
   "cell_type": "code",
   "execution_count": null,
   "metadata": {},
   "outputs": [],
   "source": [
    "method_to_name = {\n",
    "    'sparta_plus': 'SPARTA+',\n",
    "    'shiftx2': 'SHIFTX2'\n",
    "}"
   ]
  },
  {
   "cell_type": "code",
   "execution_count": null,
   "metadata": {},
   "outputs": [],
   "source": [
    "state_to_name = {\n",
    "    'mean_o_c': 'Partially Open',\n",
    "    'mean_fo_c': 'Fully Open',\n",
    "    'mean_o_o': 'Partially Open',\n",
    "    'mean_fo_o': 'Fully Open',\n",
    "}"
   ]
  },
  {
   "cell_type": "code",
   "execution_count": null,
   "metadata": {},
   "outputs": [],
   "source": [
    "fig, ax = plt.subplots(4, 2, figsize=(15,5*4), sharex=True, sharey=True)\n",
    "\n",
    "for i, atom in enumerate(['CA', 'CB', 'C', 'N',]):\n",
    "    for l, method in zip(['-',':'], method_to_name.keys()):\n",
    "        for j, state in enumerate(['mean_o_c', 'mean_fo_c']):\n",
    "            data = methods[atom][method]['data'].posterior[state].to_series().to_numpy()[:]\n",
    "            sns.kdeplot(data=data, ax=ax[i,0], label=f'{state_to_name[state]} {method_to_name[method]}', ls=l, c=f'C{j}')\n",
    "            ax[i,0].set_ylabel(nuclei_to_name[atom], size =25)\n",
    "            ax[i,0].legend()\n",
    "            ax[i,0].set_xlabel(r'$\\Delta$CS$_\\mathrm{sim}^\\mathrm{X}$-$\\Delta$CS$_\\mathrm{exp}$ (ppm)', size =20)\n",
    "\n",
    "\n",
    "for i, atom in enumerate(['CA', 'CB', 'C', 'N',]):\n",
    "    for l, method in zip(['-',':'], method_to_name.keys()):\n",
    "        for j, state in enumerate(['mean_o_o', 'mean_fo_o']):\n",
    "            data = methods[atom][method]['data'].posterior[state].to_series().to_numpy()[:]\n",
    "            sns.kdeplot(data=data, ax=ax[i,1], label=f'{state_to_name[state]} {method_to_name[method]}', ls=l, c=f'C{j}')\n",
    "            ax[i,1].set_ylabel(nuclei_to_name[atom], size =25)\n",
    "            ax[i,1].legend()\n",
    "            ax[i,1].set_xlabel(r'CS$_\\mathrm{sim}^\\mathrm{X}$ - CS$_\\mathrm{exp}$ (ppm)', size =20)\n",
    "\n",
    "ax[0,0].set_title('Using Reference', size =20)\n",
    "ax[0,1].set_title('Without Reference', size =20)\n",
    "fig.tight_layout()\n",
    "plt.savefig(f'{reports_dir}for_print/error_distribution_print.png')"
   ]
  },
  {
   "cell_type": "markdown",
   "metadata": {},
   "source": [
    "## Make table and Send Gsheets"
   ]
  },
  {
   "cell_type": "markdown",
   "metadata": {},
   "source": [
    "### CS"
   ]
  },
  {
   "cell_type": "code",
   "execution_count": null,
   "metadata": {},
   "outputs": [],
   "source": [
    "data = {}"
   ]
  },
  {
   "cell_type": "code",
   "execution_count": null,
   "metadata": {},
   "outputs": [],
   "source": [
    "nuclei = ['CA','CB','C','N']"
   ]
  },
  {
   "cell_type": "code",
   "execution_count": null,
   "metadata": {},
   "outputs": [],
   "source": [
    "states = ['Fully Open', 'Partially Open', 'Closed']"
   ]
  },
  {
   "cell_type": "code",
   "execution_count": null,
   "metadata": {},
   "outputs": [],
   "source": [
    "methods = ['sparta_plus', 'shiftx2']"
   ]
  },
  {
   "cell_type": "code",
   "execution_count": null,
   "metadata": {},
   "outputs": [],
   "source": [
    "method_to_name = {\n",
    "    'sparta_plus': 'SPARTA+',\n",
    "    'shiftx2': 'SHIFTX2'\n",
    "}"
   ]
  },
  {
   "cell_type": "code",
   "execution_count": null,
   "metadata": {},
   "outputs": [],
   "source": [
    "for nucleus in nuclei:\n",
    "    data[nucleus] = {}\n",
    "    for method in ['sparta_plus', 'shiftx2']:\n",
    "        model_path = models_dir + f\"{model_name}_{method}_{nucleus}.nc\"\n",
    "        my_model = az.from_netcdf(model_path)\n",
    "        my_model.posterior = combine_posterior_variables(\n",
    "        my_model.posterior, ['mean_o', 'mean_fo', 'mean_c'], 'CS', 'state',\n",
    "        ['Partially Open', 'Fully Open', 'Closed'])\n",
    "        my_model.posterior = my_model.posterior.drop(['T33', 'V34','A111', 'T112'], dim='resid')\n",
    "        data[nucleus][method]= { 'data': my_model}"
   ]
  },
  {
   "cell_type": "code",
   "execution_count": null,
   "metadata": {},
   "outputs": [],
   "source": [
    "for nucleus in nuclei:\n",
    "    series = []\n",
    "    resids = data[nucleus][method]['data'].posterior.resid\n",
    "    series.append(pd.Series(resids, name='resid'))\n",
    "    for method in methods:\n",
    "        for state in states:\n",
    "            d = az.summary(data[nucleus][method]['data'].posterior['CS'].sel(state=state))\n",
    "            center = (d['hdi_97%'] + d['hdi_3%'])/2\n",
    "            err = d['hdi_97%'] - center\n",
    "            series.append(pd.Series(format_plus_minus_error(center,err,format_value='.2f',\n",
    "    format_error='.2f',), name=f'{state}, {method_to_name[method]}'))\n",
    "    df = pd.DataFrame(series).T\n",
    "    df_to_data_sheet(df,'KcsA_assignments',f'Sim. CS {nucleus}')"
   ]
  },
  {
   "cell_type": "markdown",
   "metadata": {},
   "source": [
    "### |DeltaCS_sim -DeltaCS_exp| "
   ]
  },
  {
   "cell_type": "code",
   "execution_count": null,
   "metadata": {},
   "outputs": [],
   "source": [
    "data = {}"
   ]
  },
  {
   "cell_type": "code",
   "execution_count": null,
   "metadata": {},
   "outputs": [],
   "source": [
    "nuclei = ['CA','CB','C','N']"
   ]
  },
  {
   "cell_type": "code",
   "execution_count": null,
   "metadata": {},
   "outputs": [],
   "source": [
    "states = ['Fully Open', 'Partially Open']"
   ]
  },
  {
   "cell_type": "code",
   "execution_count": null,
   "metadata": {},
   "outputs": [],
   "source": [
    "methods = ['sparta_plus', 'shiftx2']"
   ]
  },
  {
   "cell_type": "code",
   "execution_count": null,
   "metadata": {},
   "outputs": [],
   "source": [
    "method_to_name = {\n",
    "    'sparta_plus': 'SPARTA+',\n",
    "    'shiftx2': 'SHIFTX2'\n",
    "}"
   ]
  },
  {
   "cell_type": "code",
   "execution_count": null,
   "metadata": {},
   "outputs": [],
   "source": [
    "for nucleus in nuclei:\n",
    "    data[nucleus] = {}\n",
    "    for method in ['sparta_plus', 'shiftx2']:\n",
    "        model_path = models_dir + f\"{model_name}_{method}_{nucleus}.nc\"\n",
    "        my_model = az.from_netcdf(model_path)\n",
    "        my_model.posterior = combine_posterior_variables(\n",
    "        my_model.posterior, ['mean_o_c', 'mean_fo_c'], 'delta delta', 'state',\n",
    "        ['Partially Open', 'Fully Open'])\n",
    "        my_model.posterior = combine_posterior_variables(\n",
    "        my_model.posterior, ['mean_o_o', 'mean_fo_o'], 'delta', 'state',\n",
    "        ['Partially Open', 'Fully Open'])\n",
    "        my_model.posterior = my_model.posterior.drop(['T33', 'V34','A111', 'T112'], dim='resid')\n",
    "        data[nucleus][method]= { 'data': my_model}"
   ]
  },
  {
   "cell_type": "code",
   "execution_count": null,
   "metadata": {},
   "outputs": [],
   "source": [
    "for m in [ 'sparta_plus', 'shiftx2']:\n",
    "    for c, a in zip([0.2, 0.2, 0.2, 0.5], nuclei):\n",
    "        l = get_significant( models_dir + f\"{model_name}_{m}_{a}.nc\", ppm_cutoff=c)\n",
    "        [ l.remove(amino_acid) for amino_acid in ['T33', 'V34','A111', 'T112'] if amino_acid in l ]\n",
    "        data[a][m]['aa'] = l"
   ]
  },
  {
   "cell_type": "code",
   "execution_count": null,
   "metadata": {},
   "outputs": [],
   "source": [
    "resids = list(set(data['CA']['shiftx2']['aa']) | \n",
    "              set(data['CA']['sparta_plus']['aa']) | \n",
    "              set(data['CB']['shiftx2']['aa']) | \n",
    "              set(data['CB']['sparta_plus']['aa']) | \n",
    "              set(data['C']['shiftx2']['aa']) | \n",
    "              set(data['C']['sparta_plus']['aa']) | \n",
    "              set(data['N']['shiftx2']['aa']) | \n",
    "              set(data['N']['sparta_plus']['aa']) \n",
    ")"
   ]
  },
  {
   "cell_type": "code",
   "execution_count": null,
   "metadata": {},
   "outputs": [],
   "source": [
    "resids = data[nucleus]['sparta_plus']['data'].posterior.resid"
   ]
  },
  {
   "cell_type": "code",
   "execution_count": null,
   "metadata": {},
   "outputs": [],
   "source": [
    "for nucleus in nuclei:\n",
    "    series = []\n",
    "    for method in methods:\n",
    "        aa = data[nucleus][method]['aa']\n",
    "        for state in states:\n",
    "            d = az.summary(data[nucleus][method]['data'].posterior['delta'].sel(state=state).loc[:,:,aa])\n",
    "            center = (d['hdi_97%'] + d['hdi_3%'])/2\n",
    "            err = d['hdi_97%'] - center\n",
    "            series.append(pd.Series(format_plus_minus_error(center,err), name=f'{state}, {method_to_name[method]}',\n",
    "                                   index=aa))\n",
    "    for method in methods:\n",
    "        aa = data[nucleus][method]['aa']\n",
    "        for state in states:\n",
    "            d = az.summary(data[nucleus][method]['data'].posterior['delta delta'].sel(state=state).loc[:,:,aa])\n",
    "            center = (d['hdi_97%'] + d['hdi_3%'])/2\n",
    "            err = d['hdi_97%'] - center\n",
    "            series.append(pd.Series(format_plus_minus_error(center,err,format_value='.2f',\n",
    "    format_error='.2f'), name=f'{state}, {method_to_name[method]}',\n",
    "                                   index=aa))\n",
    "    df = pd.DataFrame(series, columns=resids).T\n",
    "    df = df.dropna(how='all').fillna('')\n",
    "    df.reset_index(inplace=True)\n",
    "    df_to_data_sheet(df,'KcsA_assignments',f'DeltaCSsim -DeltaCSexp {nucleus}')"
   ]
  },
  {
   "cell_type": "markdown",
   "metadata": {},
   "source": [
    "## PPC"
   ]
  },
  {
   "cell_type": "code",
   "execution_count": null,
   "metadata": {},
   "outputs": [],
   "source": [
    "method_to_name = {\n",
    "    'sparta_plus': 'SPARTA+',\n",
    "    'shiftx2': 'SHIFTX2'\n",
    "}"
   ]
  },
  {
   "cell_type": "code",
   "execution_count": null,
   "metadata": {},
   "outputs": [],
   "source": [
    "nuclei_to_name = {\n",
    "    'CA': r'C$_\\alpha$',\n",
    "    'CB': r'C$_\\beta$',\n",
    "    'C': 'C',\n",
    "    'N': 'N',\n",
    "}"
   ]
  },
  {
   "cell_type": "code",
   "execution_count": null,
   "metadata": {},
   "outputs": [],
   "source": [
    "state_to_name = {\n",
    "    'like_o' : 'Partially Open',\n",
    "    'like_fo' : 'Fully Open',\n",
    "    'like_c' : 'Closed',\n",
    "}"
   ]
  },
  {
   "cell_type": "code",
   "execution_count": null,
   "metadata": {},
   "outputs": [],
   "source": [
    "%%ding\n",
    "%%time\n",
    "for nucleus in nuclei_to_name.keys():\n",
    "    for method in method_to_name.keys():\n",
    "        for state in state_to_name.keys():\n",
    "            print(state)\n",
    "            model_path = models_dir + f\"{model_name}_{method}_{nucleus}.nc\"\n",
    "            my_model = az.from_netcdf(model_path)\n",
    "            my_model.posterior = my_model.posterior.drop(['T33', 'V34','A111', 'T112'], dim='resid')\n",
    "            my_model.posterior_predictive = my_model.posterior_predictive.drop(['T33', 'V34','A111', 'T112'], dim='resid')\n",
    "            my_model.log_likelihood = my_model.log_likelihood.drop(['T33', 'V34','A111', 'T112'], dim='resid')\n",
    "            my_model.observed_data = my_model.observed_data.drop(['T33', 'V34','A111', 'T112'], dim='resid')\n",
    "            resids = my_model.posterior.resid\n",
    "            n = resids.shape[0]\n",
    "            fig, ax = plt.subplots(n // 6 + 1, 6, figsize=(13,15))\n",
    "            for i in range(6 - n % 6):\n",
    "                fig.delaxes(ax[-1,-i-1])\n",
    "            ax = fig.axes\n",
    "            with az.rc_context(rc={'plot.max_subplots': None}):\n",
    "                az.plot_ppc(my_model, flatten=['step'], var_names = [state], random_seed=RANDOM_SEED, ax=ax)\n",
    "            for r, a in zip(resids.to_index(), ax):\n",
    "                a.set_title(f'{r}', size=12)\n",
    "                a.set_xlabel('')\n",
    "                a.legend_.set_visible(False)\n",
    "            fig.suptitle(f'Posterior Predictive Check {method_to_name[method]} {nuclei_to_name[nucleus]} {state_to_name[state]} (ppm)', y =1.0, size =20)\n",
    "            fig.tight_layout()\n",
    "            plt.savefig(f'{reports_dir}for_print/ppc_{state}_{nucleus}_{method}.png')"
   ]
  },
  {
   "cell_type": "markdown",
   "metadata": {},
   "source": [
    "# Study the Simulations"
   ]
  },
  {
   "cell_type": "markdown",
   "metadata": {},
   "source": [
    "## Occupation of SF"
   ]
  },
  {
   "cell_type": "code",
   "execution_count": null,
   "metadata": {},
   "outputs": [],
   "source": [
    "states = { \n",
    "    '3FB5_lb' : {'begin': 400000.,\n",
    "                      'end': 1000000.,\n",
    "                 'eq': 40,\n",
    "                'title': 'Partially Open'},\n",
    "          '5VK6_lb': {'begin': 0.,\n",
    "                      'end': 350000.,\n",
    "                      'eq': 40,\n",
    "                'title': 'Fully Open'},\n",
    "          '5VKH_lb': {'begin': 0,\n",
    "                      'end': 1.e+20,\n",
    "                      'eq': 100.,\n",
    "                'title': 'Closed'}\n",
    "         }"
   ]
  },
  {
   "cell_type": "code",
   "execution_count": null,
   "metadata": {},
   "outputs": [],
   "source": [
    "%cd /data/sperez/Projects/nmr_assign_state/notebooks/"
   ]
  },
  {
   "cell_type": "markdown",
   "metadata": {},
   "source": [
    "This cell calls the program of Kopec et al. from (https://doi.org/10.1038/s41467-019-13227-w) freely available in their supplementary data."
   ]
  },
  {
   "cell_type": "code",
   "execution_count": null,
   "metadata": {},
   "outputs": [],
   "source": [
    "cdminus = os.getcwd()\n",
    "for state in states.keys():\n",
    "    print(state)\n",
    "    spc_os.mkdir(processed_data_dir+state+'/SF_occupation')\n",
    "    os.chdir(processed_data_dir+state+'/SF_occupation')\n",
    "    myoutput = open(\"stdout\",'w+')\n",
    "    sp.run(f\"../../../../../KcsA/Scripts/KopecProgram/xtck ../../../interim/{state}/all_pbc.gro ../../../interim/{state}/full_all_sk1_pbc_full.xtc\",check=True,shell=True,stdout=myoutput)\n",
    "    myoutput.close()\n",
    "    os.chdir(cdminus)"
   ]
  },
  {
   "cell_type": "code",
   "execution_count": null,
   "metadata": {},
   "outputs": [],
   "source": [
    "def get_occupation(state):\n",
    "    occupation = []\n",
    "    occupation_labels = ['W', 'K', '0' ]\n",
    "    \n",
    "    sites = ['S0', 'S1', 'S2', 'S3', 'S4', 'S5']\n",
    "    with open(processed_data_dir+state+'/SF_occupation/stdout') as file:\n",
    "        file = file.readlines()[23:-3]\n",
    "        for line in file:\n",
    "            occupation_split =[]\n",
    "            for site in line.split()[4]:\n",
    "                occupation_split.append(site)\n",
    "            occupation.append(occupation_split)\n",
    "    occupation = pd.DataFrame(occupation, columns=sites)\n",
    "    for i, label in enumerate(occupation_labels):\n",
    "        occupation[ occupation == label ] = i\n",
    "    occupation = occupation.astype(int)\n",
    "    return occupation, occupation_labels, sites"
   ]
  },
  {
   "cell_type": "code",
   "execution_count": null,
   "metadata": {},
   "outputs": [],
   "source": [
    "fig, ax = plt.subplots(3, 1,figsize = (17, 3*3), sharex=True)\n",
    "k = []\n",
    "occupation_labels_colorbar ={\n",
    "        0.33 : 'W',\n",
    "        1 : 'K',\n",
    "        1.66: '0'\n",
    "    }\n",
    "for i, state in enumerate(states.keys()):\n",
    "    occupation, occupation_labels, sites = get_occupation(state)\n",
    "    time = occupation.index * 0.02\n",
    "    k.append( ax[i].pcolor(np.array(time),np.arange(len(sites)+1),occupation.T,cmap=plt.cm.get_cmap(\"tab20c\", len(occupation_labels))))\n",
    "    formatter = plt.FuncFormatter(lambda val, loc: occupation_labels_colorbar[val])\n",
    "    ax[i].set_ylabel('SF Site', size=20)\n",
    "    ax[i].set_yticks(np.arange(len(sites))+0.5)\n",
    "    ax[i].set_yticklabels([ f'S{j}' for j in np.arange(len(sites))])\n",
    "    ax[i].tick_params(labelsize=15)\n",
    "    title =states[state]['title']\n",
    "    ax[i].set_title(title, size=20)\n",
    "    plt.colorbar(k[i], ax=ax[i], ticks=[0.33,1,1.66],format=formatter)\n",
    "ax[0].axvline(x=400,c=\"k\", ls='--', lw=4)\n",
    "ax[0].axvline(x=1000,c=\"k\", ls='--', lw=4)\n",
    "ax[1].axvline(x=3,c=\"k\", ls='--', lw=4)\n",
    "ax[1].axvline(x=350,c=\"k\", ls='--', lw=4)\n",
    "ax[2].axvline(x=3,c=\"k\", ls='--', lw=4)\n",
    "ax[2].axvline(x=938,c=\"k\", ls='--', lw=4)\n",
    "ax[-1].set_xlabel('time (ns)', size=20)\n",
    "fig.tight_layout()\n",
    "plt.savefig(f'{reports_dir}for_print/SF_occupation_print.png')"
   ]
  },
  {
   "cell_type": "markdown",
   "metadata": {},
   "source": [
    "## Calculate Inner Gate distance"
   ]
  },
  {
   "cell_type": "code",
   "execution_count": null,
   "metadata": {},
   "outputs": [],
   "source": [
    "states = { \n",
    "    '3FB5_lb' : {'begin': 400000.,\n",
    "                      'end': 1000000.,\n",
    "                 'eq': 40,\n",
    "                'title': 'Partially Open'},\n",
    "          '5VK6_lb': {'begin': 0.,\n",
    "                      'end': 350000.,\n",
    "                      'eq': 40,\n",
    "                'title': 'Fully Open'},\n",
    "          '5VKH_lb': {'begin': 0,\n",
    "                      'end': 1.e+20,\n",
    "                      'eq': 100.,\n",
    "                'title': 'Closed'},\n",
    "          '3F5W_lb': {'begin': 0,\n",
    "                      'end': 1.e+20,\n",
    "                      'eq': 100.,\n",
    "                'title': 'Ultra Open'}\n",
    "         }"
   ]
  },
  {
   "cell_type": "code",
   "execution_count": null,
   "metadata": {},
   "outputs": [],
   "source": [
    "eq_time = { \n",
    "                 'Partially Open': 40,\n",
    "                      'Fully Open': 40,\n",
    "                      'Closed': 100.,\n",
    "    'Ultra Open': 70.\n",
    "         }"
   ]
  },
  {
   "cell_type": "code",
   "execution_count": null,
   "metadata": {},
   "outputs": [],
   "source": [
    "df = pd.DataFrame()\n",
    "n_roll = 50\n",
    "for state in states.keys():\n",
    "    print(state)\n",
    "    u = mda.Universe(f'{raw_data_dir}{state}/charmm_final.pdb',[f'{interim_data_dir}{state}/eq0_all_sk1_pbc.xtc',\n",
    "                                                                   f'{interim_data_dir}{state}/eq_all_sk1_pbc.xtc',\n",
    "                                                                f'{interim_data_dir}{state}/all_sk1_pbc.xtc',\n",
    "                                                                ])\n",
    "    sel1 = u.select_atoms('resid 112 and segid PROA and name CA')\n",
    "    sel2 = u.select_atoms('resid 112 and segid PROB and name CA')\n",
    "    d = spc_analysis.distance_atoms(u, sel1, sel2)\n",
    "    sel1 = u.select_atoms('resid 112 and segid PROC and name CA')\n",
    "    sel2 = u.select_atoms('resid 112 and segid PROD and name CA')\n",
    "    r = spc_analysis.distance_atoms(u, sel1, sel2)\n",
    "    r = np.vstack([d,r])\n",
    "    n = r.shape[0]\n",
    "    df0 =  pd.DataFrame(r, columns=['t (ns)', r'r$_{IG}$ ($\\AA$)'])\n",
    "    df0['State'] = states[state]['title']\n",
    "    df0['SU'] = pd.Series([ 'AB' for i in range(n//2)] + [ 'CD' for i in range(n//2)] )\n",
    "    df = pd.concat([df, df0]) "
   ]
  },
  {
   "cell_type": "code",
   "execution_count": null,
   "metadata": {},
   "outputs": [],
   "source": [
    "df.to_csv(processed_data_dir+'IG.csv')"
   ]
  },
  {
   "cell_type": "code",
   "execution_count": null,
   "metadata": {},
   "outputs": [],
   "source": [
    "df = pd.read_csv(processed_data_dir+'IG.csv')"
   ]
  },
  {
   "cell_type": "code",
   "execution_count": null,
   "metadata": {},
   "outputs": [],
   "source": [
    "df['t (ns)'] = df['t (ns)'] / 1000"
   ]
  },
  {
   "cell_type": "code",
   "execution_count": null,
   "metadata": {},
   "outputs": [],
   "source": [
    "fig, ax = plt.subplots(1, 3, figsize=(30, 7.5), sharex=True, sharey=True)\n",
    "for i, state in enumerate(df.State.unique()[:-1]):\n",
    "    for su, marker in zip(df.SU.unique(), [\"--\", \"-\"]):\n",
    "        data = df[ np.logical_and(df.State == state, df.SU == su)]\n",
    "        data = data.loc[::100,:]\n",
    "        ax[i].plot(data['t (ns)']-eq_time[state], data['r$_{IG}$ ($\\AA$)'], c=f'C{i}', ls = marker, label=f'{state} {su}', marker='')\n",
    "    #ax[i].set_xlim([0.0, 1.5E3])\n",
    "    ax[i].set_title(state, size=25)\n",
    "    ax[i].set_xlabel('t (ns)', size=25)\n",
    "    ax[i].axhline(y=11,c=\"black\", ls='--')\n",
    "    ax[i].axhline(y=16,c=\"black\", ls='--')\n",
    "    ax[i].axhline(y=22,c=\"black\", ls='--')\n",
    "    ax[i].tick_params(labelsize=15)\n",
    "ax[0].set_ylabel(r'IG Distance ($\\AA$)', size=20)\n",
    "ax[2].text(980,11+0.3,'Closed',rotation=0, size=15)\n",
    "ax[2].text(980,16+0.3,'Partially Open',rotation=0, size=15)\n",
    "ax[2].text(980,22+0.3,'Fully Open',rotation=0, size=15)\n",
    "ax[0].axvline(x=400,c=\"C0\", ls='-')\n",
    "ax[0].axvline(x=1000,c=\"C0\", ls='-')\n",
    "ax[1].axvline(x=10,c=\"C1\", ls='-')\n",
    "ax[1].axvline(x=350,c=\"C1\", ls='-')\n",
    "ax[2].axvline(x=10,c=\"C2\", ls='-')\n",
    "ax[2].axvline(x=950,c=\"C2\", ls='-')\n",
    "fig.legend(loc='right', fontsize=15)\n",
    "plt.savefig(f'{reports_dir}for_print/IG_print.png')"
   ]
  },
  {
   "cell_type": "code",
   "execution_count": null,
   "metadata": {},
   "outputs": [],
   "source": [
    "fig, ax = plt.subplots(1, 1, figsize=(10, 7.5), sharex=True, sharey=True)\n",
    "i=0\n",
    "state = 'Ultra Open'\n",
    "for su, marker in zip(df.SU.unique(), [\"--\", \"-\"]):\n",
    "    data = df[ np.logical_and(df.State == state, df.SU == su)]\n",
    "    data = data.loc[::100,:]\n",
    "    ax.plot(data['t (ns)']-eq_time[state], data['r$_{IG}$ ($\\AA$)'], c=f'purple', ls = marker, label=f'{state} {su}', marker='')\n",
    "#ax[i].set_xlim([0.0, 1.5E3])\n",
    "ax.set_title(state+' (3F5W)', size=25)\n",
    "ax.set_xlabel('t (ns)', size=25)\n",
    "ax.axhline(y=11,c=\"black\", ls='--')\n",
    "ax.axhline(y=16,c=\"black\", ls='--')\n",
    "ax.axhline(y=22,c=\"black\", ls='--')\n",
    "ax.tick_params(labelsize=15)\n",
    "ax.set_ylabel(r'IG Distance ($\\AA$)', size=20)\n",
    "ax.text(910,11+0.3,'Closed',rotation=0, size=15)\n",
    "ax.text(910,16+0.3,'Partially Open',rotation=0, size=15)\n",
    "ax.text(910,22+0.3,'Fully Open',rotation=0, size=15)\n",
    "ax.legend(loc='best', fontsize=15)\n",
    "plt.savefig(f'{reports_dir}for_print/IG_ultra_print.png', bbox_inches='tight')"
   ]
  },
  {
   "cell_type": "markdown",
   "metadata": {},
   "source": [
    "## Calculate T61HB"
   ]
  },
  {
   "cell_type": "code",
   "execution_count": null,
   "metadata": {},
   "outputs": [],
   "source": [
    "states = { \n",
    "    '3FB5_lb' : {'begin': 400000.,\n",
    "                      'end': 1000000.,\n",
    "                 'eq': 40,\n",
    "                'title': 'Partially Open'},\n",
    "#           '5VK6_lb': {'begin': 0.,\n",
    "#                       'end': 350000.,\n",
    "#                       'eq': 40,\n",
    "#                 'title': 'Fully Open'},\n",
    "#           '5VKH_lb': {'begin': 0,\n",
    "#                       'end': 1.e+20,\n",
    "#                       'eq': 100.,\n",
    "#                 'title': 'Closed'}\n",
    "         }"
   ]
  },
  {
   "cell_type": "code",
   "execution_count": null,
   "metadata": {},
   "outputs": [],
   "source": [
    "eq_time = { \n",
    "                 'Open': 40,\n",
    "                      'Fully Open': 40,\n",
    "                      'Closed': 100.,\n",
    "         }"
   ]
  },
  {
   "cell_type": "code",
   "execution_count": null,
   "metadata": {},
   "outputs": [],
   "source": [
    "eq_time = { \n",
    "                 'Open': 40,\n",
    "                      'Fully Open': 40,\n",
    "                      'Closed': 100.,\n",
    "         }"
   ]
  },
  {
   "cell_type": "code",
   "execution_count": null,
   "metadata": {},
   "outputs": [],
   "source": [
    "df = pd.DataFrame()\n",
    "n_roll = 100\n",
    "\n",
    "for state in states.keys():\n",
    "    print(state)\n",
    "    u = mda.Universe(f'{raw_data_dir}{state}/charmm_final.pdb',[f'{interim_data_dir}{state}/eq0_all_sk1_pbc.xtc',\n",
    "                                                                   f'{interim_data_dir}{state}/eq_all_sk1_pbc.xtc',\n",
    "                                                                f'{interim_data_dir}{state}/all_sk1_pbc.xtc',\n",
    "                                                                ])\n",
    "    sel1 = u.select_atoms('resid 61 and segid PROA and name O')\n",
    "    sel2 = u.select_atoms('resid 64 and segid PROA and name HN')\n",
    "    d = spc_analysis.distance_atoms(u, sel1, sel2)\n",
    "    sel1 = u.select_atoms('resid 61 and segid PROB and name O')\n",
    "    sel2 = u.select_atoms('resid 64 and segid PROB and name HN')\n",
    "    r = spc_analysis.distance_atoms(u, sel1, sel2)\n",
    "    d = np.vstack([d,r])\n",
    "    sel1 = u.select_atoms('resid 61 and segid PROC and name O')\n",
    "    sel2 = u.select_atoms('resid 64 and segid PROC and name HN')\n",
    "    r = spc_analysis.distance_atoms(u, sel1, sel2)\n",
    "    d = np.vstack([d,r])\n",
    "    sel1 = u.select_atoms('resid 61 and segid PROD and name O')\n",
    "    sel2 = u.select_atoms('resid 64 and segid PROD and name HN')\n",
    "    r = spc_analysis.distance_atoms(u, sel1, sel2)\n",
    "    d = np.vstack([d,r])\n",
    "    n = d.shape[0]\n",
    "    df0 =  pd.DataFrame(d, columns=['t (ns)', r'r$_{61-64}$ ($\\AA$)'])\n",
    "    df0['State'] = states[state]['title']\n",
    "    df0['SU'] = pd.Series([ 'A' for i in range(n//4)] + [ 'B' for i in range(n//4)] + [ 'C' for i in range(n//4)] + [ 'D' for i in range(n//4)])\n",
    "    for u in ['A', 'B', 'C', 'D']:\n",
    "        df0[r'r$_{61-64}$ ($\\AA$)'][df0['SU'] == u] = df0[r'r$_{61-64}$ ($\\AA$)'][df0['SU'] == u].rolling(n_roll).mean()[n_roll:]\n",
    "    df = pd.concat([df, df0]) "
   ]
  },
  {
   "cell_type": "code",
   "execution_count": null,
   "metadata": {},
   "outputs": [],
   "source": [
    "df.to_csv(processed_data_dir+'HB61-64.csv')"
   ]
  },
  {
   "cell_type": "code",
   "execution_count": null,
   "metadata": {},
   "outputs": [],
   "source": [
    "df = pd.read_csv(processed_data_dir+'HB61-64.csv')"
   ]
  },
  {
   "cell_type": "code",
   "execution_count": null,
   "metadata": {},
   "outputs": [],
   "source": [
    "df['t (ns)'] = df['t (ns)'] / 1000"
   ]
  },
  {
   "cell_type": "code",
   "execution_count": null,
   "metadata": {},
   "outputs": [],
   "source": [
    "g = sns.jointplot(\"t (ns)\", r'r$_{61-64}$ ($\\AA$)', df.loc[::1,:], kind='scatter', hue='SU', markers='.',linewidth=0, s=6, height=10, ratio=10)\n",
    "g.ax_marg_x.remove()\n",
    "g.ax_joint.set_xlabel(\"t (ns)\", size=30)\n",
    "g.ax_joint.set_ylabel(r'r$_{61-64}$ ($\\AA$)', size=25)\n",
    "g.ax_joint.legend(fontsize=20, loc='lower right')\n",
    "g.ax_joint.set_xlim([0.0, 1.5E3])\n",
    "#g.ax_joint.set_ylim([0.0, 2.25])\n",
    "g.fig.set_figwidth(15)\n",
    "g.ax_joint.tick_params(labelsize=15)\n",
    "plt.savefig(f'{reports_dir}for_print/HB61-64_print.png', bbox_inches='tight')"
   ]
  },
  {
   "cell_type": "code",
   "execution_count": null,
   "metadata": {},
   "outputs": [],
   "source": [
    "df = pd.DataFrame()\n",
    "n_roll = 100\n",
    "\n",
    "for state in states.keys():\n",
    "    print(state)\n",
    "    u = mda.Universe(f'{raw_data_dir}{state}/charmm_final.pdb',[f'{interim_data_dir}{state}/eq0_all_sk1_pbc.xtc',\n",
    "                                                                   f'{interim_data_dir}{state}/eq_all_sk1_pbc.xtc',\n",
    "                                                                f'{interim_data_dir}{state}/all_sk1_pbc.xtc',\n",
    "                                                                ])\n",
    "    sel1 = u.select_atoms('resid 61 and segid PROA and name OG1')\n",
    "    sel2 = u.select_atoms('resid 64 and segid PROA and name CZ')\n",
    "    d = spc_analysis.distance_atoms(u, sel1, sel2)\n",
    "    sel1 = u.select_atoms('resid 61 and segid PROB and name OG1')\n",
    "    sel2 = u.select_atoms('resid 6 and segid PROB and name CZ')\n",
    "    r = spc_analysis.distance_atoms(u, sel1, sel2)\n",
    "    d = np.vstack([d,r])\n",
    "    sel1 = u.select_atoms('resid 61 and segid PROC and name OG1')\n",
    "    sel2 = u.select_atoms('resid 62 and segid PROC and name CZ')\n",
    "    r = spc_analysis.distance_atoms(u, sel1, sel2)\n",
    "    d = np.vstack([d,r])\n",
    "    sel1 = u.select_atoms('resid 61 and segid PROD and name OG1')\n",
    "    sel2 = u.select_atoms('resid 62 and segid PROD and name CZ')\n",
    "    r = spc_analysis.distance_atoms(u, sel1, sel2)\n",
    "    d = np.vstack([d,r])\n",
    "    n = d.shape[0]\n",
    "    df0 =  pd.DataFrame(d, columns=['t (ns)', r'r$_{61-64}$ ($\\AA$)'])\n",
    "    df0['State'] = states[state]['title']\n",
    "    df0['SU'] = pd.Series([ 'A' for i in range(n//4)] + [ 'B' for i in range(n//4)] + [ 'C' for i in range(n//4)] + [ 'D' for i in range(n//4)])\n",
    "    for u in ['A', 'B', 'C', 'D']:\n",
    "        df0[r'r$_{61-64}$ ($\\AA$)'][df0['SU'] == u] = df0[r'r$_{61-64}$ ($\\AA$)'][df0['SU'] == u].rolling(n_roll).mean()[n_roll:]\n",
    "    df = pd.concat([df, df0]) "
   ]
  },
  {
   "cell_type": "code",
   "execution_count": null,
   "metadata": {},
   "outputs": [],
   "source": [
    "df.to_csv(processed_data_dir+'HB61-64sc.csv')"
   ]
  },
  {
   "cell_type": "code",
   "execution_count": null,
   "metadata": {},
   "outputs": [],
   "source": [
    "df = pd.read_csv(processed_data_dir+'HB61-64sc.csv')"
   ]
  },
  {
   "cell_type": "code",
   "execution_count": null,
   "metadata": {},
   "outputs": [],
   "source": [
    "df['t (ns)'] = df['t (ns)'] / 1000"
   ]
  },
  {
   "cell_type": "code",
   "execution_count": null,
   "metadata": {},
   "outputs": [],
   "source": [
    "g = sns.jointplot(\"t (ns)\", r'r$_{61-64}$ ($\\AA$)', df.loc[::1,:], kind='scatter', hue='SU', markers='.',linewidth=0, s=6, height=10, ratio=10)\n",
    "g.ax_marg_x.remove()\n",
    "g.ax_joint.set_xlabel(\"t (ns)\", size=30)\n",
    "g.ax_joint.set_ylabel(r'r$_{61-64}$ ($\\AA$)', size=25)\n",
    "g.ax_joint.legend(fontsize=20, loc='lower right')\n",
    "#g.ax_joint.set_xlim([0.0, 1.5E3])\n",
    "#g.ax_joint.set_ylim([0.0, 2.25])\n",
    "g.fig.set_figwidth(15)\n",
    "g.ax_joint.tick_params(labelsize=15)\n",
    "plt.savefig(f'{reports_dir}for_print/HB61-64sc_print.png', bbox_inches='tight')"
   ]
  },
  {
   "cell_type": "code",
   "execution_count": null,
   "metadata": {},
   "outputs": [],
   "source": [
    "states = { \n",
    "    '3FB5_lb' : {'begin': 400000.,\n",
    "                      'end': 1000000.,\n",
    "                 'eq': 40,\n",
    "                'title': 'Open'},\n",
    "#           '5VK6_lb': {'begin': 0.,\n",
    "#                       'end': 350000.,\n",
    "#                       'eq': 40,\n",
    "#                 'title': 'Fully Open'},\n",
    "#           '5VKH_lb': {'begin': 0,\n",
    "#                       'end': 1.e+20,\n",
    "#                       'eq': 100.,\n",
    "#                 'title': 'Closed'}\n",
    "         }"
   ]
  },
  {
   "cell_type": "code",
   "execution_count": null,
   "metadata": {},
   "outputs": [],
   "source": [
    "eq_time = { \n",
    "                 'Open': 40,\n",
    "                      'Fully Open': 40,\n",
    "                      'Closed': 100.,\n",
    "         }"
   ]
  },
  {
   "cell_type": "code",
   "execution_count": null,
   "metadata": {},
   "outputs": [],
   "source": [
    "eq_time = { \n",
    "                 'Open': 40,\n",
    "                      'Fully Open': 40,\n",
    "                      'Closed': 100.,\n",
    "         }"
   ]
  },
  {
   "cell_type": "code",
   "execution_count": null,
   "metadata": {},
   "outputs": [],
   "source": [
    "df = pd.DataFrame()\n",
    "n_roll = 100\n",
    "\n",
    "for state in states.keys():\n",
    "    print(state)\n",
    "    u = mda.Universe(f'{raw_data_dir}{state}/charmm_final.pdb',[f'{interim_data_dir}{state}/eq0_all_sk1_pbc.xtc',\n",
    "                                                                   f'{interim_data_dir}{state}/eq_all_sk1_pbc.xtc',\n",
    "                                                                f'{interim_data_dir}{state}/all_sk1_pbc.xtc',\n",
    "                                                                ])\n",
    "    sel1 = u.select_atoms('resid 61 and segid PROA and name O')\n",
    "    sel2 = u.select_atoms('resid 65 and segid PROA and name HN')\n",
    "    d = spc_analysis.distance_atoms(u, sel1, sel2)\n",
    "    sel1 = u.select_atoms('resid 61 and segid PROB and name O')\n",
    "    sel2 = u.select_atoms('resid 65 and segid PROB and name HN')\n",
    "    r = spc_analysis.distance_atoms(u, sel1, sel2)\n",
    "    d = np.vstack([d,r])\n",
    "    sel1 = u.select_atoms('resid 61 and segid PROC and name O')\n",
    "    sel2 = u.select_atoms('resid 65 and segid PROC and name HN')\n",
    "    r = spc_analysis.distance_atoms(u, sel1, sel2)\n",
    "    d = np.vstack([d,r])\n",
    "    sel1 = u.select_atoms('resid 61 and segid PROD and name O')\n",
    "    sel2 = u.select_atoms('resid 65 and segid PROD and name HN')\n",
    "    r = spc_analysis.distance_atoms(u, sel1, sel2)\n",
    "    d = np.vstack([d,r])\n",
    "    n = d.shape[0]\n",
    "    df0 =  pd.DataFrame(d, columns=['t (ns)', r'r$_{61-65}$ ($\\AA$)'])\n",
    "    df0['State'] = states[state]['title']\n",
    "    df0['SU'] = pd.Series([ 'A' for i in range(n//4)] + [ 'B' for i in range(n//4)] + [ 'C' for i in range(n//4)] + [ 'D' for i in range(n//4)])\n",
    "    for u in ['A', 'B', 'C', 'D']:\n",
    "        df0[r'r$_{61-64}$ ($\\AA$)'][df0['SU'] == u] = df0[r'r$_{61-64}$ ($\\AA$)'][df0['SU'] == u].rolling(n_roll).mean()[n_roll:]\n",
    "    df = pd.concat([df, df0]) "
   ]
  },
  {
   "cell_type": "code",
   "execution_count": null,
   "metadata": {},
   "outputs": [],
   "source": [
    "df.to_csv(processed_data_dir+'HB61-65.csv')"
   ]
  },
  {
   "cell_type": "code",
   "execution_count": null,
   "metadata": {},
   "outputs": [],
   "source": [
    "df = pd.read_csv(processed_data_dir+'HB61-65.csv')"
   ]
  },
  {
   "cell_type": "code",
   "execution_count": null,
   "metadata": {},
   "outputs": [],
   "source": [
    "df['t (ns)'] = df['t (ns)'] / 1000"
   ]
  },
  {
   "cell_type": "code",
   "execution_count": null,
   "metadata": {},
   "outputs": [],
   "source": [
    "g = sns.jointplot(\"t (ns)\", r'r$_{61-65}$ ($\\AA$)', df.loc[::1,:], kind='scatter', hue='SU', markers='.',linewidth=0, s=6, height=10, ratio=10)\n",
    "g.ax_marg_x.remove()\n",
    "g.ax_joint.set_xlabel(\"t (ns)\", size=30)\n",
    "g.ax_joint.set_ylabel(r'r$_{61-65}$ ($\\AA$)', size=25)\n",
    "g.ax_joint.legend(fontsize=20, loc='lower right')\n",
    "g.ax_joint.set_xlim([0.0, 1.5E3])\n",
    "#g.ax_joint.set_ylim([0.0, 2.25])\n",
    "g.fig.set_figwidth(15)\n",
    "g.ax_joint.tick_params(labelsize=15)\n",
    "plt.savefig(f'{reports_dir}for_print/HB61-64_print.png', bbox_inches='tight')"
   ]
  },
  {
   "cell_type": "markdown",
   "metadata": {},
   "source": [
    "## Calculate RMSD"
   ]
  },
  {
   "cell_type": "code",
   "execution_count": null,
   "metadata": {},
   "outputs": [],
   "source": [
    "states = { \n",
    "    '3FB5_lb' : {'begin': 400000.,\n",
    "                      'end': 1000000.,\n",
    "                 'eq': 40,\n",
    "                'title': 'Partially Open'},\n",
    "          '5VK6_lb': {'begin': 0.,\n",
    "                      'end': 350000.,\n",
    "                      'eq': 40,\n",
    "                'title': 'Fully Open'},\n",
    "          '5VKH_lb': {'begin': 0,\n",
    "                      'end': 1.e+20,\n",
    "                      'eq': 100.,\n",
    "                'title': 'Closed'}\n",
    "         }"
   ]
  },
  {
   "cell_type": "code",
   "execution_count": null,
   "metadata": {},
   "outputs": [],
   "source": [
    "eq_time = { \n",
    "                 'Partially Open': 40,\n",
    "                      'Fully Open': 40,\n",
    "                      'Closed': 100.,\n",
    "         }"
   ]
  },
  {
   "cell_type": "code",
   "execution_count": null,
   "metadata": {},
   "outputs": [],
   "source": [
    "df = pd.DataFrame()\n",
    "n_roll = 50\n",
    "for state in states.keys():\n",
    "    print(state)\n",
    "    u = mda.Universe(f'{raw_data_dir}{state}/charmm_final.pdb',[f'{interim_data_dir}{state}/eq0_all_sk1_pbc.xtc',\n",
    "                                                               f'{interim_data_dir}{state}/eq_all_sk1_pbc.xtc',\n",
    "                                                              f'{interim_data_dir}{state}/all_sk1_pbc.xtc',\n",
    "                                                                ])\n",
    "    r = spc_analysis.get_rmsd(u)\n",
    "    df0 =  pd.DataFrame(r, columns=['t (ns)', r'RMSD ($\\AA$)'])\n",
    "    df0[r'RMSD ($\\AA$)'] = df0[r'RMSD ($\\AA$)'].rolling(n_roll).median()[n_roll:]\n",
    "    df0['t (ns)'] = df0['t (ns)'][n_roll:] - states[state]['eq'] * 1000\n",
    "    df0['State'] = states[state]['title']\n",
    "    df0.iloc[0,1] = 0\n",
    "    df0.iloc[0,0] = 0\n",
    "    df = pd.concat([df, df0]) "
   ]
  },
  {
   "cell_type": "code",
   "execution_count": null,
   "metadata": {},
   "outputs": [],
   "source": [
    "df.to_csv(processed_data_dir+'RMSD.csv')"
   ]
  },
  {
   "cell_type": "code",
   "execution_count": null,
   "metadata": {},
   "outputs": [],
   "source": [
    "df = pd.read_csv(processed_data_dir+'RMSD.csv')"
   ]
  },
  {
   "cell_type": "code",
   "execution_count": null,
   "metadata": {},
   "outputs": [],
   "source": [
    "df['t (ns)'] = df['t (ns)'] / 1000 "
   ]
  },
  {
   "cell_type": "code",
   "execution_count": null,
   "metadata": {},
   "outputs": [],
   "source": [
    "g = sns.jointplot(\"t (ns)\", r'RMSD ($\\AA$)', df.loc[::1,:], kind='scatter', hue='State', markers='.',linewidth=0, s=6, height=10, ratio=10)\n",
    "g.ax_marg_x.remove()\n",
    "g.ax_joint.set_xlabel(\"t (ns)\", size=30)\n",
    "g.ax_joint.set_ylabel(r'RMSD ($\\AA$)', size=25)\n",
    "g.ax_joint.legend(fontsize=20, loc='lower right')\n",
    "g.ax_joint.set_xlim([0.0, 1.5E3])\n",
    "g.ax_joint.set_ylim([0.0, 2.25])\n",
    "g.fig.set_figwidth(15)\n",
    "g.ax_joint.tick_params(labelsize=15)\n",
    "plt.savefig(f'{reports_dir}for_print/RMSD_print.png', bbox_inches='tight')"
   ]
  },
  {
   "cell_type": "code",
   "execution_count": null,
   "metadata": {},
   "outputs": [],
   "source": []
  }
 ],
 "metadata": {
  "kernelspec": {
   "display_name": "Python [conda env:nmr_assign_state]",
   "language": "python",
   "name": "conda-env-nmr_assign_state-py"
  },
  "language_info": {
   "codemirror_mode": {
    "name": "ipython",
    "version": 3
   },
   "file_extension": ".py",
   "mimetype": "text/x-python",
   "name": "python",
   "nbconvert_exporter": "python",
   "pygments_lexer": "ipython3",
   "version": "3.8.5"
  },
  "toc-autonumbering": true
 },
 "nbformat": 4,
 "nbformat_minor": 4
}
