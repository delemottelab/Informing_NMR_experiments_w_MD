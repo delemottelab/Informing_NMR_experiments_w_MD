{
 "cells": [
  {
   "cell_type": "markdown",
   "metadata": {},
   "source": [
    "# Calculate CS"
   ]
  },
  {
   "cell_type": "code",
   "execution_count": 1,
   "metadata": {},
   "outputs": [
    {
     "name": "stderr",
     "output_type": "stream",
     "text": [
      "/home/sperez/bin/PYTHON_SCRIPTS/spc_imports.py:21: MatplotlibDeprecationWarning: Support for setting the 'text.latex.preamble' or 'pgf.preamble' rcParam to a list of strings is deprecated since 3.3 and will be removed two minor releases later; set it to a single string instead.\n",
      "  plt.rcParams[\"text.latex.preamble\"] = [\n"
     ]
    }
   ],
   "source": [
    "import MDAnalysis as mda\n",
    "import sys\n",
    "import shutil\n",
    "sys.path.append(\"..\")\n",
    "import data_process\n",
    "from fetch_data import gsheet_to_csv\n",
    "from src.features.build_features import get_chemical_shifts\n",
    "from spc_imports import *\n",
    "set_up_plt()"
   ]
  },
  {
   "cell_type": "code",
   "execution_count": 2,
   "metadata": {},
   "outputs": [],
   "source": [
    "raw_data_dir = '../data/raw/'\n",
    "interim_data_dir = '../data/interim/'\n",
    "processed_data_dir = '../data/processed/'\n",
    "external_data_dir = '../data/external/'"
   ]
  },
  {
   "cell_type": "code",
   "execution_count": 3,
   "metadata": {},
   "outputs": [],
   "source": [
    "process_trajectories = True"
   ]
  },
  {
   "cell_type": "markdown",
   "metadata": {},
   "source": [
    "## Get the Data"
   ]
  },
  {
   "cell_type": "markdown",
   "metadata": {},
   "source": [
    "### Get experimental data from GSheets."
   ]
  },
  {
   "cell_type": "code",
   "execution_count": 4,
   "metadata": {},
   "outputs": [],
   "source": [
    "gsheet_to_csv('KcsA_assignments', 'open_clean', external_data_dir + 'open_CS.csv')"
   ]
  },
  {
   "cell_type": "code",
   "execution_count": 5,
   "metadata": {},
   "outputs": [],
   "source": [
    "gsheet_to_csv('KcsA_assignments', 'closed clean',\n",
    "              external_data_dir+'closed_CS.csv')"
   ]
  },
  {
   "cell_type": "markdown",
   "metadata": {},
   "source": [
    "### Reshape data "
   ]
  },
  {
   "cell_type": "code",
   "execution_count": 6,
   "metadata": {},
   "outputs": [],
   "source": [
    "closed_data = pd.read_csv(external_data_dir+'closed_CS.csv')"
   ]
  },
  {
   "cell_type": "code",
   "execution_count": 7,
   "metadata": {},
   "outputs": [],
   "source": [
    "open_data = pd.read_csv(external_data_dir+'open_CS.csv')"
   ]
  },
  {
   "cell_type": "code",
   "execution_count": 8,
   "metadata": {},
   "outputs": [],
   "source": [
    "for name in ['open_CS', 'closed_CS']:\n",
    "    data = pd.read_csv(external_data_dir+name+'.csv')\n",
    "    data['Residue'] = [ int(resid[1:]) for resid in data['Residue']]\n",
    "    iterables = [data['Residue'], ['N', 'C', 'CA', 'CB']]\n",
    "    index = pd.MultiIndex.from_product(iterables, names=['resid', 'nuclei'])\n",
    "    data = pd.DataFrame(data[['N', 'C', 'CA', 'CB']].to_numpy().reshape(1,data.shape[0]*4),columns=index)\n",
    "    iterables = [list(range(26, 121)), ['N', 'C', 'CA', 'CB']]\n",
    "    index = pd.MultiIndex.from_product(iterables, names=['resid', 'nuclei'])\n",
    "    data = data.reindex(index, axis=1)\n",
    "    data.to_pickle(processed_data_dir + name + '.pkl')"
   ]
  },
  {
   "cell_type": "markdown",
   "metadata": {},
   "source": [
    "## Make diff data"
   ]
  },
  {
   "cell_type": "code",
   "execution_count": 9,
   "metadata": {},
   "outputs": [],
   "source": [
    "closed_data = pd.read_pickle(processed_data_dir+'closed_CS.pkl')"
   ]
  },
  {
   "cell_type": "code",
   "execution_count": 10,
   "metadata": {},
   "outputs": [],
   "source": [
    "open_data = pd.read_pickle(processed_data_dir+'open_CS.pkl')"
   ]
  },
  {
   "cell_type": "code",
   "execution_count": 11,
   "metadata": {},
   "outputs": [],
   "source": [
    "diff_data = (open_data - closed_data)"
   ]
  },
  {
   "cell_type": "code",
   "execution_count": 12,
   "metadata": {},
   "outputs": [],
   "source": [
    "diff_data.to_pickle(processed_data_dir + 'diff_CS' + '.pkl')"
   ]
  },
  {
   "cell_type": "markdown",
   "metadata": {},
   "source": [
    "Trick to multiindex data"
   ]
  },
  {
   "cell_type": "code",
   "execution_count": 13,
   "metadata": {},
   "outputs": [
    {
     "data": {
      "text/html": [
       "<div>\n",
       "<style scoped>\n",
       "    .dataframe tbody tr th:only-of-type {\n",
       "        vertical-align: middle;\n",
       "    }\n",
       "\n",
       "    .dataframe tbody tr th {\n",
       "        vertical-align: top;\n",
       "    }\n",
       "\n",
       "    .dataframe thead tr th {\n",
       "        text-align: left;\n",
       "    }\n",
       "</style>\n",
       "<table border=\"1\" class=\"dataframe\">\n",
       "  <thead>\n",
       "    <tr>\n",
       "      <th>resid</th>\n",
       "      <th colspan=\"4\" halign=\"left\">33</th>\n",
       "      <th colspan=\"4\" halign=\"left\">34</th>\n",
       "      <th colspan=\"2\" halign=\"left\">38</th>\n",
       "      <th>...</th>\n",
       "      <th colspan=\"2\" halign=\"left\">109</th>\n",
       "      <th colspan=\"4\" halign=\"left\">111</th>\n",
       "      <th colspan=\"4\" halign=\"left\">112</th>\n",
       "    </tr>\n",
       "    <tr>\n",
       "      <th>nuclei</th>\n",
       "      <th>N</th>\n",
       "      <th>C</th>\n",
       "      <th>CA</th>\n",
       "      <th>CB</th>\n",
       "      <th>N</th>\n",
       "      <th>C</th>\n",
       "      <th>CA</th>\n",
       "      <th>CB</th>\n",
       "      <th>N</th>\n",
       "      <th>C</th>\n",
       "      <th>...</th>\n",
       "      <th>CA</th>\n",
       "      <th>CB</th>\n",
       "      <th>N</th>\n",
       "      <th>C</th>\n",
       "      <th>CA</th>\n",
       "      <th>CB</th>\n",
       "      <th>N</th>\n",
       "      <th>C</th>\n",
       "      <th>CA</th>\n",
       "      <th>CB</th>\n",
       "    </tr>\n",
       "  </thead>\n",
       "  <tbody>\n",
       "    <tr>\n",
       "      <th>0</th>\n",
       "      <td>119.827</td>\n",
       "      <td>175.293</td>\n",
       "      <td>67.129</td>\n",
       "      <td>67.896</td>\n",
       "      <td>125.861</td>\n",
       "      <td>177.421</td>\n",
       "      <td>67.131</td>\n",
       "      <td>31.11</td>\n",
       "      <td>122.486</td>\n",
       "      <td>177.369</td>\n",
       "      <td>...</td>\n",
       "      <td>55.1039</td>\n",
       "      <td>17.2193</td>\n",
       "      <td>122.616</td>\n",
       "      <td>177.46</td>\n",
       "      <td>55.19</td>\n",
       "      <td>16.3</td>\n",
       "      <td>118.2</td>\n",
       "      <td>176.572</td>\n",
       "      <td>67.274</td>\n",
       "      <td>68.108</td>\n",
       "    </tr>\n",
       "  </tbody>\n",
       "</table>\n",
       "<p>1 rows × 212 columns</p>\n",
       "</div>"
      ],
      "text/plain": [
       "resid       33                                34                           \\\n",
       "nuclei        N        C      CA      CB        N        C      CA     CB   \n",
       "0       119.827  175.293  67.129  67.896  125.861  177.421  67.131  31.11   \n",
       "\n",
       "resid       38            ...      109               111                       \\\n",
       "nuclei        N        C  ...       CA       CB        N       C     CA    CB   \n",
       "0       122.486  177.369  ...  55.1039  17.2193  122.616  177.46  55.19  16.3   \n",
       "\n",
       "resid     112                           \n",
       "nuclei      N        C      CA      CB  \n",
       "0       118.2  176.572  67.274  68.108  \n",
       "\n",
       "[1 rows x 212 columns]"
      ]
     },
     "execution_count": 13,
     "metadata": {},
     "output_type": "execute_result"
    }
   ],
   "source": [
    "open_data.loc[:,diff_data.dropna(axis=1).columns]"
   ]
  },
  {
   "cell_type": "markdown",
   "metadata": {},
   "source": [
    "### Process trajectories"
   ]
  },
  {
   "cell_type": "code",
   "execution_count": 16,
   "metadata": {},
   "outputs": [],
   "source": [
    "states = { \n",
    "    '3FB5_lb' : {'begin': 400000.,\n",
    "                      'end': 1000000.},\n",
    "          '5VK6_lb': {'begin': 0.,\n",
    "                      'end': 350000.},\n",
    "          '5VKH_lb': {'begin': 0,\n",
    "                      'end': 1.e+20},\n",
    "          '5VKE_lb': {'begin': 0,\n",
    "                      'end': 1000000.}\n",
    "         }"
   ]
  },
  {
   "cell_type": "code",
   "execution_count": 17,
   "metadata": {},
   "outputs": [
    {
     "name": "stdout",
     "output_type": "stream",
     "text": [
      "5VKE_lb\n"
     ]
    }
   ],
   "source": [
    "if process_trajectories:\n",
    "    for key in states.keys():\n",
    "        print(key)\n",
    "        move_xtc_to = f'../data/interim/{key}'\n",
    "        os.makedirs(move_xtc_to, exist_ok=True)\n",
    "        \n",
    "        data_process.process_trajectory('traj_comp.xtc', f'../data/raw/{key}',\n",
    "                                        begin=states[key]['begin'],\n",
    "                                        end=states[key]['end'],\n",
    "                                        output_group='protein')\n",
    "        if os.path.isfile(f'{move_xtc_to}/protein_sk1_pbc.xtc'):\n",
    "            os.remove(f'{move_xtc_to}/protein_sk1_pbc.xtc')\n",
    "        shutil.move(f'../data/raw/{key}/protein_sk1_pbc.xtc', move_xtc_to)\n",
    "            \n",
    "        data_process.process_trajectory('traj_comp.xtc', f'../data/raw/{key}',\n",
    "                                output_group='all')\n",
    "        if os.path.isfile(f'{move_xtc_to}/all_sk1_pbc.xtc'):\n",
    "            os.remove(f'{move_xtc_to}/all_sk1_pbc.xtc')\n",
    "        shutil.move(f'../data/raw/{key}/all_sk1_pbc.xtc', move_xtc_to)\n",
    "        \n",
    "        data_process.process_trajectory('charmm_final.pdb', f'../data/raw/{key}',\n",
    "                                        output_group='all',name='all_pbc.gro')\n",
    "        if os.path.isfile(f'{move_xtc_to}/all_pbc.gro'):\n",
    "            os.remove(f'{move_xtc_to}/all_pbc.gro')\n",
    "        shutil.move(f'../data/raw/{key}/all_pbc.gro', move_xtc_to)\n",
    "        \n",
    "        data_process.process_trajectory('charmm_final.pdb', f'../data/raw/{key}',\n",
    "                                        output_group='protein')\n",
    "        if os.path.isfile(f'{move_xtc_to}/protein_pbc.pdb'):\n",
    "            os.remove(f'{move_xtc_to}/protein_pbc.pdb')\n",
    "        shutil.move(f'../data/raw/{key}/protein_pbc.pdb', move_xtc_to)"
   ]
  },
  {
   "cell_type": "markdown",
   "metadata": {},
   "source": [
    "### Get Chemical Shifts"
   ]
  },
  {
   "cell_type": "code",
   "execution_count": 16,
   "metadata": {},
   "outputs": [
    {
     "name": "stderr",
     "output_type": "stream",
     "text": [
      "t(A):   0%|          | 0/176 [00:00<?, ?it/s]\n"
     ]
    },
    {
     "ename": "CalledProcessError",
     "evalue": "Command '['/home/sperez/data_partition/bin2/shiftx2/shiftx2.py', '-b', './trj0.pdb', '-p', '5.0', '-t', '298.00']' returned non-zero exit status 1.",
     "output_type": "error",
     "traceback": [
      "\u001b[0;31m---------------------------------------------------------------------------\u001b[0m",
      "\u001b[0;31mCalledProcessError\u001b[0m                        Traceback (most recent call last)",
      "\u001b[0;32m<ipython-input-16-cfde93816a92>\u001b[0m in \u001b[0;36m<module>\u001b[0;34m\u001b[0m\n\u001b[1;32m      3\u001b[0m         univ = mda.Universe(interim_data_dir + f'{state}/protein_sk1_pbc.pdb',\n\u001b[1;32m      4\u001b[0m                             interim_data_dir + f'{state}/protein_sk1_pbc.xtc')\n\u001b[0;32m----> 5\u001b[0;31m         \u001b[0mdf\u001b[0m \u001b[0;34m=\u001b[0m \u001b[0mget_chemical_shifts\u001b[0m\u001b[0;34m(\u001b[0m\u001b[0muniv\u001b[0m\u001b[0;34m,\u001b[0m \u001b[0;34m'../data/interim/'\u001b[0m\u001b[0;34m,\u001b[0m\u001b[0mmethod\u001b[0m\u001b[0;34m=\u001b[0m\u001b[0mmethod\u001b[0m\u001b[0;34m)\u001b[0m\u001b[0;34m\u001b[0m\u001b[0;34m\u001b[0m\u001b[0m\n\u001b[0m\u001b[1;32m      6\u001b[0m         \u001b[0mdf\u001b[0m\u001b[0;34m.\u001b[0m\u001b[0mto_pickle\u001b[0m\u001b[0;34m(\u001b[0m\u001b[0;34mf'{interim_data_dir}{state}/CS_{method}_{state}.pkl'\u001b[0m\u001b[0;34m)\u001b[0m\u001b[0;34m\u001b[0m\u001b[0;34m\u001b[0m\u001b[0m\n",
      "\u001b[0;32m/data/sperez/Projects/nmr_assign_state/src/features/build_features.py\u001b[0m in \u001b[0;36mget_chemical_shifts\u001b[0;34m(univ, temp_dir, split_size, skip, method)\u001b[0m\n\u001b[1;32m     58\u001b[0m                       leave=True,smoothing=1):\n\u001b[1;32m     59\u001b[0m             list_of_splits.append(\n\u001b[0;32m---> 60\u001b[0;31m            \u001b[0mmethod_function\u001b[0m\u001b[0;34m(\u001b[0m\u001b[0mtrj\u001b[0m\u001b[0;34m[\u001b[0m\u001b[0mj\u001b[0m\u001b[0;34m:\u001b[0m\u001b[0mj\u001b[0m\u001b[0;34m+\u001b[0m\u001b[0msplit_size\u001b[0m\u001b[0;34m]\u001b[0m\u001b[0;34m)\u001b[0m\u001b[0;34m\u001b[0m\u001b[0;34m\u001b[0m\u001b[0m\n\u001b[0m\u001b[1;32m     61\u001b[0m             )\n\u001b[1;32m     62\u001b[0m         \u001b[0mdf\u001b[0m \u001b[0;34m=\u001b[0m \u001b[0mpd\u001b[0m\u001b[0;34m.\u001b[0m\u001b[0mconcat\u001b[0m\u001b[0;34m(\u001b[0m\u001b[0mlist_of_splits\u001b[0m\u001b[0;34m,\u001b[0m\u001b[0maxis\u001b[0m\u001b[0;34m=\u001b[0m\u001b[0;36m1\u001b[0m\u001b[0;34m)\u001b[0m\u001b[0;34m\u001b[0m\u001b[0;34m\u001b[0m\u001b[0m\n",
      "\u001b[0;32m~/data_partition/bin2/anaconda3/envs/nmr_assign_state/lib/python3.8/site-packages/mdtraj/nmr/shift_wrappers.py\u001b[0m in \u001b[0;36mchemical_shifts_shiftx2\u001b[0;34m(trj, pH, temperature)\u001b[0m\n\u001b[1;32m    142\u001b[0m             \u001b[0mfn\u001b[0m \u001b[0;34m=\u001b[0m \u001b[0;34m'./trj%d.pdb'\u001b[0m \u001b[0;34m%\u001b[0m \u001b[0mi\u001b[0m\u001b[0;34m\u001b[0m\u001b[0;34m\u001b[0m\u001b[0m\n\u001b[1;32m    143\u001b[0m             \u001b[0mtrj\u001b[0m\u001b[0;34m[\u001b[0m\u001b[0mi\u001b[0m\u001b[0;34m]\u001b[0m\u001b[0;34m.\u001b[0m\u001b[0msave\u001b[0m\u001b[0;34m(\u001b[0m\u001b[0mfn\u001b[0m\u001b[0;34m)\u001b[0m\u001b[0;34m\u001b[0m\u001b[0;34m\u001b[0m\u001b[0m\n\u001b[0;32m--> 144\u001b[0;31m             subprocess.check_call([binary,\n\u001b[0m\u001b[1;32m    145\u001b[0m                                    \u001b[0;34m'-b'\u001b[0m\u001b[0;34m,\u001b[0m \u001b[0mfn\u001b[0m\u001b[0;34m,\u001b[0m\u001b[0;34m\u001b[0m\u001b[0;34m\u001b[0m\u001b[0m\n\u001b[1;32m    146\u001b[0m                                    \u001b[0;34m'-p'\u001b[0m\u001b[0;34m,\u001b[0m \u001b[0;34m\"{:.1f}\"\u001b[0m\u001b[0;34m.\u001b[0m\u001b[0mformat\u001b[0m\u001b[0;34m(\u001b[0m\u001b[0mpH\u001b[0m\u001b[0;34m)\u001b[0m\u001b[0;34m,\u001b[0m\u001b[0;34m\u001b[0m\u001b[0;34m\u001b[0m\u001b[0m\n",
      "\u001b[0;32m~/data_partition/bin2/anaconda3/envs/nmr_assign_state/lib/python3.8/subprocess.py\u001b[0m in \u001b[0;36mcheck_call\u001b[0;34m(*popenargs, **kwargs)\u001b[0m\n\u001b[1;32m    362\u001b[0m         \u001b[0;32mif\u001b[0m \u001b[0mcmd\u001b[0m \u001b[0;32mis\u001b[0m \u001b[0;32mNone\u001b[0m\u001b[0;34m:\u001b[0m\u001b[0;34m\u001b[0m\u001b[0;34m\u001b[0m\u001b[0m\n\u001b[1;32m    363\u001b[0m             \u001b[0mcmd\u001b[0m \u001b[0;34m=\u001b[0m \u001b[0mpopenargs\u001b[0m\u001b[0;34m[\u001b[0m\u001b[0;36m0\u001b[0m\u001b[0;34m]\u001b[0m\u001b[0;34m\u001b[0m\u001b[0;34m\u001b[0m\u001b[0m\n\u001b[0;32m--> 364\u001b[0;31m         \u001b[0;32mraise\u001b[0m \u001b[0mCalledProcessError\u001b[0m\u001b[0;34m(\u001b[0m\u001b[0mretcode\u001b[0m\u001b[0;34m,\u001b[0m \u001b[0mcmd\u001b[0m\u001b[0;34m)\u001b[0m\u001b[0;34m\u001b[0m\u001b[0;34m\u001b[0m\u001b[0m\n\u001b[0m\u001b[1;32m    365\u001b[0m     \u001b[0;32mreturn\u001b[0m \u001b[0;36m0\u001b[0m\u001b[0;34m\u001b[0m\u001b[0;34m\u001b[0m\u001b[0m\n\u001b[1;32m    366\u001b[0m \u001b[0;34m\u001b[0m\u001b[0m\n",
      "\u001b[0;31mCalledProcessError\u001b[0m: Command '['/home/sperez/data_partition/bin2/shiftx2/shiftx2.py', '-b', './trj0.pdb', '-p', '5.0', '-t', '298.00']' returned non-zero exit status 1."
     ]
    }
   ],
   "source": [
    "for method in ['ppm','sparta_plus']:\n",
    "    for state in states.keys():\n",
    "        univ = mda.Universe(interim_data_dir + f'{state}/protein_pbc.pdb',\n",
    "                            interim_data_dir + f'{state}/protein_pbc.xtc')\n",
    "        df = get_chemical_shifts(univ, '../data/interim/',method=method)\n",
    "        df.to_pickle(f'{interim_data_dir}{state}/CS_{method}_{state}.pkl')"
   ]
  },
  {
   "cell_type": "markdown",
   "metadata": {},
   "source": [
    "### Reformat interim data"
   ]
  },
  {
   "cell_type": "code",
   "execution_count": null,
   "metadata": {},
   "outputs": [],
   "source": [
    "for method in ['ppm','sparta_plus']:\n",
    "    for key in states.keys():\n",
    "        df = pd.read_pickle(f'{interim_data_dir}{key}/CS_{method}_{key}.pkl')\n",
    "        iterables = [df.index.levels[0], df.index.levels[1]]\n",
    "        index = pd.MultiIndex.from_product(iterables, names=['resid', 'nuclei'])\n",
    "        data=pd.DataFrame(df.to_numpy().T)\n",
    "        data.columns = df.index\n",
    "        data=data.reindex(index,axis=1)\n",
    "        data=data.filter(regex=\"(C|N)\")\n",
    "        os.makedirs(f'{processed_data_dir}{key}', exist_ok=True)\n",
    "        data.to_pickle(f'{processed_data_dir}{key}/CS_{method}_{key}.pkl')"
   ]
  },
  {
   "cell_type": "code",
   "execution_count": null,
   "metadata": {},
   "outputs": [],
   "source": []
  },
  {
   "cell_type": "code",
   "execution_count": null,
   "metadata": {},
   "outputs": [],
   "source": []
  },
  {
   "cell_type": "code",
   "execution_count": null,
   "metadata": {},
   "outputs": [],
   "source": []
  },
  {
   "cell_type": "code",
   "execution_count": null,
   "metadata": {},
   "outputs": [],
   "source": []
  },
  {
   "cell_type": "code",
   "execution_count": null,
   "metadata": {},
   "outputs": [],
   "source": []
  }
 ],
 "metadata": {
  "kernelspec": {
   "display_name": "Python [conda env:nmr_assign_state]",
   "language": "python",
   "name": "conda-env-nmr_assign_state-py"
  },
  "language_info": {
   "codemirror_mode": {
    "name": "ipython",
    "version": 3
   },
   "file_extension": ".py",
   "mimetype": "text/x-python",
   "name": "python",
   "nbconvert_exporter": "python",
   "pygments_lexer": "ipython3",
   "version": "3.8.5"
  },
  "widgets": {
   "application/vnd.jupyter.widget-state+json": {
    "state": {},
    "version_major": 2,
    "version_minor": 0
   }
  }
 },
 "nbformat": 4,
 "nbformat_minor": 4
}
