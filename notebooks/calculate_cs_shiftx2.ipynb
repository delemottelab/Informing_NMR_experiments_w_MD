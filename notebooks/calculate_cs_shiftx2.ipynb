{
 "cells": [
  {
   "cell_type": "markdown",
   "metadata": {},
   "source": [
    "# Calculate CS shiftx2"
   ]
  },
  {
   "cell_type": "code",
   "execution_count": 2,
   "metadata": {},
   "outputs": [],
   "source": [
    "import MDAnalysis as mda\n",
    "import sys\n",
    "import shutil\n",
    "import pandas as pd\n",
    "sys.path.append(\"..\")\n",
    "from src.features.build_features import get_chemical_shifts\n",
    "import os\n",
    "import numpy as np\n",
    "# from spc_imports import *\n",
    "# set_up_plt()"
   ]
  },
  {
   "cell_type": "code",
   "execution_count": 3,
   "metadata": {},
   "outputs": [],
   "source": [
    "raw_data_dir = '../data/raw/'\n",
    "interim_data_dir = '../data/interim/'\n",
    "processed_data_dir = '../data/processed/'\n",
    "external_data_dir = '../data/external/'"
   ]
  },
  {
   "cell_type": "code",
   "execution_count": 9,
   "metadata": {},
   "outputs": [],
   "source": [
    "states = { \n",
    "              '5VKH_lb': {'begin': 0,\n",
    "                      'end': 1.e+20},\n",
    "    '3FB5_lb' : {'begin': 400000.,\n",
    "                      'end': 1000000.},\n",
    "          '5VK6_lb': {'begin': 0.,\n",
    "                      'end': 350000.},\n",
    "          '5VKE_lb': {'begin': 0,\n",
    "                      'end': 1000000.}\n",
    "         }"
   ]
  },
  {
   "cell_type": "markdown",
   "metadata": {},
   "source": [
    "## How to run this Notebook\n",
    "\n",
    "This notebook must be used after processing the trajectories with `calculate_cs.ipynb`\n",
    "\n",
    "This notebook must be run with the environment created with: `environment_for_shiftx2.yml`. This is because shiftx2 is hard to install and use otherwise.\n",
    "\n",
    "Shiftx2 was written in python2. The ominia channel version of shiftx2 for python3.5 is essentially only a wrapper calling shiftx2 with python2 from python3.5.\n",
    "In order to not have any problem of python3 being picked up instead of python2, it is best to:\n",
    "```bash\n",
    "cd /path/to/anaconda3/envs/nmr_assign_state_for_shiftx2/share/shiftx2\n",
    "find . -iname \"[a-zA-Z]*.py\" -exec sed -i '1s/python/python2/' {} \\;\n",
    "find . -iname \"[a-zA-Z]*.py\" -exec sed -i 's/\"python/\"python2/' {} \\;\n",
    "```\n",
    "\n",
    "\n",
    "\n"
   ]
  },
  {
   "cell_type": "markdown",
   "metadata": {},
   "source": [
    "### Get Chemical Shifts"
   ]
  },
  {
   "cell_type": "code",
   "execution_count": 3,
   "metadata": {},
   "outputs": [
    {
     "ename": "NameError",
     "evalue": "name 'mda' is not defined",
     "output_type": "error",
     "traceback": [
      "\u001b[0;31m---------------------------------------------------------------------------\u001b[0m",
      "\u001b[0;31mNameError\u001b[0m                                 Traceback (most recent call last)",
      "\u001b[0;32m<ipython-input-3-633d8c67a1a0>\u001b[0m in \u001b[0;36m<module>\u001b[0;34m()\u001b[0m\n\u001b[1;32m      1\u001b[0m \u001b[0;32mfor\u001b[0m \u001b[0mmethod\u001b[0m \u001b[0;32min\u001b[0m \u001b[0;34m[\u001b[0m\u001b[0;34m'shiftx2'\u001b[0m\u001b[0;34m]\u001b[0m\u001b[0;34m:\u001b[0m\u001b[0;34m\u001b[0m\u001b[0m\n\u001b[1;32m      2\u001b[0m     \u001b[0;32mfor\u001b[0m \u001b[0mstate\u001b[0m \u001b[0;32min\u001b[0m \u001b[0mstates\u001b[0m\u001b[0;34m.\u001b[0m\u001b[0mkeys\u001b[0m\u001b[0;34m(\u001b[0m\u001b[0;34m)\u001b[0m\u001b[0;34m:\u001b[0m\u001b[0;34m\u001b[0m\u001b[0m\n\u001b[0;32m----> 3\u001b[0;31m         univ = mda.Universe(interim_data_dir + state+ '/protein_sk1_pbc.pdb',\n\u001b[0m\u001b[1;32m      4\u001b[0m                             interim_data_dir + state+'/protein_sk1_pbc.xtc')\n\u001b[1;32m      5\u001b[0m         \u001b[0mdf\u001b[0m \u001b[0;34m=\u001b[0m \u001b[0mget_chemical_shifts\u001b[0m\u001b[0;34m(\u001b[0m\u001b[0muniv\u001b[0m\u001b[0;34m,\u001b[0m \u001b[0;34m'../data/processed/'\u001b[0m\u001b[0;34m,\u001b[0m\u001b[0mmethod\u001b[0m\u001b[0;34m=\u001b[0m\u001b[0mmethod\u001b[0m\u001b[0;34m,\u001b[0m\u001b[0mpH\u001b[0m\u001b[0;34m=\u001b[0m\u001b[0;36m4.\u001b[0m\u001b[0;34m,\u001b[0m\u001b[0mskip\u001b[0m\u001b[0;34m=\u001b[0m\u001b[0;36m1\u001b[0m\u001b[0;34m,\u001b[0m \u001b[0mprotein_selection\u001b[0m\u001b[0;34m=\u001b[0m\u001b[0;34m'protein and not resid 26 121'\u001b[0m\u001b[0;34m)\u001b[0m\u001b[0;34m\u001b[0m\u001b[0m\n",
      "\u001b[0;31mNameError\u001b[0m: name 'mda' is not defined"
     ]
    }
   ],
   "source": [
    "for method in ['shiftx2']:\n",
    "    for state in states.keys():\n",
    "        univ = mda.Universe(interim_data_dir + state+ '/protein_sk1_pbc.pdb',\n",
    "                            interim_data_dir + state+'/protein_sk1_pbc.xtc')\n",
    "        df = get_chemical_shifts(univ, '../data/processed/',method=method,pH=4.,skip=1, protein_selection='protein and not resid 26 121')\n",
    "        df.to_pickle(processed_data_dir+state+'/CS_'+method+'_'+state+'.pkl')"
   ]
  },
  {
   "cell_type": "markdown",
   "metadata": {},
   "source": [
    "### Analyze XRD"
   ]
  },
  {
   "cell_type": "code",
   "execution_count": 7,
   "metadata": {},
   "outputs": [
    {
     "name": "stdout",
     "output_type": "stream",
     "text": [
      "HEADER    \n",
      "TITLE     MDANALYSIS FRAME 0: Created by PDBWriter\n",
      "CRYST1  80.7913752  80.7913752  103.147627  90.0  90.0  90.0                  \n",
      "ATOM      1  CAY TRP A  26      51.903  37.428  34.488  1.00  0.00      PROA C\n",
      "ATOM      2  HY1 TRP A  26      51.730  38.382  35.035  1.00  0.00      PROA H\n",
      "ATOM      3  HY2 TRP A  26      50.940  37.093  34.050  1.00  0.00      PROA H\n",
      "ATOM      4  HY3 TRP A  26      52.642  37.604  33.677  1.00  0.00      PROA H\n",
      "ATOM      5  CY  TRP A  26      52.405  36.409  35.426  1.00  0.00      PROA C\n",
      "ATOM      6  OY  TRP A  26      52.597  36.672  36.603  1.00  0.00      PROA O\n",
      "ATOM      7  N   TRP A  26      52.671  35.194  34.936  1.00  0.00      PROA N\n"
     ]
    }
   ],
   "source": [
    "!head ../data/raw/5VKH_lb/charmm_final.pdb"
   ]
  },
  {
   "cell_type": "code",
   "execution_count": 6,
   "metadata": {},
   "outputs": [
    {
     "data": {
      "text/plain": [
       "'../data/raw/5VKH_lb/charmm_final.pdb'"
      ]
     },
     "execution_count": 6,
     "metadata": {},
     "output_type": "execute_result"
    }
   ],
   "source": [
    "raw_data_dir + state+ '/charmm_final.pdb'"
   ]
  },
  {
   "cell_type": "code",
   "execution_count": 10,
   "metadata": {},
   "outputs": [
    {
     "name": "stderr",
     "output_type": "stream",
     "text": [
      "100%|██████████| 1/1 [00:05<00:00,  5.00s/it]\n",
      "100%|██████████| 1/1 [00:05<00:00,  5.28s/it]\n",
      "100%|██████████| 1/1 [00:05<00:00,  5.97s/it]\n",
      "100%|██████████| 1/1 [00:05<00:00,  5.05s/it]\n"
     ]
    }
   ],
   "source": [
    "for method in ['shiftx2']:\n",
    "    for state in states.keys():\n",
    "        univ = mda.Universe(raw_data_dir + state+ '/charmm_final.pdb')\n",
    "        df = get_chemical_shifts(univ, '../data/processed/',method=method,pH=4.,skip=1, protein_selection='protein and not resid 26 121')\n",
    "        df.to_pickle(processed_data_dir+state+'/CS_'+method+'_'+state+'_XRD.pkl')"
   ]
  },
  {
   "cell_type": "code",
   "execution_count": null,
   "metadata": {},
   "outputs": [],
   "source": []
  }
 ],
 "metadata": {
  "kernelspec": {
   "display_name": "Python [conda env:nmr_assign_state_for_shiftx2]",
   "language": "python",
   "name": "conda-env-nmr_assign_state_for_shiftx2-py"
  },
  "language_info": {
   "codemirror_mode": {
    "name": "ipython",
    "version": 3
   },
   "file_extension": ".py",
   "mimetype": "text/x-python",
   "name": "python",
   "nbconvert_exporter": "python",
   "pygments_lexer": "ipython3",
   "version": "3.8.5"
  },
  "widgets": {
   "application/vnd.jupyter.widget-state+json": {
    "state": {},
    "version_major": 2,
    "version_minor": 0
   }
  }
 },
 "nbformat": 4,
 "nbformat_minor": 4
}
