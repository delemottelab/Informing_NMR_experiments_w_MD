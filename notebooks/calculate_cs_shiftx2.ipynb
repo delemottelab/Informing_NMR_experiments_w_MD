{
 "cells": [
  {
   "cell_type": "markdown",
   "metadata": {},
   "source": [
    "# Calculate CS shiftx2"
   ]
  },
  {
   "cell_type": "code",
   "execution_count": 1,
   "metadata": {},
   "outputs": [
    {
     "name": "stderr",
     "output_type": "stream",
     "text": [
      "/home/sperez/data_partition/bin2/anaconda3/envs/nmr_assign_state_for_shiftx2/lib/python3.5/site-packages/MDAnalysis/due.py:88: UserWarning: No module named 'mock'\n",
      "  warnings.warn(str(err))\n"
     ]
    }
   ],
   "source": [
    "import MDAnalysis as mda\n",
    "import sys\n",
    "import shutil\n",
    "import pandas as pd\n",
    "sys.path.append(\"..\")\n",
    "from src.features.build_features import get_chemical_shifts\n",
    "import os\n",
    "import numpy as np\n",
    "# from spc_imports import *\n",
    "# set_up_plt()"
   ]
  },
  {
   "cell_type": "code",
   "execution_count": 2,
   "metadata": {},
   "outputs": [],
   "source": [
    "raw_data_dir = '../data/raw/'\n",
    "interim_data_dir = '../data/interim/'\n",
    "processed_data_dir = '../data/processed/'\n",
    "external_data_dir = '../data/external/'"
   ]
  },
  {
   "cell_type": "code",
   "execution_count": 3,
   "metadata": {},
   "outputs": [],
   "source": [
    "states = { \n",
    "#               '5VKH_lb': {'begin': 0,\n",
    "#                       'end': 1.e+20},\n",
    "    '3FB5_lb' : {'begin': 400000.,\n",
    "                      'end': 1000000.},\n",
    "#           '5VK6_lb': {'begin': 0.,\n",
    "#                       'end': 350000.},\n",
    "#           '5VKE_lb': {'begin': 0,\n",
    "#                       'end': 1000000.}\n",
    "         }"
   ]
  },
  {
   "cell_type": "markdown",
   "metadata": {},
   "source": [
    "## How to run this Notebook\n",
    "\n",
    "This notebook must be used after processing the trajectories with `calculate_cs.ipynb`\n",
    "\n",
    "This notebook must be run with the environment created with: `environment_for_shiftx2.yml`. This is because shiftx2 is hard to install and use otherwise.\n",
    "\n",
    "Shiftx2 was written in python2. The ominia channel version of shiftx2 for python3.5 is essentially only a wrapper calling shiftx2 with python2 from python3.5.\n",
    "In order to not have any problem of python3 being picked up instead of python2, it is best to:\n",
    "```bash\n",
    "cd /path/to/anaconda3/envs/nmr_assign_state_for_shiftx2/share/shiftx2\n",
    "find . -iname \"[a-zA-Z]*.py\" -exec sed -i '1s/python/python2/' {} \\;\n",
    "find . -iname \"[a-zA-Z]*.py\" -exec sed -i 's/\"python/\"python2/' {} \\;\n",
    "```\n",
    "\n",
    "\n",
    "\n"
   ]
  },
  {
   "cell_type": "markdown",
   "metadata": {},
   "source": [
    "### Get Chemical Shifts"
   ]
  },
  {
   "cell_type": "code",
   "execution_count": 28,
   "metadata": {},
   "outputs": [],
   "source": [
    "def get_chemical_shifts(univ,temp_dir='./',split_size=100,skip=1,method='sparta_plus',temperature=298.,pH=5.0, protein_selection = 'protein'):\n",
    "    import MDAnalysis as mda\n",
    "    import mdtraj as md\n",
    "    import numpy as np\n",
    "    import pandas as pd\n",
    "    import os\n",
    "    from tqdm import tqdm\n",
    "    import warnings\n",
    "    warnings.filterwarnings(\"ignore\")\n",
    "\n",
    "    '''\n",
    "    Use sparta_plus with the interface of mdtraj to get the chemical shifts of the trajectory. The segids are concatenated as independent trajectories.\n",
    "    The protein is assumed to have 4 identical subunits. \n",
    "\n",
    "    Parameters\n",
    "    ----------\n",
    "    univ : Universe object that contains the protein.\n",
    "    temp_dir : Temporary directory for the tmp trajectory.\n",
    "    split_size : How to split the trajectory so the /tmp does not fill.\n",
    "    skip : Amount of frames skiped.\n",
    "    pH: pH for shiftx2 calculations.\n",
    "    temperature: temperature for shiftx2 calculations.\n",
    "    protein_selection: protein selection for MDAnalysis.\n",
    "      \n",
    "    Returns\n",
    "    -------\n",
    "    df: Dataframe of chemical shifts (n_cs_nuclei,n_frames*n_segids)\n",
    "    '''\n",
    "    assert isinstance(temp_dir,str), {temp_dir} + ' should be a str'\n",
    "    assert isinstance(protein_selection,str), 'protein_selection should be a str'\n",
    "\n",
    "    assert isinstance(split_size,int), split_size +  ' should be a int'\n",
    "    assert isinstance(skip,int), skip + ' should be a int'\n",
    "    assert isinstance(temperature,float), str(temperature) + ' should be a float'\n",
    "    assert isinstance(pH,float), str(pH) + ' should be a float'\n",
    "    \n",
    "    sel_protein=univ.select_atoms(protein_selection)\n",
    "    resids = sel_protein.residues.resids.copy()\n",
    "    gap = 10\n",
    "    last_resid = -gap\n",
    "    for i,seg in enumerate(univ.segments):\n",
    "        seg.residues.resids = seg.residues.resids + gap + last_resid\n",
    "        last_resid = seg.residues.resids[-1]\n",
    "    renumber = sel_protein.residues.resids\n",
    "    resids_dic = { i:j  for i,j in zip(renumber,resids)}\n",
    "    sel_protein.segments.segids = 'A'\n",
    "    \n",
    "    xtc = temp_dir+\"/tmp.xtc\"\n",
    "    pdb = temp_dir+\"/tmp.pdb\"\n",
    "    \n",
    "    \n",
    "    #Which method:\n",
    "    if method == 'sparta_plus': \n",
    "        method_function = md.nmr.chemical_shifts_spartaplus\n",
    "    elif method == 'ppm': \n",
    "        method_function = md.nmr.chemical_shifts_ppm\n",
    "    elif method == 'shiftx2': \n",
    "        method_function = md.nmr.chemical_shifts_shiftx2\n",
    "    else:\n",
    "        raise Exception('Method' + method + 'not recognized.')\n",
    "    \n",
    "    \n",
    "     \n",
    "    with mda.Writer(xtc, n_atoms=sel_protein.atoms.n_atoms) as W:\n",
    "        for ts in univ.trajectory[::skip]:\n",
    "            W.write(sel_protein)\n",
    "    sel_protein.write(pdb)\n",
    "\n",
    "    #Load data and calculate NMR-CS\n",
    "    trj= md.load(xtc,top=pdb)\n",
    "    n_frames=trj.n_frames\n",
    "    list_of_splits = []\n",
    "    for j in tqdm(range(0,n_frames,split_size),\n",
    "                  leave=True,smoothing=1):\n",
    "        if method == 'shiftx2':\n",
    "            list_of_splits.append(\n",
    "           method_function(trj[j:j+split_size],pH=pH,temperature=temperature)\n",
    "            )\n",
    "        else:\n",
    "            list_of_splits.append(\n",
    "           method_function(trj[j:j+split_size])\n",
    "            )\n",
    "            \n",
    "    df = pd.concat(list_of_splits,axis=1)\n",
    "    index = pd.MultiIndex.from_arrays([[ resids_dic[i[0]] for i in df.index ], [ i[1] for i in df.index ]], names = ['resid', 'nuclei'])\n",
    "    df.index = index\n",
    "    df = df.T\n",
    "    df = df.loc[:,pd.IndexSlice[:,['N', 'CA', 'CB', 'C']]]\n",
    "    dictionary = {}\n",
    "    for col in np.unique(df.columns):\n",
    "        k = df.loc[:,col]\n",
    "        if k.shape[1] == 4:\n",
    "            dictionary[col] = np.array(k).reshape(k.shape[0]*k.shape[1])\n",
    "    df = pd.DataFrame(dictionary)\n",
    "    df = df.rename_axis(['resid', 'nuclei'], axis=1)\n",
    "    os.remove(xtc)\n",
    "    os.remove(pdb)\n",
    "    return df"
   ]
  },
  {
   "cell_type": "code",
   "execution_count": 29,
   "metadata": {},
   "outputs": [
    {
     "ename": "TypeError",
     "evalue": "Selection type must be compatible with slicing the coordinates",
     "output_type": "error",
     "traceback": [
      "\u001b[0;31m---------------------------------------------------------------------------\u001b[0m",
      "\u001b[0;31mKeyboardInterrupt\u001b[0m                         Traceback (most recent call last)",
      "\u001b[0;32m/home/sperez/data_partition/bin2/anaconda3/envs/nmr_assign_state_for_shiftx2/lib/python3.5/site-packages/MDAnalysis/coordinates/base.py\u001b[0m in \u001b[0;36mcopy_slice\u001b[0;34m(self, sel)\u001b[0m\n\u001b[1;32m    490\u001b[0m         \u001b[0;32mtry\u001b[0m\u001b[0;34m:\u001b[0m\u001b[0;34m\u001b[0m\u001b[0m\n\u001b[0;32m--> 491\u001b[0;31m             \u001b[0mpos\u001b[0m \u001b[0;34m=\u001b[0m \u001b[0mself\u001b[0m\u001b[0;34m.\u001b[0m\u001b[0mpositions\u001b[0m\u001b[0;34m[\u001b[0m\u001b[0msel\u001b[0m\u001b[0;34m]\u001b[0m\u001b[0;34m\u001b[0m\u001b[0m\n\u001b[0m\u001b[1;32m    492\u001b[0m         \u001b[0;32mexcept\u001b[0m \u001b[0mNoDataError\u001b[0m\u001b[0;34m:\u001b[0m\u001b[0;34m\u001b[0m\u001b[0m\n",
      "\u001b[0;31mKeyboardInterrupt\u001b[0m: ",
      "\nDuring handling of the above exception, another exception occurred:\n",
      "\u001b[0;31mTypeError\u001b[0m                                 Traceback (most recent call last)",
      "\u001b[0;32m<ipython-input-29-633d8c67a1a0>\u001b[0m in \u001b[0;36m<module>\u001b[0;34m()\u001b[0m\n\u001b[1;32m      3\u001b[0m         univ = mda.Universe(interim_data_dir + state+ '/protein_sk1_pbc.pdb',\n\u001b[1;32m      4\u001b[0m                             interim_data_dir + state+'/protein_sk1_pbc.xtc')\n\u001b[0;32m----> 5\u001b[0;31m         \u001b[0mdf\u001b[0m \u001b[0;34m=\u001b[0m \u001b[0mget_chemical_shifts\u001b[0m\u001b[0;34m(\u001b[0m\u001b[0muniv\u001b[0m\u001b[0;34m,\u001b[0m \u001b[0;34m'../data/processed/'\u001b[0m\u001b[0;34m,\u001b[0m\u001b[0mmethod\u001b[0m\u001b[0;34m=\u001b[0m\u001b[0mmethod\u001b[0m\u001b[0;34m,\u001b[0m\u001b[0mpH\u001b[0m\u001b[0;34m=\u001b[0m\u001b[0;36m4.\u001b[0m\u001b[0;34m,\u001b[0m\u001b[0mskip\u001b[0m\u001b[0;34m=\u001b[0m\u001b[0;36m1\u001b[0m\u001b[0;34m,\u001b[0m \u001b[0mprotein_selection\u001b[0m\u001b[0;34m=\u001b[0m\u001b[0;34m'protein and not resid 26 121'\u001b[0m\u001b[0;34m)\u001b[0m\u001b[0;34m\u001b[0m\u001b[0m\n\u001b[0m\u001b[1;32m      6\u001b[0m         \u001b[0mdf\u001b[0m\u001b[0;34m.\u001b[0m\u001b[0mto_pickle\u001b[0m\u001b[0;34m(\u001b[0m\u001b[0mprocessed_data_dir\u001b[0m\u001b[0;34m+\u001b[0m\u001b[0mstate\u001b[0m\u001b[0;34m+\u001b[0m\u001b[0;34m'/CS_'\u001b[0m\u001b[0;34m+\u001b[0m\u001b[0mmethod\u001b[0m\u001b[0;34m+\u001b[0m\u001b[0;34m'_'\u001b[0m\u001b[0;34m+\u001b[0m\u001b[0mstate\u001b[0m\u001b[0;34m+\u001b[0m\u001b[0;34m'.pkl'\u001b[0m\u001b[0;34m)\u001b[0m\u001b[0;34m\u001b[0m\u001b[0m\n",
      "\u001b[0;32m<ipython-input-28-062307216d1d>\u001b[0m in \u001b[0;36mget_chemical_shifts\u001b[0;34m(univ, temp_dir, split_size, skip, method, temperature, pH, protein_selection)\u001b[0m\n\u001b[1;32m     64\u001b[0m     \u001b[0;32mwith\u001b[0m \u001b[0mmda\u001b[0m\u001b[0;34m.\u001b[0m\u001b[0mWriter\u001b[0m\u001b[0;34m(\u001b[0m\u001b[0mxtc\u001b[0m\u001b[0;34m,\u001b[0m \u001b[0mn_atoms\u001b[0m\u001b[0;34m=\u001b[0m\u001b[0msel_protein\u001b[0m\u001b[0;34m.\u001b[0m\u001b[0matoms\u001b[0m\u001b[0;34m.\u001b[0m\u001b[0mn_atoms\u001b[0m\u001b[0;34m)\u001b[0m \u001b[0;32mas\u001b[0m \u001b[0mW\u001b[0m\u001b[0;34m:\u001b[0m\u001b[0;34m\u001b[0m\u001b[0m\n\u001b[1;32m     65\u001b[0m         \u001b[0;32mfor\u001b[0m \u001b[0mts\u001b[0m \u001b[0;32min\u001b[0m \u001b[0muniv\u001b[0m\u001b[0;34m.\u001b[0m\u001b[0mtrajectory\u001b[0m\u001b[0;34m[\u001b[0m\u001b[0;34m:\u001b[0m\u001b[0;34m:\u001b[0m\u001b[0mskip\u001b[0m\u001b[0;34m]\u001b[0m\u001b[0;34m:\u001b[0m\u001b[0;34m\u001b[0m\u001b[0m\n\u001b[0;32m---> 66\u001b[0;31m             \u001b[0mW\u001b[0m\u001b[0;34m.\u001b[0m\u001b[0mwrite\u001b[0m\u001b[0;34m(\u001b[0m\u001b[0msel_protein\u001b[0m\u001b[0;34m)\u001b[0m\u001b[0;34m\u001b[0m\u001b[0m\n\u001b[0m\u001b[1;32m     67\u001b[0m     \u001b[0msel_protein\u001b[0m\u001b[0;34m.\u001b[0m\u001b[0mwrite\u001b[0m\u001b[0;34m(\u001b[0m\u001b[0mpdb\u001b[0m\u001b[0;34m)\u001b[0m\u001b[0;34m\u001b[0m\u001b[0m\n\u001b[1;32m     68\u001b[0m \u001b[0;34m\u001b[0m\u001b[0m\n",
      "\u001b[0;32m/home/sperez/data_partition/bin2/anaconda3/envs/nmr_assign_state_for_shiftx2/lib/python3.5/site-packages/MDAnalysis/coordinates/base.py\u001b[0m in \u001b[0;36mwrite\u001b[0;34m(self, obj)\u001b[0m\n\u001b[1;32m   1882\u001b[0m         \u001b[0;32melse\u001b[0m\u001b[0;34m:\u001b[0m\u001b[0;34m\u001b[0m\u001b[0m\n\u001b[1;32m   1883\u001b[0m             \u001b[0;32mtry\u001b[0m\u001b[0;34m:\u001b[0m\u001b[0;34m\u001b[0m\u001b[0m\n\u001b[0;32m-> 1884\u001b[0;31m                 \u001b[0mts\u001b[0m \u001b[0;34m=\u001b[0m \u001b[0mobj\u001b[0m\u001b[0;34m.\u001b[0m\u001b[0mts\u001b[0m\u001b[0;34m\u001b[0m\u001b[0m\n\u001b[0m\u001b[1;32m   1885\u001b[0m             \u001b[0;32mexcept\u001b[0m \u001b[0mAttributeError\u001b[0m\u001b[0;34m:\u001b[0m\u001b[0;34m\u001b[0m\u001b[0m\n\u001b[1;32m   1886\u001b[0m                 \u001b[0;32mtry\u001b[0m\u001b[0;34m:\u001b[0m\u001b[0;34m\u001b[0m\u001b[0m\n",
      "\u001b[0;32m/home/sperez/data_partition/bin2/anaconda3/envs/nmr_assign_state_for_shiftx2/lib/python3.5/site-packages/MDAnalysis/core/groups.py\u001b[0m in \u001b[0;36mts\u001b[0;34m(self)\u001b[0m\n\u001b[1;32m   1810\u001b[0m         \u001b[0mtrj_ts\u001b[0m \u001b[0;34m=\u001b[0m \u001b[0mself\u001b[0m\u001b[0;34m.\u001b[0m\u001b[0muniverse\u001b[0m\u001b[0;34m.\u001b[0m\u001b[0mtrajectory\u001b[0m\u001b[0;34m.\u001b[0m\u001b[0mts\u001b[0m  \u001b[0;31m# original time step\u001b[0m\u001b[0;34m\u001b[0m\u001b[0m\n\u001b[1;32m   1811\u001b[0m \u001b[0;34m\u001b[0m\u001b[0m\n\u001b[0;32m-> 1812\u001b[0;31m         \u001b[0;32mreturn\u001b[0m \u001b[0mtrj_ts\u001b[0m\u001b[0;34m.\u001b[0m\u001b[0mcopy_slice\u001b[0m\u001b[0;34m(\u001b[0m\u001b[0mself\u001b[0m\u001b[0;34m.\u001b[0m\u001b[0mindices\u001b[0m\u001b[0;34m)\u001b[0m\u001b[0;34m\u001b[0m\u001b[0m\n\u001b[0m\u001b[1;32m   1813\u001b[0m \u001b[0;34m\u001b[0m\u001b[0m\n\u001b[1;32m   1814\u001b[0m     \u001b[0;31m# As with universe.select_atoms, needing to fish out specific kwargs\u001b[0m\u001b[0;34m\u001b[0m\u001b[0;34m\u001b[0m\u001b[0m\n",
      "\u001b[0;32m/home/sperez/data_partition/bin2/anaconda3/envs/nmr_assign_state_for_shiftx2/lib/python3.5/site-packages/MDAnalysis/coordinates/base.py\u001b[0m in \u001b[0;36mcopy_slice\u001b[0;34m(self, sel)\u001b[0m\n\u001b[1;32m    494\u001b[0m             \u001b[0mpos\u001b[0m \u001b[0;34m=\u001b[0m \u001b[0;32mNone\u001b[0m\u001b[0;34m\u001b[0m\u001b[0m\n\u001b[1;32m    495\u001b[0m         \u001b[0;32mexcept\u001b[0m\u001b[0;34m:\u001b[0m\u001b[0;34m\u001b[0m\u001b[0m\n\u001b[0;32m--> 496\u001b[0;31m             raise TypeError(\"Selection type must be compatible with slicing\"\n\u001b[0m\u001b[1;32m    497\u001b[0m                             \" the coordinates\")\n\u001b[1;32m    498\u001b[0m         \u001b[0;32mtry\u001b[0m\u001b[0;34m:\u001b[0m\u001b[0;34m\u001b[0m\u001b[0m\n",
      "\u001b[0;31mTypeError\u001b[0m: Selection type must be compatible with slicing the coordinates"
     ]
    }
   ],
   "source": [
    "for method in ['shiftx2']:\n",
    "    for state in states.keys():\n",
    "        univ = mda.Universe(interim_data_dir + state+ '/protein_sk1_pbc.pdb',\n",
    "                            interim_data_dir + state+'/protein_sk1_pbc.xtc')\n",
    "        df = get_chemical_shifts(univ, '../data/processed/',method=method,pH=4.,skip=1, protein_selection='protein and not resid 26 121')\n",
    "        df.to_pickle(processed_data_dir+state+'/CS_'+method+'_'+state+'.pkl')"
   ]
  },
  {
   "cell_type": "code",
   "execution_count": null,
   "metadata": {},
   "outputs": [],
   "source": []
  },
  {
   "cell_type": "code",
   "execution_count": null,
   "metadata": {},
   "outputs": [],
   "source": []
  },
  {
   "cell_type": "code",
   "execution_count": null,
   "metadata": {},
   "outputs": [],
   "source": []
  },
  {
   "cell_type": "code",
   "execution_count": null,
   "metadata": {},
   "outputs": [],
   "source": []
  }
 ],
 "metadata": {
  "kernelspec": {
   "display_name": "Python [conda env:nmr_assign_state_for_shiftx2]",
   "language": "python",
   "name": "conda-env-nmr_assign_state_for_shiftx2-py"
  },
  "language_info": {
   "codemirror_mode": {
    "name": "ipython",
    "version": 3
   },
   "file_extension": ".py",
   "mimetype": "text/x-python",
   "name": "python",
   "nbconvert_exporter": "python",
   "pygments_lexer": "ipython3",
   "version": "3.5.6"
  },
  "widgets": {
   "application/vnd.jupyter.widget-state+json": {
    "state": {},
    "version_major": 2,
    "version_minor": 0
   }
  }
 },
 "nbformat": 4,
 "nbformat_minor": 4
}
