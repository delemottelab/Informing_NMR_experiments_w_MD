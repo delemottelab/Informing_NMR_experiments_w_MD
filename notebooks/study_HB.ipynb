{
 "cells": [
  {
   "cell_type": "markdown",
   "metadata": {},
   "source": [
    "# Study Amino Acids"
   ]
  },
  {
   "cell_type": "code",
   "execution_count": 1,
   "metadata": {},
   "outputs": [
    {
     "name": "stderr",
     "output_type": "stream",
     "text": [
      "/home/sperez/bin/PYTHON_SCRIPTS/spc_imports.py:21: MatplotlibDeprecationWarning: Support for setting the 'text.latex.preamble' or 'pgf.preamble' rcParam to a list of strings is deprecated since 3.3 and will be removed two minor releases later; set it to a single string instead.\n",
      "  plt.rcParams[\"text.latex.preamble\"] = [\n"
     ]
    },
    {
     "data": {
      "application/vnd.jupyter.widget-view+json": {
       "model_id": "c30e651730d54d4bb5f82ce1b7c2ef84",
       "version_major": 2,
       "version_minor": 0
      },
      "text/plain": []
     },
     "metadata": {},
     "output_type": "display_data"
    }
   ],
   "source": [
    "import sys\n",
    "import shutil\n",
    "sys.path.append(\"..\")\n",
    "from spc_imports import *\n",
    "set_up_plt()\n",
    "import MDAnalysis as mda\n",
    "import nglview as nv\n",
    "RANDOM_SEED = 281090\n",
    "#warnings.filterwarnings(\"ignore\")\n",
    "%run /home/sperez/bin/PYTHON_SCRIPTS/barker.py"
   ]
  },
  {
   "cell_type": "code",
   "execution_count": 5,
   "metadata": {},
   "outputs": [],
   "source": [
    "from MDAnalysis.analysis.hydrogenbonds.hbond_analysis import HydrogenBondAnalysis"
   ]
  },
  {
   "cell_type": "code",
   "execution_count": 2,
   "metadata": {},
   "outputs": [],
   "source": [
    "raw_data_dir = '../data/raw/'\n",
    "interim_data_dir = '../data/interim/'\n",
    "processed_data_dir = '../data/processed/'\n",
    "reports_dir = '../reports/'"
   ]
  },
  {
   "cell_type": "markdown",
   "metadata": {},
   "source": [
    "## Study T101 S102 and T107 and the HB to backbone"
   ]
  },
  {
   "cell_type": "code",
   "execution_count": 31,
   "metadata": {},
   "outputs": [],
   "source": [
    "view = nv.show_file(interim_data_dir+f'5VK6_lb/protein_sk1_pbc.pdb')"
   ]
  },
  {
   "cell_type": "code",
   "execution_count": 32,
   "metadata": {},
   "outputs": [],
   "source": [
    "view.clear()\n",
    "view.add_licorice('90-107')\n",
    "view.add_cartoon()"
   ]
  },
  {
   "cell_type": "code",
   "execution_count": 33,
   "metadata": {},
   "outputs": [
    {
     "data": {
      "application/vnd.jupyter.widget-view+json": {
       "model_id": "f1653866ea51480a84c63a777e8637d7",
       "version_major": 2,
       "version_minor": 0
      },
      "text/plain": [
       "NGLWidget()"
      ]
     },
     "metadata": {},
     "output_type": "display_data"
    }
   ],
   "source": [
    "view"
   ]
  },
  {
   "cell_type": "markdown",
   "metadata": {},
   "source": [
    "### S102"
   ]
  },
  {
   "cell_type": "code",
   "execution_count": 25,
   "metadata": {},
   "outputs": [],
   "source": [
    "states = {'5VKH_lb': None,\n",
    "          '5VK6_lb': None,\n",
    "          '3FB5_lb': None,\n",
    "         }"
   ]
  },
  {
   "cell_type": "code",
   "execution_count": 26,
   "metadata": {},
   "outputs": [
    {
     "data": {
      "application/vnd.jupyter.widget-view+json": {
       "model_id": "d61240d9b75b401faf5ce6dd07a5d837",
       "version_major": 2,
       "version_minor": 0
      },
      "text/plain": [
       "HBox(children=(FloatProgress(value=0.0, max=18678.0), HTML(value='')))"
      ]
     },
     "metadata": {},
     "output_type": "display_data"
    },
    {
     "name": "stdout",
     "output_type": "stream",
     "text": [
      "\n"
     ]
    },
    {
     "data": {
      "application/vnd.jupyter.widget-view+json": {
       "model_id": "f1811340736b41c7bbee5d14b6ca9a01",
       "version_major": 2,
       "version_minor": 0
      },
      "text/plain": [
       "HBox(children=(FloatProgress(value=0.0, max=17501.0), HTML(value='')))"
      ]
     },
     "metadata": {},
     "output_type": "display_data"
    },
    {
     "name": "stdout",
     "output_type": "stream",
     "text": [
      "\n"
     ]
    },
    {
     "data": {
      "application/vnd.jupyter.widget-view+json": {
       "model_id": "1175d1a3a9d145148e977be9691ec437",
       "version_major": 2,
       "version_minor": 0
      },
      "text/plain": [
       "HBox(children=(FloatProgress(value=0.0, max=30001.0), HTML(value='')))"
      ]
     },
     "metadata": {},
     "output_type": "display_data"
    },
    {
     "name": "stdout",
     "output_type": "stream",
     "text": [
      "\n"
     ]
    },
    {
     "data": {
      "text/html": [
       "<div style=\"display:none\">\n",
       "                <audio onended=\"this.parentNode.removeChild(this)\"  controls=\"controls\" autoplay=\"autoplay\">\n",
       "                    <source src=\"data:audio/ogg;base64,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\" type=\"audio/ogg\" />\n",
       "                    Your browser does not support the audio element.\n",
       "                </audio>\n",
       "              </div>"
      ],
      "text/plain": [
       "<__main__.InvisibleAudio object>"
      ]
     },
     "metadata": {},
     "output_type": "display_data"
    }
   ],
   "source": [
    "for state in states.keys():\n",
    "    universe = mda.Universe(interim_data_dir+f'{state}/protein_sk1_pbc.pdb',\n",
    "                        interim_data_dir+f'{state}/protein_sk1_pbc.xtc')\n",
    "    h = HydrogenBondAnalysis(universe,'resid 102 and name OG','resid 102 and name HG1','resid 98 and name O')\n",
    "    h.run(verbose=True)\n",
    "    states[state] = h"
   ]
  },
  {
   "cell_type": "code",
   "execution_count": 28,
   "metadata": {},
   "outputs": [
    {
     "data": {
      "text/plain": [
       "0.7429419019366021"
      ]
     },
     "execution_count": 28,
     "metadata": {},
     "output_type": "execute_result"
    }
   ],
   "source": [
    "np.mean(states['3FB5_lb'].count_by_time()/4.)"
   ]
  },
  {
   "cell_type": "code",
   "execution_count": 29,
   "metadata": {},
   "outputs": [
    {
     "data": {
      "text/plain": [
       "0.8346380206845323"
      ]
     },
     "execution_count": 29,
     "metadata": {},
     "output_type": "execute_result"
    }
   ],
   "source": [
    "np.mean(states['5VK6_lb'].count_by_time()/4.)"
   ]
  },
  {
   "cell_type": "code",
   "execution_count": 30,
   "metadata": {},
   "outputs": [
    {
     "data": {
      "text/plain": [
       "0.6886845486668808"
      ]
     },
     "execution_count": 30,
     "metadata": {},
     "output_type": "execute_result"
    }
   ],
   "source": [
    "np.mean(states['5VKH_lb'].count_by_time()/4.)"
   ]
  },
  {
   "cell_type": "code",
   "execution_count": 27,
   "metadata": {},
   "outputs": [
    {
     "data": {
      "text/plain": [
       "Text(0.5, 1.0, 'S102-Helix')"
      ]
     },
     "execution_count": 27,
     "metadata": {},
     "output_type": "execute_result"
    },
    {
     "data": {
      "image/png": "[encoded data removed]",
      "text/plain": [
       "<Figure size 432x288 with 1 Axes>"
      ]
     },
     "metadata": {},
     "output_type": "display_data"
    }
   ],
   "source": [
    "fig, ax = plt.subplots(1,1)\n",
    "sns.kdeplot(states['3FB5_lb'].count_by_time()/4.,ax=ax,label='o')\n",
    "sns.kdeplot(states['5VK6_lb'].count_by_time()/4.,ax=ax,label='fo')\n",
    "sns.kdeplot(states['5VKH_lb'].count_by_time()/4.,ax=ax,label='c')\n",
    "ax.set_xlabel('Num. HB. per SU')\n",
    "ax.set_ylabel('p(HB)')\n",
    "ax.legend()\n",
    "ax.set_title('S102-Helix')\n",
    "fig.savefig(reports_dir+f'figures/S102-helix_HB.png')"
   ]
  },
  {
   "cell_type": "markdown",
   "metadata": {},
   "source": [
    "### T07"
   ]
  },
  {
   "cell_type": "code",
   "execution_count": 46,
   "metadata": {},
   "outputs": [],
   "source": [
    "states = {'5VKH_lb': None,\n",
    "          '5VK6_lb': None,\n",
    "          '3FB5_lb': None,\n",
    "         }"
   ]
  },
  {
   "cell_type": "code",
   "execution_count": null,
   "metadata": {},
   "outputs": [
    {
     "data": {
      "application/vnd.jupyter.widget-view+json": {
       "model_id": "29007580c57943e5a157faddc7607ea5",
       "version_major": 2,
       "version_minor": 0
      },
      "text/plain": [
       "HBox(children=(FloatProgress(value=0.0, max=18678.0), HTML(value='')))"
      ]
     },
     "metadata": {},
     "output_type": "display_data"
    },
    {
     "name": "stdout",
     "output_type": "stream",
     "text": [
      "\n"
     ]
    },
    {
     "data": {
      "application/vnd.jupyter.widget-view+json": {
       "model_id": "61812912ec114d918aecd923e14a28d8",
       "version_major": 2,
       "version_minor": 0
      },
      "text/plain": [
       "HBox(children=(FloatProgress(value=0.0, max=17501.0), HTML(value='')))"
      ]
     },
     "metadata": {},
     "output_type": "display_data"
    },
    {
     "name": "stdout",
     "output_type": "stream",
     "text": [
      "\n"
     ]
    },
    {
     "data": {
      "application/vnd.jupyter.widget-view+json": {
       "model_id": "dfcada169eb3433a9d44595d221e1aa0",
       "version_major": 2,
       "version_minor": 0
      },
      "text/plain": [
       "HBox(children=(FloatProgress(value=0.0, max=30001.0), HTML(value='')))"
      ]
     },
     "metadata": {},
     "output_type": "display_data"
    }
   ],
   "source": [
    "for state in states.keys():\n",
    "    universe = mda.Universe(interim_data_dir+f'{state}/protein_sk1_pbc.pdb',\n",
    "                        interim_data_dir+f'{state}/protein_sk1_pbc.xtc')\n",
    "    h = HydrogenBondAnalysis(universe,'resid 107 and name OG1','resid 107 and name HG1','resid 103 and name O')\n",
    "    h.run(verbose=True)\n",
    "    states[state] = h"
   ]
  },
  {
   "cell_type": "code",
   "execution_count": null,
   "metadata": {},
   "outputs": [],
   "source": [
    "np.mean(states['3FB5_lb'].count_by_time()/4.)"
   ]
  },
  {
   "cell_type": "code",
   "execution_count": null,
   "metadata": {},
   "outputs": [],
   "source": [
    "np.mean(states['5VK6_lb'].count_by_time()/4.)"
   ]
  },
  {
   "cell_type": "code",
   "execution_count": null,
   "metadata": {},
   "outputs": [],
   "source": [
    "np.mean(states['5VKH_lb'].count_by_time()/4.)"
   ]
  },
  {
   "cell_type": "code",
   "execution_count": null,
   "metadata": {},
   "outputs": [],
   "source": [
    "fig, ax = plt.subplots(1,1)\n",
    "sns.kdeplot(states['3FB5_lb'].count_by_time()/4.,ax=ax,label='o')\n",
    "sns.kdeplot(states['5VK6_lb'].count_by_time()/4.,ax=ax,label='fo')\n",
    "sns.kdeplot(states['5VKH_lb'].count_by_time()/4.,ax=ax,label='c')\n",
    "ax.set_xlabel('Num. HB. per SU')\n",
    "ax.set_ylabel('p(HB)')\n",
    "ax.legend()\n",
    "ax.set_title('T107-Helix')\n",
    "fig.savefig(reports_dir+f'figures/T107-helix_HB.png')"
   ]
  },
  {
   "cell_type": "markdown",
   "metadata": {},
   "source": [
    "### T101"
   ]
  },
  {
   "cell_type": "code",
   "execution_count": 38,
   "metadata": {},
   "outputs": [],
   "source": [
    "states = {'5VKH_lb': None,\n",
    "          '5VK6_lb': None,\n",
    "          '3FB5_lb': None,\n",
    "         }"
   ]
  },
  {
   "cell_type": "code",
   "execution_count": 39,
   "metadata": {},
   "outputs": [
    {
     "data": {
      "application/vnd.jupyter.widget-view+json": {
       "model_id": "63ba5810fd664d9dbcb59b69ff2cfafc",
       "version_major": 2,
       "version_minor": 0
      },
      "text/plain": [
       "HBox(children=(FloatProgress(value=0.0, max=18678.0), HTML(value='')))"
      ]
     },
     "metadata": {},
     "output_type": "display_data"
    },
    {
     "name": "stdout",
     "output_type": "stream",
     "text": [
      "\n"
     ]
    },
    {
     "data": {
      "application/vnd.jupyter.widget-view+json": {
       "model_id": "f088a2b0cad34a3eae7f623713af8bf6",
       "version_major": 2,
       "version_minor": 0
      },
      "text/plain": [
       "HBox(children=(FloatProgress(value=0.0, max=17501.0), HTML(value='')))"
      ]
     },
     "metadata": {},
     "output_type": "display_data"
    },
    {
     "name": "stdout",
     "output_type": "stream",
     "text": [
      "\n"
     ]
    },
    {
     "data": {
      "application/vnd.jupyter.widget-view+json": {
       "model_id": "ade5048fa07f4516975212f8e67b58c8",
       "version_major": 2,
       "version_minor": 0
      },
      "text/plain": [
       "HBox(children=(FloatProgress(value=0.0, max=30001.0), HTML(value='')))"
      ]
     },
     "metadata": {},
     "output_type": "display_data"
    },
    {
     "name": "stdout",
     "output_type": "stream",
     "text": [
      "\n"
     ]
    },
    {
     "data": {
      "text/html": [
       "<div style=\"display:none\">\n",
       "                <audio onended=\"this.parentNode.removeChild(this)\"  controls=\"controls\" autoplay=\"autoplay\">\n",
       "                    <source src=\"data:audio/ogg;base64,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\" type=\"audio/ogg\" />\n",
       "                    Your browser does not support the audio element.\n",
       "                </audio>\n",
       "              </div>"
      ],
      "text/plain": [
       "<__main__.InvisibleAudio object>"
      ]
     },
     "metadata": {},
     "output_type": "display_data"
    }
   ],
   "source": [
    "for state in states.keys():\n",
    "    universe = mda.Universe(interim_data_dir+f'{state}/protein_sk1_pbc.pdb',\n",
    "                        interim_data_dir+f'{state}/protein_sk1_pbc.xtc')\n",
    "    h = HydrogenBondAnalysis(universe,'resid 101 and name OG1','resid 101 and name HG1','resid 97 and name O')\n",
    "    h.run(verbose=True)\n",
    "    states[state] = h"
   ]
  },
  {
   "cell_type": "code",
   "execution_count": 42,
   "metadata": {},
   "outputs": [
    {
     "data": {
      "text/plain": [
       "0.7618496050131662"
      ]
     },
     "execution_count": 42,
     "metadata": {},
     "output_type": "execute_result"
    }
   ],
   "source": [
    "np.mean(states['3FB5_lb'].count_by_time()/4.)"
   ]
  },
  {
   "cell_type": "code",
   "execution_count": 43,
   "metadata": {},
   "outputs": [
    {
     "data": {
      "text/plain": [
       "0.8453802639849152"
      ]
     },
     "execution_count": 43,
     "metadata": {},
     "output_type": "execute_result"
    }
   ],
   "source": [
    "np.mean(states['5VK6_lb'].count_by_time()/4.)"
   ]
  },
  {
   "cell_type": "code",
   "execution_count": 44,
   "metadata": {},
   "outputs": [
    {
     "data": {
      "text/plain": [
       "0.8047033943677053"
      ]
     },
     "execution_count": 44,
     "metadata": {},
     "output_type": "execute_result"
    }
   ],
   "source": [
    "np.mean(states['5VKH_lb'].count_by_time()/4.)"
   ]
  },
  {
   "cell_type": "code",
   "execution_count": 45,
   "metadata": {},
   "outputs": [
    {
     "data": {
      "image/png": "[encoded data removed]",
      "text/plain": [
       "<Figure size 432x288 with 1 Axes>"
      ]
     },
     "metadata": {},
     "output_type": "display_data"
    }
   ],
   "source": [
    "fig, ax = plt.subplots(1,1)\n",
    "sns.kdeplot(states['3FB5_lb'].count_by_time()/4.,ax=ax,label='o')\n",
    "sns.kdeplot(states['5VK6_lb'].count_by_time()/4.,ax=ax,label='fo')\n",
    "sns.kdeplot(states['5VKH_lb'].count_by_time()/4.,ax=ax,label='c')\n",
    "ax.set_xlabel('Num. HB. per SU')\n",
    "ax.set_ylabel('p(HB)')\n",
    "ax.legend()\n",
    "ax.set_title('T101-Helix')\n",
    "fig.savefig(reports_dir+f'figures/T101-helix_HB.png')"
   ]
  },
  {
   "cell_type": "code",
   "execution_count": null,
   "metadata": {},
   "outputs": [],
   "source": []
  }
 ],
 "metadata": {
  "kernelspec": {
   "display_name": "nmr_assign_state",
   "language": "python",
   "name": "nmr_assign_state"
  },
  "language_info": {
   "codemirror_mode": {
    "name": "ipython",
    "version": 3
   },
   "file_extension": ".py",
   "mimetype": "text/x-python",
   "name": "python",
   "nbconvert_exporter": "python",
   "pygments_lexer": "ipython3",
   "version": "3.8.5"
  }
 },
 "nbformat": 4,
 "nbformat_minor": 4
}
