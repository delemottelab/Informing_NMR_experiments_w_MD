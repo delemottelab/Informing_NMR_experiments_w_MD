{
 "cells": [
  {
   "cell_type": "code",
   "execution_count": 1,
   "metadata": {},
   "outputs": [
    {
     "data": {
      "application/vnd.jupyter.widget-view+json": {
       "model_id": "4242b6c898d1431f88c008061eea7c45",
       "version_major": 2,
       "version_minor": 0
      },
      "text/plain": []
     },
     "metadata": {},
     "output_type": "display_data"
    }
   ],
   "source": [
    "import sys\n",
    "sys.path.append(\"..\")\n",
    "import MDAnalysis as mda\n",
    "import nglview as nv\n",
    "import matplotlib.pyplot as plt\n",
    "import cellbell\n",
    "import seaborn as sns\n",
    "import pickle\n",
    "sns.set()\n",
    "RANDOM_SEED = 281090"
   ]
  },
  {
   "cell_type": "code",
   "execution_count": 2,
   "metadata": {},
   "outputs": [],
   "source": [
    "from MDAnalysis.analysis.dihedrals import Ramachandran, Janin"
   ]
  },
  {
   "cell_type": "code",
   "execution_count": 3,
   "metadata": {},
   "outputs": [],
   "source": [
    "raw_data_dir = '../data/raw'\n",
    "interim_data_dir = '../data/interim'\n",
    "processed_data_dir = '../data/processed'\n",
    "reports_dir = '../reports'"
   ]
  },
  {
   "cell_type": "code",
   "execution_count": 4,
   "metadata": {},
   "outputs": [],
   "source": [
    "calculate = True"
   ]
  },
  {
   "cell_type": "markdown",
   "metadata": {},
   "source": [
    "# Calculate dihedrals"
   ]
  },
  {
   "cell_type": "code",
   "execution_count": 5,
   "metadata": {},
   "outputs": [],
   "source": [
    "res_list = [ 51, 62, 64, 78, 96, 98, 99, 100, 102, 103, 107, 108, 111 ] "
   ]
  },
  {
   "cell_type": "code",
   "execution_count": 6,
   "metadata": {},
   "outputs": [
    {
     "name": "stdout",
     "output_type": "stream",
     "text": [
      "51\n",
      "62\n",
      "64\n"
     ]
    },
    {
     "name": "stderr",
     "output_type": "stream",
     "text": [
      "ERROR:root:Internal Python error in the inspect module.\n",
      "Below is the traceback from this internal error.\n",
      "\n",
      "\n",
      "KeyboardInterrupt\n",
      "\n"
     ]
    }
   ],
   "source": [
    "%%ding\n",
    "if calculate:\n",
    "    data = {}\n",
    "    u_open = mda.Universe(f'{interim_data_dir}/3FB5_lb/protein_sk1_pbc.pdb',\n",
    "                f'{interim_data_dir}/3FB5_lb/protein_sk1_pbc.xtc')\n",
    "    u_fully_open = mda.Universe(f'{interim_data_dir}/5VK6_lb/protein_sk1_pbc.pdb',\n",
    "                f'{interim_data_dir}/5VK6_lb/protein_sk1_pbc.xtc')\n",
    "    for res_name in res_list:\n",
    "        print(res_name)\n",
    "        data[res_name] = {}\n",
    "        for state_name,u in zip(['o', 'fo'],[u_open, u_fully_open]):\n",
    "            res = u.select_atoms(f'resid {res_name}')\n",
    "            data[res_name][state_name]= {}\n",
    "            data[res_name][state_name]['ramachandran'] = Ramachandran(res).run().angles\n",
    "            try: \n",
    "                data[res_name][state_name]['janin'] = Janin(res).run().angles\n",
    "            except:\n",
    "                data[res_name][state_name]['janin'] = None\n",
    "    with open(f'{processed_data_dir}/dihedrals.pkl', 'wb') as handle:\n",
    "        pickle.dump(data, handle)\n",
    "else:\n",
    "    with open(f'{processed_data_dir}/dihedrals.pkl', 'rb') as handle:\n",
    "        data = pickle.load(handle)"
   ]
  },
  {
   "cell_type": "code",
   "execution_count": 7,
   "metadata": {},
   "outputs": [
    {
     "ename": "KeyError",
     "evalue": "111",
     "output_type": "error",
     "traceback": [
      "\u001b[0;31m---------------------------------------------------------------------------\u001b[0m",
      "\u001b[0;31mKeyError\u001b[0m                                  Traceback (most recent call last)",
      "\u001b[0;32m<ipython-input-7-58e0afc62252>\u001b[0m in \u001b[0;36m<module>\u001b[0;34m\u001b[0m\n\u001b[0;32m----> 1\u001b[0;31m \u001b[0mdata\u001b[0m\u001b[0;34m[\u001b[0m\u001b[0;36m111\u001b[0m\u001b[0;34m]\u001b[0m\u001b[0;34m[\u001b[0m\u001b[0;34m'fo'\u001b[0m\u001b[0;34m]\u001b[0m\u001b[0;34m[\u001b[0m\u001b[0;34m'ramachandran'\u001b[0m\u001b[0;34m]\u001b[0m\u001b[0;34m.\u001b[0m\u001b[0mplot\u001b[0m\u001b[0;34m(\u001b[0m\u001b[0mmarker\u001b[0m\u001b[0;34m=\u001b[0m\u001b[0;34m'.'\u001b[0m\u001b[0;34m)\u001b[0m\u001b[0;34m\u001b[0m\u001b[0;34m\u001b[0m\u001b[0m\n\u001b[0m\u001b[1;32m      2\u001b[0m \u001b[0mdata\u001b[0m\u001b[0;34m[\u001b[0m\u001b[0;36m107\u001b[0m\u001b[0;34m]\u001b[0m\u001b[0;34m[\u001b[0m\u001b[0;34m'fo'\u001b[0m\u001b[0;34m]\u001b[0m\u001b[0;34m[\u001b[0m\u001b[0;34m'ramachandran'\u001b[0m\u001b[0;34m]\u001b[0m\u001b[0;34m.\u001b[0m\u001b[0mplot\u001b[0m\u001b[0;34m(\u001b[0m\u001b[0mmarker\u001b[0m\u001b[0;34m=\u001b[0m\u001b[0;34m'.'\u001b[0m\u001b[0;34m)\u001b[0m\u001b[0;34m\u001b[0m\u001b[0;34m\u001b[0m\u001b[0m\n",
      "\u001b[0;31mKeyError\u001b[0m: 111"
     ]
    }
   ],
   "source": [
    "data[111]['fo']['ramachandran'].plot(marker='.')\n",
    "data[107]['fo']['ramachandran'].plot(marker='.')"
   ]
  },
  {
   "cell_type": "code",
   "execution_count": null,
   "metadata": {},
   "outputs": [],
   "source": [
    "res_list = [111]"
   ]
  },
  {
   "cell_type": "code",
   "execution_count": null,
   "metadata": {},
   "outputs": [],
   "source": [
    "fig, ax = plt.subplots(len(res_list), 2)\n",
    "skip = 100\n",
    "for i, res_name in enumerate(res_list):\n",
    "    a = data[res_name]['fo']['ramachandran']\n",
    "    a = a.reshape([a.shape[0]*a.shape[1],2])\n",
    "    sns.kdeplot(x=a[:skip:,0],y=a[:skip:,1],label='fo')\n",
    "    a = data[res_name]['fo']['ramachandran']\n",
    "    a = a.reshape([a.shape[0]*a.shape[1],2])\n",
    "    sns.kdeplot(x=a[:skip:,0],y=a[:skip:,1],label='o')\n",
    "#     ax[i,0].set_xlim([-180,180])\n",
    "#     ax[i,0].set_xlabel(r'$\\phi (^{\\circ})$')\n",
    "#     ax[i,0].set_ylabel(r'$\\psi (^{\\circ})$')\n",
    "#     ax[i,0].set_ylim([-180,180])\n",
    "#     ax[i,0].leggend()"
   ]
  },
  {
   "cell_type": "code",
   "execution_count": null,
   "metadata": {},
   "outputs": [],
   "source": []
  }
 ],
 "metadata": {
  "kernelspec": {
   "display_name": "nmr_assign_state",
   "language": "python",
   "name": "nmr_assign_state"
  },
  "language_info": {
   "codemirror_mode": {
    "name": "ipython",
    "version": 3
   },
   "file_extension": ".py",
   "mimetype": "text/x-python",
   "name": "python",
   "nbconvert_exporter": "python",
   "pygments_lexer": "ipython3",
   "version": "3.8.5"
  }
 },
 "nbformat": 4,
 "nbformat_minor": 4
}
