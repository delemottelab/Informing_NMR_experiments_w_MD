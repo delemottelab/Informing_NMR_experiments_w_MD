{
 "cells": [
  {
   "cell_type": "markdown",
   "metadata": {},
   "source": [
    "# Calculate CS shiftx2"
   ]
  },
  {
   "cell_type": "code",
   "execution_count": null,
   "metadata": {},
   "outputs": [],
   "source": [
    "import MDAnalysis as mda\n",
    "import sys\n",
    "import shutil\n",
    "import pandas as pd\n",
    "sys.path.append(\"..\")\n",
    "from src.features.build_features import get_chemical_shifts\n",
    "import os\n",
    "import numpy as np\n",
    "# from spc_imports import *\n",
    "# set_up_plt()"
   ]
  },
  {
   "cell_type": "code",
   "execution_count": null,
   "metadata": {},
   "outputs": [],
   "source": [
    "raw_data_dir = '../data/raw/'\n",
    "interim_data_dir = '../data/interim/'\n",
    "processed_data_dir = '../data/processed/'\n",
    "external_data_dir = '../data/external/'"
   ]
  },
  {
   "cell_type": "code",
   "execution_count": null,
   "metadata": {},
   "outputs": [],
   "source": [
    "states = { \n",
    "#               '5VKH_lb': {'begin': 0,\n",
    "#                       'end': 1.e+20},\n",
    "#     '3FB5_lb' : {'begin': 400000.,\n",
    "#                       'end': 1000000.},\n",
    "          '5VK6_lb': {'begin': 0.,\n",
    "                      'end': 350000.},\n",
    "#           '5VKE_lb': {'begin': 0,\n",
    "#                       'end': 1000000.}\n",
    "         }"
   ]
  },
  {
   "cell_type": "markdown",
   "metadata": {},
   "source": [
    "## How to run this Notebook\n",
    "\n",
    "This notebook must be used after processing the trajectories with `calculate_cs.ipynb`\n",
    "\n",
    "This notebook must be run with the environment created with: `environment_for_shiftx2.yml`. This is because shiftx2 is hard to install and use otherwise.\n",
    "\n",
    "Shiftx2 was written in python2. The ominia channel version of shiftx2 for python3.5 is essentially only a wrapper calling shiftx2 with python2 from python3.5.\n",
    "In order to not have any problem of python3 being picked up instead of python2, it is best to:\n",
    "```bash\n",
    "cd /path/to/anaconda3/envs/nmr_assign_state_for_shiftx2/share/shiftx2\n",
    "find . -iname \"[a-zA-Z]*.py\" -exec sed -i '1s/python/python2/' {} \\;\n",
    "find . -iname \"[a-zA-Z]*.py\" -exec sed -i 's/\"python/\"python2/' {} \\;\n",
    "```\n",
    "\n",
    "\n",
    "\n"
   ]
  },
  {
   "cell_type": "markdown",
   "metadata": {},
   "source": [
    "### Get Chemical Shifts"
   ]
  },
  {
   "cell_type": "code",
   "execution_count": null,
   "metadata": {},
   "outputs": [],
   "source": [
    "for method in ['shiftx2']:\n",
    "    for state in states.keys():\n",
    "        univ = mda.Universe(interim_data_dir + state+ '/protein_sk1_pbc.pdb',\n",
    "                            interim_data_dir + state+'/protein_sk1_pbc.xtc')\n",
    "        df = get_chemical_shifts(univ, '../data/processed/',method=method,pH=4.,skip=1, protein_selection='protein and not resid 26 121')\n",
    "        df.to_pickle(processed_data_dir+state+'/CS_'+method+'_'+state+'.pkl')"
   ]
  },
  {
   "cell_type": "code",
   "execution_count": null,
   "metadata": {},
   "outputs": [],
   "source": []
  }
 ],
 "metadata": {
  "kernelspec": {
   "display_name": "nmr_assign_state",
   "language": "python",
   "name": "nmr_assign_state"
  },
  "language_info": {
   "codemirror_mode": {
    "name": "ipython",
    "version": 3
   },
   "file_extension": ".py",
   "mimetype": "text/x-python",
   "name": "python",
   "nbconvert_exporter": "python",
   "pygments_lexer": "ipython3",
   "version": "3.5.5"
  },
  "widgets": {
   "application/vnd.jupyter.widget-state+json": {
    "state": {},
    "version_major": 2,
    "version_minor": 0
   }
  }
 },
 "nbformat": 4,
 "nbformat_minor": 4
}
