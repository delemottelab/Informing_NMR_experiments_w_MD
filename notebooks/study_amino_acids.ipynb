{
 "cells": [
  {
   "cell_type": "markdown",
   "metadata": {},
   "source": [
    "# Study Amino Acids"
   ]
  },
  {
   "cell_type": "code",
   "execution_count": 1,
   "metadata": {},
   "outputs": [
    {
     "name": "stderr",
     "output_type": "stream",
     "text": [
      "/home/sperez/bin/PYTHON_SCRIPTS/spc_imports.py:21: MatplotlibDeprecationWarning: Support for setting the 'text.latex.preamble' or 'pgf.preamble' rcParam to a list of strings is deprecated since 3.3 and will be removed two minor releases later; set it to a single string instead.\n",
      "  plt.rcParams[\"text.latex.preamble\"] = [\n"
     ]
    },
    {
     "data": {
      "application/vnd.jupyter.widget-view+json": {
       "model_id": "c30e651730d54d4bb5f82ce1b7c2ef84",
       "version_major": 2,
       "version_minor": 0
      },
      "text/plain": []
     },
     "metadata": {},
     "output_type": "display_data"
    }
   ],
   "source": [
    "import sys\n",
    "import shutil\n",
    "sys.path.append(\"..\")\n",
    "from spc_imports import *\n",
    "set_up_plt()\n",
    "import MDAnalysis as mda\n",
    "import nglview as nv\n",
    "RANDOM_SEED = 281090\n",
    "#warnings.filterwarnings(\"ignore\")\n",
    "%run /home/sperez/bin/PYTHON_SCRIPTS/barker.py"
   ]
  },
  {
   "cell_type": "code",
   "execution_count": 5,
   "metadata": {},
   "outputs": [],
   "source": [
    "from MDAnalysis.analysis.hydrogenbonds.hbond_analysis import HydrogenBondAnalysis"
   ]
  },
  {
   "cell_type": "code",
   "execution_count": 2,
   "metadata": {},
   "outputs": [],
   "source": [
    "raw_data_dir = '../data/raw/'\n",
    "interim_data_dir = '../data/interim/'\n",
    "processed_data_dir = '../data/processed/'\n",
    "reports_dir = '../reports/'"
   ]
  },
  {
   "cell_type": "markdown",
   "metadata": {},
   "source": [
    "## Study T101 S102 and T107 and the HB to backbone"
   ]
  },
  {
   "cell_type": "code",
   "execution_count": 6,
   "metadata": {},
   "outputs": [],
   "source": [
    "view = nv.show_file(interim_data_dir+f'5VK6_lb/protein_sk1_pbc.pdb')"
   ]
  },
  {
   "cell_type": "code",
   "execution_count": 7,
   "metadata": {},
   "outputs": [],
   "source": [
    "view.clear()\n",
    "view.add_licorice('90-107')\n",
    "view.add_cartoon()"
   ]
  },
  {
   "cell_type": "code",
   "execution_count": 8,
   "metadata": {},
   "outputs": [
    {
     "data": {
      "application/vnd.jupyter.widget-view+json": {
       "model_id": "cdb0e7b41250436fa86e2dfb6447216c",
       "version_major": 2,
       "version_minor": 0
      },
      "text/plain": [
       "NGLWidget(max_frame=18677)"
      ]
     },
     "metadata": {},
     "output_type": "display_data"
    }
   ],
   "source": [
    "view"
   ]
  },
  {
   "cell_type": "markdown",
   "metadata": {},
   "source": [
    "### S102"
   ]
  },
  {
   "cell_type": "code",
   "execution_count": 25,
   "metadata": {},
   "outputs": [],
   "source": [
    "states = {'5VKH_lb': None,\n",
    "          '5VK6_lb': None,\n",
    "          '3FB5_lb': None,\n",
    "         }"
   ]
  },
  {
   "cell_type": "code",
   "execution_count": null,
   "metadata": {},
   "outputs": [
    {
     "data": {
      "application/vnd.jupyter.widget-view+json": {
       "model_id": "d61240d9b75b401faf5ce6dd07a5d837",
       "version_major": 2,
       "version_minor": 0
      },
      "text/plain": [
       "HBox(children=(FloatProgress(value=0.0, max=18678.0), HTML(value='')))"
      ]
     },
     "metadata": {},
     "output_type": "display_data"
    },
    {
     "name": "stdout",
     "output_type": "stream",
     "text": [
      "\n"
     ]
    },
    {
     "data": {
      "application/vnd.jupyter.widget-view+json": {
       "model_id": "f1811340736b41c7bbee5d14b6ca9a01",
       "version_major": 2,
       "version_minor": 0
      },
      "text/plain": [
       "HBox(children=(FloatProgress(value=0.0, max=17501.0), HTML(value='')))"
      ]
     },
     "metadata": {},
     "output_type": "display_data"
    },
    {
     "name": "stdout",
     "output_type": "stream",
     "text": [
      "\n"
     ]
    },
    {
     "data": {
      "application/vnd.jupyter.widget-view+json": {
       "model_id": "1175d1a3a9d145148e977be9691ec437",
       "version_major": 2,
       "version_minor": 0
      },
      "text/plain": [
       "HBox(children=(FloatProgress(value=0.0, max=30001.0), HTML(value='')))"
      ]
     },
     "metadata": {},
     "output_type": "display_data"
    }
   ],
   "source": [
    "for state in states.keys():\n",
    "    universe = mda.Universe(interim_data_dir+f'{state}/protein_sk1_pbc.pdb',\n",
    "                        interim_data_dir+f'{state}/protein_sk1_pbc.xtc')\n",
    "    h = HydrogenBondAnalysis(universe,'resid 102 and name OG','resid 102 and name HG1','resid 98 and name O')\n",
    "    h.run(verbose=True)\n",
    "    states[state] = h.count_by_time()/4."
   ]
  },
  {
   "cell_type": "code",
   "execution_count": null,
   "metadata": {},
   "outputs": [],
   "source": [
    "fig, ax = plt.subplots(1,1)\n",
    "sns.kdeplot(states['3FB5_lb'],ax=ax,label='o')\n",
    "sns.kdeplot(states['5VK6_lb'],ax=ax,label='fo')\n",
    "sns.kdeplot(states['5VKH_lb'],ax=ax,label='c')\n",
    "ax.set_xlabel('Num. HB. per SU')\n",
    "ax.set_ylabel('p(HB)')\n",
    "ax.legend()\n",
    "ax.set_title('S102-Helix')"
   ]
  },
  {
   "cell_type": "markdown",
   "metadata": {},
   "source": [
    "### T07"
   ]
  },
  {
   "cell_type": "code",
   "execution_count": 25,
   "metadata": {},
   "outputs": [],
   "source": [
    "states = {'5VKH_lb': None,\n",
    "          '5VK6_lb': None,\n",
    "          '3FB5_lb': None,\n",
    "         }"
   ]
  },
  {
   "cell_type": "code",
   "execution_count": null,
   "metadata": {},
   "outputs": [
    {
     "data": {
      "application/vnd.jupyter.widget-view+json": {
       "model_id": "d61240d9b75b401faf5ce6dd07a5d837",
       "version_major": 2,
       "version_minor": 0
      },
      "text/plain": [
       "HBox(children=(FloatProgress(value=0.0, max=18678.0), HTML(value='')))"
      ]
     },
     "metadata": {},
     "output_type": "display_data"
    }
   ],
   "source": [
    "for state in states.keys():\n",
    "    universe = mda.Universe(interim_data_dir+f'{state}/protein_sk1_pbc.pdb',\n",
    "                        interim_data_dir+f'{state}/protein_sk1_pbc.xtc')\n",
    "    h = HydrogenBondAnalysis(universe,'resid 102 and name OG','resid 102 and name HG1','resid 98 and name O')\n",
    "    h.run(verbose=True)\n",
    "    states[state] = h.count_by_time()/4."
   ]
  },
  {
   "cell_type": "code",
   "execution_count": null,
   "metadata": {},
   "outputs": [],
   "source": [
    "fig, ax = plt.subplots(1,1)\n",
    "sns.kdeplot(states['3FB5_lb'],ax=ax,label='o')\n",
    "sns.kdeplot(states['5VK6_lb'],ax=ax,label='fo')\n",
    "sns.kdeplot(states['5VKH_lb'],ax=ax,label='c')\n",
    "ax.set_xlabel('Num. HB. per SU')\n",
    "ax.set_ylabel('p(HB)')\n",
    "ax.legend()\n",
    "ax.set_title('S102-Helix')"
   ]
  },
  {
   "cell_type": "markdown",
   "metadata": {},
   "source": [
    "### T101"
   ]
  },
  {
   "cell_type": "code",
   "execution_count": 25,
   "metadata": {},
   "outputs": [],
   "source": [
    "states = {'5VKH_lb': None,\n",
    "          '5VK6_lb': None,\n",
    "          '3FB5_lb': None,\n",
    "         }"
   ]
  },
  {
   "cell_type": "code",
   "execution_count": null,
   "metadata": {},
   "outputs": [
    {
     "data": {
      "application/vnd.jupyter.widget-view+json": {
       "model_id": "d61240d9b75b401faf5ce6dd07a5d837",
       "version_major": 2,
       "version_minor": 0
      },
      "text/plain": [
       "HBox(children=(FloatProgress(value=0.0, max=18678.0), HTML(value='')))"
      ]
     },
     "metadata": {},
     "output_type": "display_data"
    }
   ],
   "source": [
    "for state in states.keys():\n",
    "    universe = mda.Universe(interim_data_dir+f'{state}/protein_sk1_pbc.pdb',\n",
    "                        interim_data_dir+f'{state}/protein_sk1_pbc.xtc')\n",
    "    h = HydrogenBondAnalysis(universe,'resid 102 and name OG','resid 102 and name HG1','resid 98 and name O')\n",
    "    h.run(verbose=True)\n",
    "    states[state] = h.count_by_time()/4."
   ]
  },
  {
   "cell_type": "code",
   "execution_count": null,
   "metadata": {},
   "outputs": [],
   "source": [
    "fig, ax = plt.subplots(1,1)\n",
    "sns.kdeplot(states['3FB5_lb'],ax=ax,label='o')\n",
    "sns.kdeplot(states['5VK6_lb'],ax=ax,label='fo')\n",
    "sns.kdeplot(states['5VKH_lb'],ax=ax,label='c')\n",
    "ax.set_xlabel('Num. HB. per SU')\n",
    "ax.set_ylabel('p(HB)')\n",
    "ax.legend()\n",
    "ax.set_title('S102-Helix')"
   ]
  },
  {
   "cell_type": "code",
   "execution_count": null,
   "metadata": {},
   "outputs": [],
   "source": []
  }
 ],
 "metadata": {
  "kernelspec": {
   "display_name": "nmr_assign_state",
   "language": "python",
   "name": "nmr_assign_state"
  },
  "language_info": {
   "codemirror_mode": {
    "name": "ipython",
    "version": 3
   },
   "file_extension": ".py",
   "mimetype": "text/x-python",
   "name": "python",
   "nbconvert_exporter": "python",
   "pygments_lexer": "ipython3",
   "version": "3.8.5"
  }
 },
 "nbformat": 4,
 "nbformat_minor": 4
}
