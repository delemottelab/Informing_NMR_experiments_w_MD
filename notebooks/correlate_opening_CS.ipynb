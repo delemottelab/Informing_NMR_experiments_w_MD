{
 "cells": [
  {
   "cell_type": "code",
   "execution_count": 7,
   "metadata": {},
   "outputs": [
    {
     "name": "stderr",
     "output_type": "stream",
     "text": [
      "/Users/sperez/bin/PYTHON_SCRIPTS/spc_imports.py:21: MatplotlibDeprecationWarning: Support for setting the 'text.latex.preamble' or 'pgf.preamble' rcParam to a list of strings is deprecated since 3.3 and will be removed two minor releases later; set it to a single string instead.\n",
      "  plt.rcParams[\"text.latex.preamble\"] = [\n"
     ]
    }
   ],
   "source": [
    "from spc_imports import *\n",
    "set_up_plt()\n",
    "import MDAnalysis as mda\n",
    "import data_process\n",
    "import glob"
   ]
  },
  {
   "cell_type": "code",
   "execution_count": null,
   "metadata": {},
   "outputs": [],
   "source": [
    "%%time\n",
    "skip=10\n",
    "div=skip*2\n",
    "for treant in b:\n",
    "    atoms=['N','C','CA','CB']\n",
    "    iterables=[np.arange(26,122),atoms]\n",
    "    indices=pd.MultiIndex.from_product(iterables, names=['resid','atom'])\n",
    "    print(treant)\n",
    "    top= md.load(treant['traj_comp_a_pbc_protein.xtc'].abspath,top=treant['topo_protein.psf'].abspath)\n",
    "    shifts=[]\n",
    "    shifts2=[]\n",
    "    for chain in [\"A\",\"B\",\"C\",\"D\"]:\n",
    "        trj= md.load(treant['traj_comp_a_pbc_protein.xtc'].abspath,top=treant['topo_protein.psf'].abspath\n",
    "                     ,atom_indices=top.topology.select(f\"segname PRO{chain} and not element H and not name H HA\"))\n",
    "        shifts0=[]\n",
    "        n_frames=trj.n_frames\n",
    "        step=n_frames//div\n",
    "        for j in tqdm(range(0,n_frames-step,step), desc=f't({chain})',leave=True,smoothing=1):\n",
    "            shifts0.append(md.nmr.chemical_shifts_spartaplus(trj[j:j+step:skip]))\n",
    "#         if n_frames%div >skip :\n",
    "#             shifts0.append(md.nmr.chemical_shifts_spartaplus(trj[j+step:n_frames:skip]))\n",
    "        shifts0=pd.concat(shifts0,axis=1)\n",
    "        shifts0=shifts0.reindex(indices)\n",
    "        shifts0.columns=np.arange(0,len(shifts0.columns))\n",
    "        shifts.append(pd.DataFrame({'theo':shifts0.mean(axis=1)}))\n",
    "        shifts2.append(shifts0)\n",
    "    df=pd.concat(shifts)\n",
    "    df=pd.DataFrame(np.hstack([df.groupby(['resid','atom']).mean(),\n",
    "                       df.groupby(['resid','atom']).sem()]),\n",
    "             columns=['mean','sem'],\n",
    "            index=df.groupby(['resid','atom']).mean().index)\n",
    "    df2=pd.concat(shifts2)\n",
    "    df2.to_pickle(treant['NMR/sparta_plus_raw.pkl'].abspath)\n",
    "    my_list0=[]\n",
    "    for atom in atoms:\n",
    "        my_list0.append(df['mean'].loc[:,atom].to_numpy())\n",
    "    for atom in atoms:\n",
    "        my_list0.append(df['sem'].loc[:,atom].to_numpy())\n",
    "    iterables=[['mean','sem'],atoms]\n",
    "    columns=pd.MultiIndex.from_product(iterables, names=['var','atom'])\n",
    "    df=pd.DataFrame(np.vstack(my_list0).T,index=df.index.levels[0],columns=columns)\n",
    "    df.to_pickle(treant['NMR/sparta_plus.pkl'].abspath)"
   ]
  },
  {
   "cell_type": "code",
   "execution_count": 12,
   "metadata": {},
   "outputs": [],
   "source": [
    "raw_data_dir = '../data/raw/'"
   ]
  },
  {
   "cell_type": "markdown",
   "metadata": {},
   "source": [
    "Load the trajectory"
   ]
  },
  {
   "cell_type": "code",
   "execution_count": 42,
   "metadata": {},
   "outputs": [
    {
     "name": "stderr",
     "output_type": "stream",
     "text": [
      "/Users/sperez/bin/anaconda3/envs/NMR_assign_state/lib/python3.8/site-packages/MDAnalysis/coordinates/base.py:865: UserWarning: Reader has no dt information, set to 1.0 ps\n",
      "  warnings.warn(\"Reader has no dt information, set to 1.0 ps\")\n"
     ]
    }
   ],
   "source": [
    "state = '5VKH_3FB5_string'\n",
    "pdbs = sorted(glob.glob(raw_data_dir+f'{state}/*gro'))\n",
    "univ = mda.Universe(raw_data_dir+f'{state}/topo.psf',pdbs)"
   ]
  },
  {
   "cell_type": "markdown",
   "metadata": {},
   "source": [
    "Get the NMR shifts with ppm"
   ]
  },
  {
   "cell_type": "code",
   "execution_count": 66,
   "metadata": {},
   "outputs": [],
   "source": [
    "def get_sparta_plus_chemical_shifts(univ,temp_dir='./'):\n",
    "    import MDAnalysis as mda\n",
    "    import mdtraj as md\n",
    "    '''\n",
    "    Use sparta_plus with the interface of mdtraj to get the chemical shifts of the trajectory.\n",
    "    '''\n",
    "    sel_protein=univ.select_atoms('protein')\n",
    "    xtc = f\"{temp_dir}/tmp.xtc\"\n",
    "    pdb = f\"{temp_dir}/tmp.pdb\"\n",
    "    \n",
    "    for segid in np.unique(sel_protein.segids):\n",
    "        sel_segid=sel_protein.select_atoms(f'segid {segid} and not name H HA')    \n",
    "        with mda.Writer(xtc, n_atoms=sel_segid.atoms.n_atoms) as W:\n",
    "            for ts in univ.trajectory:\n",
    "                W.write(sel_segid)\n",
    "        sel_segid.write(pdb)\n",
    "        \n",
    "        #Load data and calculate NMR-CS\n",
    "        trj= md.load(xtc,pdb)\n",
    "        md.nmr.chemical_shifts_spartaplus(trj)\n",
    "            \n",
    "    os.remove(xtc)\n",
    "    os.remove(pdb)   \n",
    "    return df"
   ]
  },
  {
   "cell_type": "code",
   "execution_count": 67,
   "metadata": {},
   "outputs": [],
   "source": [
    "get_sparta_plus_chemical_shifts(univ,'../data/interim/')"
   ]
  },
  {
   "cell_type": "code",
   "execution_count": 39,
   "metadata": {},
   "outputs": [
    {
     "data": {
      "text/plain": [
       "array(['PROA', 'PROA', 'PROA', ..., 'PROC', 'PROC', 'PROC'], dtype=object)"
      ]
     },
     "execution_count": 39,
     "metadata": {},
     "output_type": "execute_result"
    }
   ],
   "source": [
    "u.select_atoms('protein').segids"
   ]
  },
  {
   "cell_type": "code",
   "execution_count": null,
   "metadata": {},
   "outputs": [],
   "source": []
  }
 ],
 "metadata": {
  "kernelspec": {
   "display_name": "Python 3",
   "language": "python",
   "name": "python3"
  },
  "language_info": {
   "codemirror_mode": {
    "name": "ipython",
    "version": 3
   },
   "file_extension": ".py",
   "mimetype": "text/x-python",
   "name": "python",
   "nbconvert_exporter": "python",
   "pygments_lexer": "ipython3",
   "version": "3.8.5"
  },
  "widgets": {
   "application/vnd.jupyter.widget-state+json": {
    "state": {},
    "version_major": 2,
    "version_minor": 0
   }
  }
 },
 "nbformat": 4,
 "nbformat_minor": 4
}
